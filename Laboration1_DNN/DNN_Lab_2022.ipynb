{
 "cells": [
  {
   "cell_type": "markdown",
   "metadata": {},
   "source": [
    "# Deep Neural Networks Laboration\n",
    "\n",
    "Data used in this laboration are from the Kitsune Network Attack Dataset, https://archive.ics.uci.edu/ml/datasets/Kitsune+Network+Attack+Dataset . We will focus on the 'Mirai' part of the dataset. Your task is to make a DNN that can classify if each attack is benign or malicious. The dataset has 116 covariates, but to make it a bit more difficult we will remove the first 24 covariates.\n",
    "\n",
    "You need to answer all questions in this notebook."
   ]
  },
  {
   "cell_type": "markdown",
   "metadata": {},
   "source": [
    "# Part 1: Get the data\n",
    "\n",
    "Skip this part if you load stored numpy arrays (Mirai*.npy) (which is recommended)\n",
    "\n",
    "Use `wget` in the terminal of your cloud machine (in the same directory as where you have saved this notebook) to download the data, i.e.\n",
    "\n",
    "wget https://archive.ics.uci.edu/ml/machine-learning-databases/00516/mirai/Mirai_dataset.csv.gz\n",
    "\n",
    "wget https://archive.ics.uci.edu/ml/machine-learning-databases/00516/mirai/Mirai_labels.csv.gz\n",
    "\n",
    "Then unpack the files using `gunzip` in the terminal, i.e.\n",
    "\n",
    "gunzip Mirai_dataset.csv.gz\n",
    "\n",
    "gunzip Mirai_labels.csv.gz"
   ]
  },
  {
   "cell_type": "markdown",
   "metadata": {},
   "source": [
    "# Part 2: Get a graphics card\n",
    "\n",
    "Skip this part if you run on the CPU (recommended)\n",
    "\n",
    "Lets make sure that our script can see the graphics card that will be used. The graphics cards will perform all the time consuming calculations in every training iteration."
   ]
  },
  {
   "cell_type": "code",
   "execution_count": 2,
   "metadata": {},
   "outputs": [],
   "source": [
    "import os\n",
    "import warnings\n",
    "\n",
    "# Ignore FutureWarning from numpy\n",
    "warnings.simplefilter(action='ignore', category=FutureWarning)\n",
    "\n",
    "import keras.backend as K\n",
    "import tensorflow as tf\n",
    "\n",
    "\n",
    "os.environ[\"CUDA_DEVICE_ORDER\"]=\"PCI_BUS_ID\";\n",
    " \n",
    "# The GPU id to use, usually either \"0\" or \"1\";\n",
    "os.environ[\"CUDA_VISIBLE_DEVICES\"]=\"0\";\n",
    "\n",
    "# Allow growth of GPU memory, otherwise it will always look like all the memory is being used\n",
    "physical_devices = tf.config.experimental.list_physical_devices('GPU')\n",
    "#tf.config.experimental.set_memory_growth(physical_devices[1], True) \n",
    "\n",
    "#print(physical_devices)"
   ]
  },
  {
   "cell_type": "raw",
   "metadata": {},
   "source": [
    "# Part 3: Hardware\n",
    "\n",
    "In deep learning, the computer hardware is very important. You should always know what kind of hardware you are working on. Lets pretend that everyone is using an Nvidia RTX 3090 graphics card.\n",
    "\n",
    "Question 1: Google the name of the graphics card, how many CUDA cores does it have?\n",
    "\n",
    "Question 2: How much memory does the graphics card have?\n",
    "\n",
    "Question 3: What is stored in the GPU memory while training a DNN ?"
   ]
  },
  {
   "cell_type": "markdown",
   "metadata": {},
   "source": [
    "# Part 4: Load the data\n",
    "\n",
    "To make this step easier, directly load the data from saved numpy arrays (.npy) (recommended)\n",
    "\n",
    "\n",
    "Load the dataset from the csv files, it will take some time since it is almost 1.4 GB. (not recommended, unless you want to learn how to do it)\n",
    "\n",
    "We will use the function `genfromtxt` to load the data. (not recommended, unless you want to learn how to do it)\n",
    "\n",
    "https://docs.scipy.org/doc/numpy/reference/generated/numpy.genfromtxt.html\n",
    "\n",
    "Load the data from csv files the first time, then save the data as numpy files for faster loading the next time.\n"
   ]
  },
  {
   "cell_type": "code",
   "execution_count": 3,
   "metadata": {},
   "outputs": [
    {
     "name": "stdout",
     "output_type": "stream",
     "text": [
      "The covariates have size (764137, 92).\n",
      "The labels have size (764137,).\n",
      "Examples of class 1 = 642516\n",
      "Examples of class 0 = 121621\n"
     ]
    }
   ],
   "source": [
    "from numpy import genfromtxt # Not needed if you load data from numpy arrays\n",
    "import numpy as np\n",
    "\n",
    "# Load data from numpy arrays, choose reduced files if the training takes too long\n",
    "X = np.load('Mirai_data.npy')\n",
    "Y = np.load('Mirai_labels.npy')\n",
    "\n",
    "\n",
    "\n",
    "# Remove the first 24 covariates (columns)\n",
    "X = X[:,24:]\n",
    "\n",
    "print('The covariates have size {}.'.format(X.shape))\n",
    "print('The labels have size {}.'.format(Y.shape))\n",
    "\n",
    "# Print the number of examples of each class\n",
    "print('Examples of class 1 = {}'.format(np.count_nonzero(Y == 1)))\n",
    "print('Examples of class 0 = {}'.format(np.count_nonzero(Y == 0)))"
   ]
  },
  {
   "cell_type": "markdown",
   "metadata": {},
   "source": [
    "# Part 5: How good is a naive classifier?\n",
    "\n",
    "Question 4: Given the number of examples from each class, how high classification performance can a naive classifier obtain? The naive classifier will assume that all examples belong to one class. Note: you do not need to make a naive classifier, this is a theoretical question, just to understand how good performance we can obtain by guessing that all examples belong to one class."
   ]
  },
  {
   "cell_type": "code",
   "execution_count": 5,
   "metadata": {},
   "outputs": [
    {
     "name": "stdout",
     "output_type": "stream",
     "text": [
      "NaNs in the labels = 0\n",
      "NaNs in the covariates = 0\n"
     ]
    }
   ],
   "source": [
    "# It is common to have NaNs in the data, lets check for it. Hint: np.isnan()\n",
    "np.isnan(X)\n",
    "\n",
    "# Print the number of NaNs (not a number) in the labels\n",
    "print('NaNs in the labels = {}'.format(np.count_nonzero(np.isnan(Y))))\n",
    "\n",
    "# Print the number of NaNs in the covariates\n",
    "print('NaNs in the covariates = {}'.format(np.count_nonzero(np.isnan(X))))"
   ]
  },
  {
   "cell_type": "markdown",
   "metadata": {},
   "source": [
    "# Part 6: Preprocessing\n",
    "\n",
    "Lets do some simple preprocessing"
   ]
  },
  {
   "cell_type": "code",
   "execution_count": 6,
   "metadata": {},
   "outputs": [
    {
     "name": "stdout",
     "output_type": "stream",
     "text": [
      "[-3.19451533e-18 -6.32970181e-14  1.19926356e-13  4.56743018e-15\n",
      "  4.10210037e-14  1.46130975e-13  5.85246484e-16 -1.69734859e-14\n",
      " -3.36915700e-13  1.28688437e-12 -2.69360995e-12 -1.10733213e-13\n",
      " -1.22392702e-13 -1.70649630e-13 -1.02461166e-14  2.50701280e-12\n",
      "  1.47553162e-12  1.08446837e-12 -1.04981959e-13  6.83458762e-14\n",
      " -1.03373555e-13  5.98825773e-14 -1.02025960e-12 -1.68983055e-12\n",
      " -1.79101143e-12 -1.31828514e-13  4.42580403e-13  6.14635580e-13\n",
      "  5.78048199e-14 -4.92623328e-13 -2.54513072e-12  1.86544900e-13\n",
      " -1.53444593e-13  1.68079591e-12  9.30041709e-13  1.50738177e-13\n",
      " -1.15688852e-12 -3.62610361e-13 -1.71390937e-12 -2.09264067e-13\n",
      "  1.07161976e-12 -1.45236885e-12 -1.69724579e-14 -1.64918984e-16\n",
      " -5.13444996e-14 -1.02171349e-14 -1.74685907e-15  1.34264921e-13\n",
      "  5.98801969e-14  1.48745574e-17 -4.25442340e-13  5.78079594e-14\n",
      "  1.25638129e-15  1.69449684e-13  1.50725881e-13  2.14439542e-14\n",
      "  3.65457183e-14  1.17260451e-13 -8.82752870e-13 -6.34816648e-13\n",
      " -1.62109649e-12  2.63270303e-13 -7.57215123e-15 -2.89395002e-14\n",
      " -3.90180996e-13 -1.53167085e-12 -9.57913621e-13  2.47411065e-13\n",
      "  2.44200541e-13 -6.73050928e-15  1.07502596e-13  2.58222203e-13\n",
      " -1.87714601e-13 -1.19882476e-12 -2.17154862e-12  5.48444735e-14\n",
      "  5.46183481e-15  3.71315442e-14  1.47576646e-13 -1.62639245e-12\n",
      " -1.23986972e-13 -1.71744315e-12  5.29956657e-13 -3.21442452e-14\n",
      " -4.59767392e-14  3.56347870e-13 -1.48544246e-12 -1.26642728e-13\n",
      "  1.52633871e-13  9.58048710e-14  4.34603426e-14 -4.07615740e-14]\n",
      "[1. 1. 1. 1. 1. 1. 1. 1. 1. 1. 1. 1. 1. 1. 1. 1. 1. 1. 1. 1. 1. 1. 1. 1.\n",
      " 1. 1. 1. 1. 1. 1. 1. 1. 1. 1. 1. 1. 1. 1. 1. 1. 1. 1. 1. 1. 1. 1. 1. 1.\n",
      " 1. 1. 1. 1. 1. 1. 1. 1. 1. 1. 1. 1. 1. 1. 1. 1. 1. 1. 1. 1. 1. 1. 1. 1.\n",
      " 1. 1. 1. 1. 1. 1. 1. 1. 1. 1. 1. 1. 1. 1. 1. 1. 1. 1. 1. 1.]\n"
     ]
    }
   ],
   "source": [
    "# Convert covariates to floats\n",
    "X = X.astype(float)\n",
    "\n",
    "# Convert labels to integers\n",
    "Y = Y.astype(int)\n",
    "\n",
    "# Remove mean of each covariate (column)\n",
    "X = X - np.mean(X, axis = 0)\n",
    "\n",
    "# Divide each covariate (column) by its standard deviation\n",
    "X = X/np.std(X, axis = 0)\n",
    "\n",
    "\n",
    "# Check that mean is 0 and standard deviation is 1 for all covariates, by printing mean and std\n",
    "print(np.mean(X, axis = 0))\n",
    "print(np.std(X, axis = 0))\n"
   ]
  },
  {
   "cell_type": "markdown",
   "metadata": {},
   "source": [
    "# Part 7: Split the dataset\n",
    "\n",
    "Use the first 70% of the dataset for training, leave the other 30% for validation and test, call the variables\n",
    "\n",
    "Xtrain (70%)\n",
    "\n",
    "Xtemp  (30%)\n",
    "\n",
    "Ytrain (70%)\n",
    "\n",
    "Ytemp  (30%)\n",
    "\n",
    "We use a function from scikit learn.\n",
    "https://scikit-learn.org/stable/modules/generated/sklearn.model_selection.train_test_split.html\n"
   ]
  },
  {
   "cell_type": "code",
   "execution_count": 7,
   "metadata": {},
   "outputs": [
    {
     "name": "stdout",
     "output_type": "stream",
     "text": [
      "Xtrain has size (534895, 92).\n",
      "Ytrain has size (534895,).\n",
      "Xtemp has size (229242, 92).\n",
      "Ytemp has size (229242,).\n",
      "Training Examples of class 1 = 449647 and class 0 = 85248\n",
      "Temp Examples of class 1 = 192869 and class 0 = 36373\n"
     ]
    }
   ],
   "source": [
    "from sklearn.model_selection import train_test_split\n",
    "\n",
    "# Your code\n",
    "Xtrain, Xtemp, Ytrain, Ytemp = train_test_split(X, Y, test_size=0.3, random_state=42)\n",
    "\n",
    "print('Xtrain has size {}.'.format(Xtrain.shape))\n",
    "print('Ytrain has size {}.'.format(Ytrain.shape))\n",
    "\n",
    "print('Xtemp has size {}.'.format(Xtemp.shape))\n",
    "print('Ytemp has size {}.'.format(Ytemp.shape))\n",
    "\n",
    "# Print the number of examples of each class, for the training data and the remaining 30%\n",
    "print('Training Examples of class 1 = {} and class 0 = {}'.format(np.count_nonzero(Ytrain == 1),np.count_nonzero(Ytrain == 0)))\n",
    "print('Temp Examples of class 1 = {} and class 0 = {}'.format(np.count_nonzero(Ytemp == 1),np.count_nonzero(Ytemp == 0)))\n"
   ]
  },
  {
   "cell_type": "markdown",
   "metadata": {},
   "source": [
    "#  Part 8: Split non-training data data into validation and test\n",
    "Now split your non-training data (Xtemp, Ytemp) into 50% validation (Xval, Yval) and 50% testing (Xtest, Ytest), we use a function from scikit learn. In total this gives us 70% for training, 15% for validation, 15% for test.\n",
    "\n",
    "https://scikit-learn.org/stable/modules/generated/sklearn.model_selection.train_test_split.html\n",
    "\n",
    "Do all variables (Xtrain,Ytrain), (Xval,Yval), (Xtest,Ytest) have the shape that you expect?"
   ]
  },
  {
   "cell_type": "code",
   "execution_count": 8,
   "metadata": {},
   "outputs": [
    {
     "name": "stdout",
     "output_type": "stream",
     "text": [
      "The validation and test data have size (114621, 92), (114621, 92), (114621,) and (114621,)\n"
     ]
    }
   ],
   "source": [
    "from sklearn.model_selection import train_test_split\n",
    "\n",
    "Xval, Xtest, Yval, Ytest = train_test_split(Xtemp, Ytemp, test_size=0.5, random_state=42)\n",
    "\n",
    "\n",
    "print('The validation and test data have size {}, {}, {} and {}'.format(Xval.shape, Xtest.shape, Yval.shape, Ytest.shape))"
   ]
  },
  {
   "cell_type": "markdown",
   "metadata": {},
   "source": [
    "# Part 9: DNN classification\n",
    "\n",
    "Finish this code to create a first version of the classifier using a DNN. Start with a simple network with 2 dense layers (with 20 nodes each), using sigmoid activation functions. The final dense layer should have a single node and a sigmoid activation function. We start with the SGD optimizer.\n",
    "\n",
    "For different parts of this notebook you need to go back here, add more things, and re-run this cell to re-define the build function.\n",
    "\n",
    "Relevant functions are\n",
    "\n",
    "`model.add()`, adds a layer to the network\n",
    "\n",
    "`Dense()`, a dense network layer\n",
    "\n",
    "`model.compile()`, compile the model, add \" metrics=['accuracy'] \" to print the classification accuracy during the training\n",
    "\n",
    "See https://keras.io/layers/core/ for information on how the `Dense()` function works\n",
    "\n",
    "Import a relevant cost / loss function for binary classification from keras.losses (https://keras.io/losses/)\n",
    "\n",
    "See the following links for how to compile, train and evaluate the model\n",
    "\n",
    "https://keras.io/api/models/model_training_apis/#compile-method\n",
    "\n",
    "https://keras.io/api/models/model_training_apis/#fit-method\n",
    "\n",
    "https://keras.io/api/models/model_training_apis/#evaluate-method\n"
   ]
  },
  {
   "cell_type": "code",
   "execution_count": 113,
   "metadata": {},
   "outputs": [],
   "source": [
    "from keras.models import Sequential, Model\n",
    "from keras.layers import Input, Dense\n",
    "from keras.losses import binary_crossentropy as BC\n",
    "from tensorflow.keras.optimizers import SGD\n",
    "from tensorflow.keras.optimizers import Adam\n",
    "from tensorflow.keras.layers import BatchNormalization, Dropout\n",
    "from tensorflow.keras import layers\n",
    "from tensorflow.keras import activations\n",
    "\n",
    "\n",
    "# Set seed from random number generator, for better comparisons\n",
    "from numpy.random import seed\n",
    "seed(123)\n",
    "\n",
    "def build_DNN(input_shape, n_layers, n_nodes, act_fun='sigmoid', optimizer='sgd', learning_rate=0.01, \n",
    "              use_bn=False, use_dropout=False, use_custom_dropout=False):\n",
    "    \n",
    "    # Setup optimizer, depending on input parameter string\n",
    "    if optimizer == 'sgd' :\n",
    "        optimizer = SGD(learning_rate=learning_rate)\n",
    "    if optimizer == 'adam' :\n",
    "        optimizer = Adam(learning_rate=learning_rate) \n",
    "        \n",
    "    \n",
    "        \n",
    "    # Setup a sequential model\n",
    "    model = Sequential()\n",
    "\n",
    "    # Add layers to the model, using the input parameters of the build_DNN function\n",
    "    if use_bn == True :\n",
    "        model.add(BatchNormalization())\n",
    "    if use_dropout == True :\n",
    "        model.add(Dropout(rate=0.5))\n",
    "    if use_custom_dropout == True :\n",
    "        model.add(myDropout(0.5))\n",
    "    \n",
    "    \n",
    "    # Add first layer, requires input shape\n",
    "    model.add(Dense(n_nodes, activation = act_fun, input_dim = input_shape))\n",
    "    \n",
    "    # Add remaining layers, do not require input shape\n",
    "    for i in range(n_layers-1):\n",
    "        model.add(Dense(n_nodes, activation = act_fun))\n",
    "        #model.add(Dense(n_nodes))\n",
    "        if use_bn == True :\n",
    "            model.add(BatchNormalization())\n",
    "        if use_dropout == True :\n",
    "            model.add(Dropout(rate=0.5))\n",
    "        if use_custom_dropout == True :\n",
    "            model.add(myDropout(0.5))   \n",
    "    \n",
    "    \n",
    "    # Add final layer\n",
    "    model.add(Dense(1, activation = 'sigmoid'))\n",
    "    \n",
    "    # Compile model\n",
    "    model.compile(optimizer = optimizer,\n",
    "                 loss = BC,\n",
    "                 metrics = ['accuracy'])\n",
    "    \n",
    "    return model"
   ]
  },
  {
   "cell_type": "code",
   "execution_count": 10,
   "metadata": {},
   "outputs": [],
   "source": [
    "# Lets define a help function for plotting the training results\n",
    "\n",
    "import matplotlib.pyplot as plt\n",
    "def plot_results(history):\n",
    "    \n",
    "    val_loss = history.history['val_loss']\n",
    "    acc = history.history['accuracy']\n",
    "    loss = history.history['loss']\n",
    "    val_acc = history.history['val_accuracy']\n",
    "    \n",
    "    plt.figure(figsize=(10,4))\n",
    "    plt.xlabel('Epochs')\n",
    "    plt.ylabel('Loss')\n",
    "    plt.plot(loss)\n",
    "    plt.plot(val_loss)\n",
    "    plt.legend(['Training','Validation'])\n",
    "\n",
    "    plt.figure(figsize=(10,4))\n",
    "    plt.xlabel('Epochs')\n",
    "    plt.ylabel('Accuracy')\n",
    "    plt.plot(acc)\n",
    "    plt.plot(val_acc)\n",
    "    plt.legend(['Training','Validation'])\n",
    "\n",
    "    plt.show()"
   ]
  },
  {
   "cell_type": "markdown",
   "metadata": {},
   "source": [
    "# Part 10: Train the DNN\n",
    "\n",
    "Time to train the DNN, we start simple with 2 layers with 20 nodes each, learning rate 0.1.\n",
    "\n",
    "Relevant functions\n",
    "\n",
    "`build_DNN`, the function we defined in Part 9, call it with the parameters you want to use\n",
    "\n",
    "`model.fit()`, train the model with some training data\n",
    "\n",
    "`model.evaluate()`, apply the trained model to some test data\n",
    "\n",
    "See the following links for how to train and evaluate the model\n",
    "\n",
    "https://keras.io/api/models/model_training_apis/#fit-method\n",
    "\n",
    "https://keras.io/api/models/model_training_apis/#evaluate-method\n"
   ]
  },
  {
   "cell_type": "markdown",
   "metadata": {},
   "source": [
    "### 2 layers, 20 nodes"
   ]
  },
  {
   "cell_type": "code",
   "execution_count": 37,
   "metadata": {
    "scrolled": true
   },
   "outputs": [
    {
     "name": "stdout",
     "output_type": "stream",
     "text": [
      "Epoch 1/20\n",
      "54/54 [==============================] - 0s 8ms/step - loss: 0.5290 - accuracy: 0.8406 - val_loss: 0.4754 - val_accuracy: 0.8404\n",
      "Epoch 2/20\n",
      "54/54 [==============================] - 0s 5ms/step - loss: 0.4574 - accuracy: 0.8406 - val_loss: 0.4454 - val_accuracy: 0.8404\n",
      "Epoch 3/20\n",
      "54/54 [==============================] - 0s 4ms/step - loss: 0.4393 - accuracy: 0.8406 - val_loss: 0.4348 - val_accuracy: 0.8404\n",
      "Epoch 4/20\n",
      "54/54 [==============================] - 0s 5ms/step - loss: 0.4314 - accuracy: 0.8406 - val_loss: 0.4288 - val_accuracy: 0.8404\n",
      "Epoch 5/20\n",
      "54/54 [==============================] - 0s 5ms/step - loss: 0.4261 - accuracy: 0.8406 - val_loss: 0.4239 - val_accuracy: 0.8404\n",
      "Epoch 6/20\n",
      "54/54 [==============================] - 0s 5ms/step - loss: 0.4215 - accuracy: 0.8406 - val_loss: 0.4194 - val_accuracy: 0.8404\n",
      "Epoch 7/20\n",
      "54/54 [==============================] - 0s 5ms/step - loss: 0.4170 - accuracy: 0.8406 - val_loss: 0.4150 - val_accuracy: 0.8404\n",
      "Epoch 8/20\n",
      "54/54 [==============================] - 0s 4ms/step - loss: 0.4126 - accuracy: 0.8406 - val_loss: 0.4106 - val_accuracy: 0.8404\n",
      "Epoch 9/20\n",
      "54/54 [==============================] - 0s 4ms/step - loss: 0.4082 - accuracy: 0.8406 - val_loss: 0.4061 - val_accuracy: 0.8404\n",
      "Epoch 10/20\n",
      "54/54 [==============================] - 0s 5ms/step - loss: 0.4037 - accuracy: 0.8406 - val_loss: 0.4016 - val_accuracy: 0.8404\n",
      "Epoch 11/20\n",
      "54/54 [==============================] - 0s 5ms/step - loss: 0.3991 - accuracy: 0.8406 - val_loss: 0.3970 - val_accuracy: 0.8404\n",
      "Epoch 12/20\n",
      "54/54 [==============================] - 0s 5ms/step - loss: 0.3945 - accuracy: 0.8406 - val_loss: 0.3923 - val_accuracy: 0.8404\n",
      "Epoch 13/20\n",
      "54/54 [==============================] - 0s 4ms/step - loss: 0.3897 - accuracy: 0.8406 - val_loss: 0.3874 - val_accuracy: 0.8404\n",
      "Epoch 14/20\n",
      "54/54 [==============================] - 0s 4ms/step - loss: 0.3848 - accuracy: 0.8406 - val_loss: 0.3825 - val_accuracy: 0.8404\n",
      "Epoch 15/20\n",
      "54/54 [==============================] - 0s 4ms/step - loss: 0.3798 - accuracy: 0.8406 - val_loss: 0.3774 - val_accuracy: 0.8404\n",
      "Epoch 16/20\n",
      "54/54 [==============================] - 0s 4ms/step - loss: 0.3747 - accuracy: 0.8406 - val_loss: 0.3721 - val_accuracy: 0.8404\n",
      "Epoch 17/20\n",
      "54/54 [==============================] - 0s 4ms/step - loss: 0.3694 - accuracy: 0.8406 - val_loss: 0.3668 - val_accuracy: 0.8404\n",
      "Epoch 18/20\n",
      "54/54 [==============================] - 0s 4ms/step - loss: 0.3640 - accuracy: 0.8406 - val_loss: 0.3613 - val_accuracy: 0.8404\n",
      "Epoch 19/20\n",
      "54/54 [==============================] - 0s 4ms/step - loss: 0.3585 - accuracy: 0.8406 - val_loss: 0.3557 - val_accuracy: 0.8404\n",
      "Epoch 20/20\n",
      "54/54 [==============================] - 0s 5ms/step - loss: 0.3529 - accuracy: 0.8406 - val_loss: 0.3500 - val_accuracy: 0.8404\n"
     ]
    }
   ],
   "source": [
    "# Setup some training parameters\n",
    "batch_size = 10000\n",
    "epochs = 20\n",
    "\n",
    "input_shape = 92\n",
    "\n",
    "# Build the model\n",
    "model1 = build_DNN(input_shape = input_shape, n_layers = 2, n_nodes = 20)\n",
    "#model1 = build_DNN(input_shape = input_shape, n_layers = 10, n_nodes = 20)\n",
    "\n",
    "# Train the model, provide training data and validation data\n",
    "history1 = model1.fit(Xtrain, \n",
    "                      Ytrain, \n",
    "                      epochs = epochs, \n",
    "                      batch_size = batch_size, \n",
    "                      validation_data = (Xval, Yval))"
   ]
  },
  {
   "cell_type": "code",
   "execution_count": 38,
   "metadata": {},
   "outputs": [
    {
     "name": "stdout",
     "output_type": "stream",
     "text": [
      "3582/3582 [==============================] - 1s 414us/step - loss: 0.3478 - accuracy: 0.8422\n",
      "Test loss: 0.3478\n",
      "Test accuracy: 0.8422\n"
     ]
    }
   ],
   "source": [
    "# Evaluate the model on the test data\n",
    "score = model1.evaluate(Xtest, Ytest)\n",
    "\n",
    "print('Test loss: %.4f' % score[0])\n",
    "print('Test accuracy: %.4f' % score[1])"
   ]
  },
  {
   "cell_type": "code",
   "execution_count": 39,
   "metadata": {},
   "outputs": [
    {
     "data": {
      "image/png": "[encoded data removed]",
      "text/plain": [
       "<Figure size 720x288 with 1 Axes>"
      ]
     },
     "metadata": {
      "needs_background": "light"
     },
     "output_type": "display_data"
    },
    {
     "data": {
      "image/png": "[encoded data removed]",
      "text/plain": [
       "<Figure size 720x288 with 1 Axes>"
      ]
     },
     "metadata": {
      "needs_background": "light"
     },
     "output_type": "display_data"
    }
   ],
   "source": [
    "# Plot the history from the training run\n",
    "plot_results(history1)"
   ]
  },
  {
   "cell_type": "markdown",
   "metadata": {},
   "source": [
    "# Part 11: More questions\n",
    "\n",
    "Question 5: What happens if you add several Dense layers without specifying the activation function?\n",
    "\n",
    "Question 6: How are the weights in each dense layer initialized as default? How are the bias weights initialized?\n"
   ]
  },
  {
   "cell_type": "markdown",
   "metadata": {},
   "source": [
    "# Part 12: Balancing the classes\n",
    "\n",
    "This dataset is rather unbalanced, we need to define class weights so that the training pays more attention to the class with fewer samples. We use a function in scikit learn\n",
    "\n",
    "https://scikit-learn.org/stable/modules/generated/sklearn.utils.class_weight.compute_class_weight.html\n",
    "\n",
    "You need to call the function something like this\n",
    "\n",
    "class_weights = class_weight.compute_class_weight(class_weight = , classes = , y = )\n",
    "\n",
    "otherwise it will complain"
   ]
  },
  {
   "cell_type": "code",
   "execution_count": 40,
   "metadata": {},
   "outputs": [
    {
     "name": "stdout",
     "output_type": "stream",
     "text": [
      "[3.13728768 0.59479436]\n"
     ]
    }
   ],
   "source": [
    "from sklearn.utils import class_weight\n",
    "\n",
    "# Calculate class weights\n",
    "class_weights = class_weight.compute_class_weight(class_weight = 'balanced',\n",
    "                                                 classes = np.unique(Ytrain),\n",
    "                                                 y = Ytrain)\n",
    "\n",
    "# Print the class weights\n",
    "print(class_weights)\n",
    "\n",
    "# Keras wants the weights in this form, uncomment and change value1 and value2 to your weights, \n",
    "# or get them from the array that is returned from class_weight\n",
    "\n",
    "class_weights = {0: class_weights[0],\n",
    "                 1: class_weights[1]}\n"
   ]
  },
  {
   "cell_type": "markdown",
   "metadata": {},
   "source": [
    "### 2 layers, 20 nodes, class weights"
   ]
  },
  {
   "cell_type": "code",
   "execution_count": 41,
   "metadata": {
    "scrolled": true
   },
   "outputs": [
    {
     "name": "stdout",
     "output_type": "stream",
     "text": [
      "Epoch 1/20\n",
      "54/54 [==============================] - 0s 9ms/step - loss: 0.7208 - accuracy: 0.8406 - val_loss: 0.6092 - val_accuracy: 0.8404\n",
      "Epoch 2/20\n",
      "54/54 [==============================] - 0s 5ms/step - loss: 0.6906 - accuracy: 0.8410 - val_loss: 0.6494 - val_accuracy: 0.8431\n",
      "Epoch 3/20\n",
      "54/54 [==============================] - 0s 5ms/step - loss: 0.6793 - accuracy: 0.8451 - val_loss: 0.6623 - val_accuracy: 0.8549\n",
      "Epoch 4/20\n",
      "54/54 [==============================] - 0s 5ms/step - loss: 0.6708 - accuracy: 0.8618 - val_loss: 0.6625 - val_accuracy: 0.8688\n",
      "Epoch 5/20\n",
      "54/54 [==============================] - 0s 5ms/step - loss: 0.6626 - accuracy: 0.8700 - val_loss: 0.6576 - val_accuracy: 0.8737\n",
      "Epoch 6/20\n",
      "54/54 [==============================] - 0s 6ms/step - loss: 0.6541 - accuracy: 0.8717 - val_loss: 0.6509 - val_accuracy: 0.8737\n",
      "Epoch 7/20\n",
      "54/54 [==============================] - 0s 6ms/step - loss: 0.6450 - accuracy: 0.8727 - val_loss: 0.6420 - val_accuracy: 0.8761\n",
      "Epoch 8/20\n",
      "54/54 [==============================] - 0s 5ms/step - loss: 0.6354 - accuracy: 0.8744 - val_loss: 0.6325 - val_accuracy: 0.8770\n",
      "Epoch 9/20\n",
      "54/54 [==============================] - 0s 5ms/step - loss: 0.6250 - accuracy: 0.8755 - val_loss: 0.6226 - val_accuracy: 0.8775\n",
      "Epoch 10/20\n",
      "54/54 [==============================] - 0s 4ms/step - loss: 0.6139 - accuracy: 0.8757 - val_loss: 0.6111 - val_accuracy: 0.8782\n",
      "Epoch 11/20\n",
      "54/54 [==============================] - 0s 5ms/step - loss: 0.6019 - accuracy: 0.8764 - val_loss: 0.5985 - val_accuracy: 0.8789\n",
      "Epoch 12/20\n",
      "54/54 [==============================] - 0s 5ms/step - loss: 0.5890 - accuracy: 0.8772 - val_loss: 0.5850 - val_accuracy: 0.8796\n",
      "Epoch 13/20\n",
      "54/54 [==============================] - 0s 5ms/step - loss: 0.5752 - accuracy: 0.8779 - val_loss: 0.5714 - val_accuracy: 0.8802\n",
      "Epoch 14/20\n",
      "54/54 [==============================] - 0s 5ms/step - loss: 0.5606 - accuracy: 0.8792 - val_loss: 0.5563 - val_accuracy: 0.8814\n",
      "Epoch 15/20\n",
      "54/54 [==============================] - 0s 4ms/step - loss: 0.5452 - accuracy: 0.8795 - val_loss: 0.5412 - val_accuracy: 0.8813\n",
      "Epoch 16/20\n",
      "54/54 [==============================] - 0s 5ms/step - loss: 0.5290 - accuracy: 0.8794 - val_loss: 0.5250 - val_accuracy: 0.8814\n",
      "Epoch 17/20\n",
      "54/54 [==============================] - 0s 5ms/step - loss: 0.5123 - accuracy: 0.8796 - val_loss: 0.5088 - val_accuracy: 0.8815\n",
      "Epoch 18/20\n",
      "54/54 [==============================] - 0s 5ms/step - loss: 0.4952 - accuracy: 0.8797 - val_loss: 0.4922 - val_accuracy: 0.8816\n",
      "Epoch 19/20\n",
      "54/54 [==============================] - 0s 5ms/step - loss: 0.4779 - accuracy: 0.8797 - val_loss: 0.4759 - val_accuracy: 0.8816\n",
      "Epoch 20/20\n",
      "54/54 [==============================] - 0s 4ms/step - loss: 0.4606 - accuracy: 0.8798 - val_loss: 0.4599 - val_accuracy: 0.8817\n"
     ]
    }
   ],
   "source": [
    "# Setup some training parameters\n",
    "batch_size = 10000\n",
    "epochs = 20\n",
    "input_shape = 92\n",
    "\n",
    "# Build and train model\n",
    "model2 = build_DNN(input_shape = input_shape, n_layers = 2, n_nodes = 20)\n",
    "\n",
    "history2 = model2.fit(Xtrain, \n",
    "                      Ytrain, \n",
    "                      epochs = epochs, \n",
    "                      batch_size = batch_size, \n",
    "                      validation_data = (Xval, Yval),\n",
    "                      class_weight = class_weights)"
   ]
  },
  {
   "cell_type": "code",
   "execution_count": 42,
   "metadata": {},
   "outputs": [
    {
     "name": "stdout",
     "output_type": "stream",
     "text": [
      "3582/3582 [==============================] - 1s 418us/step - loss: 0.4612 - accuracy: 0.8796\n",
      "Test loss: 0.4612\n",
      "Test accuracy: 0.8796\n"
     ]
    }
   ],
   "source": [
    "# Evaluate model on test data\n",
    "score = model2.evaluate(Xtest, Ytest)\n",
    "\n",
    "print('Test loss: %.4f' % score[0])\n",
    "print('Test accuracy: %.4f' % score[1])"
   ]
  },
  {
   "cell_type": "code",
   "execution_count": null,
   "metadata": {},
   "outputs": [],
   "source": [
    "plot_results(history2)"
   ]
  },
  {
   "cell_type": "markdown",
   "metadata": {},
   "source": [
    "# Part 13: More questions\n",
    "\n",
    "Skip questions 8 and 9 if you run on the CPU (recommended)\n",
    "\n",
    "Question 7: Why do we have to use a batch size? Why can't we simply use all data at once? This is more relevant for even larger datasets.\n",
    "\n",
    "Question 8: How busy is the GPU for a batch size of 100? How much GPU memory is used? Hint: run 'nvidia-smi' on the computer a few times during training.\n",
    "\n",
    "Question 9: What is the processing time for one training epoch when the batch size is 100? What is the processing time for one epoch when the batch size is 1,000? What is the processing time for one epoch when the batch size is 10,000? Explain the results. \n",
    "\n",
    "Question 10: How many times are the weights in the DNN updated in each training epoch if the batch size is 100? How many times are the weights in the DNN updated in each training epoch if the batch size is 1,000? How many times are the weights in the DNN updated in each training epoch if the batch size is 10,000?  \n",
    "\n",
    "Question 11: What limits how large the batch size can be?\n",
    "\n",
    "Question 12: Generally speaking, how is the learning rate related to the batch size? If the batch size is decreased, how should the learning rate be changed?\n",
    "\n",
    "Lets use a batch size of 10,000 from now on, and a learning rate of 0.1."
   ]
  },
  {
   "cell_type": "markdown",
   "metadata": {},
   "source": [
    "# Part 14: Increasing the complexity\n",
    "\n",
    "Lets try some different configurations of number of layers and number of nodes per layer.\n",
    "\n",
    "Question 13: How many trainable parameters does the network with 4 dense layers with 50 nodes each have, compared to the initial network with 2 layers and 20 nodes per layer? Hint: use model.summary()"
   ]
  },
  {
   "cell_type": "markdown",
   "metadata": {},
   "source": [
    "### 4 layers, 20 nodes, class weights"
   ]
  },
  {
   "cell_type": "code",
   "execution_count": 43,
   "metadata": {
    "scrolled": true
   },
   "outputs": [
    {
     "name": "stdout",
     "output_type": "stream",
     "text": [
      "Epoch 1/20\n",
      "54/54 [==============================] - 0s 8ms/step - loss: 0.6922 - accuracy: 0.1594 - val_loss: 0.6970 - val_accuracy: 0.1596\n",
      "Epoch 2/20\n",
      "54/54 [==============================] - 0s 6ms/step - loss: 0.6921 - accuracy: 0.1596 - val_loss: 0.6944 - val_accuracy: 0.1599\n",
      "Epoch 3/20\n",
      "54/54 [==============================] - 0s 6ms/step - loss: 0.6921 - accuracy: 0.3792 - val_loss: 0.6932 - val_accuracy: 0.2251\n",
      "Epoch 4/20\n",
      "54/54 [==============================] - 0s 5ms/step - loss: 0.6920 - accuracy: 0.5719 - val_loss: 0.6922 - val_accuracy: 0.8739\n",
      "Epoch 5/20\n",
      "54/54 [==============================] - 0s 5ms/step - loss: 0.6920 - accuracy: 0.7440 - val_loss: 0.6922 - val_accuracy: 0.8740\n",
      "Epoch 6/20\n",
      "54/54 [==============================] - 0s 6ms/step - loss: 0.6920 - accuracy: 0.8741 - val_loss: 0.6924 - val_accuracy: 0.8704\n",
      "Epoch 7/20\n",
      "54/54 [==============================] - 0s 5ms/step - loss: 0.6919 - accuracy: 0.8721 - val_loss: 0.6924 - val_accuracy: 0.8704\n",
      "Epoch 8/20\n",
      "54/54 [==============================] - 0s 5ms/step - loss: 0.6919 - accuracy: 0.8732 - val_loss: 0.6924 - val_accuracy: 0.8701\n",
      "Epoch 9/20\n",
      "54/54 [==============================] - 0s 6ms/step - loss: 0.6918 - accuracy: 0.8723 - val_loss: 0.6923 - val_accuracy: 0.8711\n",
      "Epoch 10/20\n",
      "54/54 [==============================] - 0s 5ms/step - loss: 0.6918 - accuracy: 0.8736 - val_loss: 0.6925 - val_accuracy: 0.8676\n",
      "Epoch 11/20\n",
      "54/54 [==============================] - 0s 5ms/step - loss: 0.6918 - accuracy: 0.8540 - val_loss: 0.6921 - val_accuracy: 0.8733\n",
      "Epoch 12/20\n",
      "54/54 [==============================] - 0s 5ms/step - loss: 0.6917 - accuracy: 0.8726 - val_loss: 0.6922 - val_accuracy: 0.8724\n",
      "Epoch 13/20\n",
      "54/54 [==============================] - 0s 5ms/step - loss: 0.6917 - accuracy: 0.8705 - val_loss: 0.6917 - val_accuracy: 0.8798\n",
      "Epoch 14/20\n",
      "54/54 [==============================] - 0s 5ms/step - loss: 0.6917 - accuracy: 0.8727 - val_loss: 0.6917 - val_accuracy: 0.8790\n",
      "Epoch 15/20\n",
      "54/54 [==============================] - 0s 5ms/step - loss: 0.6916 - accuracy: 0.8744 - val_loss: 0.6917 - val_accuracy: 0.8785\n",
      "Epoch 16/20\n",
      "54/54 [==============================] - 0s 6ms/step - loss: 0.6916 - accuracy: 0.8762 - val_loss: 0.6916 - val_accuracy: 0.8795\n",
      "Epoch 17/20\n",
      "54/54 [==============================] - 0s 5ms/step - loss: 0.6915 - accuracy: 0.8779 - val_loss: 0.6919 - val_accuracy: 0.8735\n",
      "Epoch 18/20\n",
      "54/54 [==============================] - 0s 5ms/step - loss: 0.6915 - accuracy: 0.8696 - val_loss: 0.6916 - val_accuracy: 0.8790\n",
      "Epoch 19/20\n",
      "54/54 [==============================] - 0s 5ms/step - loss: 0.6915 - accuracy: 0.8778 - val_loss: 0.6917 - val_accuracy: 0.8751\n",
      "Epoch 20/20\n",
      "54/54 [==============================] - 0s 5ms/step - loss: 0.6914 - accuracy: 0.8753 - val_loss: 0.6919 - val_accuracy: 0.8731\n"
     ]
    }
   ],
   "source": [
    "# Setup some training parameters\n",
    "batch_size = 10000\n",
    "epochs = 20\n",
    "input_shape = 92\n",
    "\n",
    "# Build and train model\n",
    "model3 = build_DNN(input_shape = input_shape, n_layers = 4, n_nodes = 20)\n",
    "\n",
    "history3 = model3.fit(Xtrain, \n",
    "                      Ytrain, \n",
    "                      epochs = epochs, \n",
    "                      batch_size = batch_size, \n",
    "                      validation_data = (Xval, Yval),\n",
    "                      class_weight = class_weights)"
   ]
  },
  {
   "cell_type": "code",
   "execution_count": 44,
   "metadata": {},
   "outputs": [
    {
     "name": "stdout",
     "output_type": "stream",
     "text": [
      "3582/3582 [==============================] - 2s 472us/step - loss: 0.6919 - accuracy: 0.8710\n",
      "Test loss: 0.6919\n",
      "Test accuracy: 0.8710\n"
     ]
    }
   ],
   "source": [
    "# Evaluate model on test data\n",
    "score = model3.evaluate(Xtest, Ytest)\n",
    "\n",
    "print('Test loss: %.4f' % score[0])\n",
    "print('Test accuracy: %.4f' % score[1])"
   ]
  },
  {
   "cell_type": "code",
   "execution_count": 45,
   "metadata": {},
   "outputs": [
    {
     "data": {
      "image/png": "[encoded data removed]",
      "text/plain": [
       "<Figure size 720x288 with 1 Axes>"
      ]
     },
     "metadata": {
      "needs_background": "light"
     },
     "output_type": "display_data"
    },
    {
     "data": {
      "image/png": "[encoded data removed]",
      "text/plain": [
       "<Figure size 720x288 with 1 Axes>"
      ]
     },
     "metadata": {
      "needs_background": "light"
     },
     "output_type": "display_data"
    }
   ],
   "source": [
    "plot_results(history3)"
   ]
  },
  {
   "cell_type": "markdown",
   "metadata": {},
   "source": [
    "### 2 layers, 50 nodes, class weights"
   ]
  },
  {
   "cell_type": "code",
   "execution_count": 46,
   "metadata": {
    "scrolled": true
   },
   "outputs": [
    {
     "name": "stdout",
     "output_type": "stream",
     "text": [
      "Epoch 1/20\n",
      "54/54 [==============================] - 1s 10ms/step - loss: 0.7037 - accuracy: 0.8438 - val_loss: 0.6744 - val_accuracy: 0.8528\n",
      "Epoch 2/20\n",
      "54/54 [==============================] - 0s 9ms/step - loss: 0.6762 - accuracy: 0.8739 - val_loss: 0.6663 - val_accuracy: 0.8848\n",
      "Epoch 3/20\n",
      "54/54 [==============================] - 0s 8ms/step - loss: 0.6556 - accuracy: 0.8867 - val_loss: 0.6477 - val_accuracy: 0.8930\n",
      "Epoch 4/20\n",
      "54/54 [==============================] - 0s 8ms/step - loss: 0.6354 - accuracy: 0.8912 - val_loss: 0.6268 - val_accuracy: 0.8940\n",
      "Epoch 5/20\n",
      "54/54 [==============================] - 0s 9ms/step - loss: 0.6152 - accuracy: 0.8918 - val_loss: 0.6068 - val_accuracy: 0.8940\n",
      "Epoch 6/20\n",
      "54/54 [==============================] - 0s 8ms/step - loss: 0.5946 - accuracy: 0.8914 - val_loss: 0.5852 - val_accuracy: 0.8919\n",
      "Epoch 7/20\n",
      "54/54 [==============================] - 0s 8ms/step - loss: 0.5735 - accuracy: 0.8898 - val_loss: 0.5631 - val_accuracy: 0.8917\n",
      "Epoch 8/20\n",
      "54/54 [==============================] - 0s 9ms/step - loss: 0.5518 - accuracy: 0.8895 - val_loss: 0.5427 - val_accuracy: 0.8908\n",
      "Epoch 9/20\n",
      "54/54 [==============================] - 0s 8ms/step - loss: 0.5295 - accuracy: 0.8889 - val_loss: 0.5207 - val_accuracy: 0.8903\n",
      "Epoch 10/20\n",
      "54/54 [==============================] - 0s 9ms/step - loss: 0.5067 - accuracy: 0.8884 - val_loss: 0.4989 - val_accuracy: 0.8900\n",
      "Epoch 11/20\n",
      "54/54 [==============================] - 0s 9ms/step - loss: 0.4838 - accuracy: 0.8879 - val_loss: 0.4756 - val_accuracy: 0.8900\n",
      "Epoch 12/20\n",
      "54/54 [==============================] - 1s 9ms/step - loss: 0.4610 - accuracy: 0.8878 - val_loss: 0.4545 - val_accuracy: 0.8899\n",
      "Epoch 13/20\n",
      "54/54 [==============================] - 1s 11ms/step - loss: 0.4387 - accuracy: 0.8874 - val_loss: 0.4345 - val_accuracy: 0.8888\n",
      "Epoch 14/20\n",
      "54/54 [==============================] - 1s 11ms/step - loss: 0.4171 - accuracy: 0.8863 - val_loss: 0.4153 - val_accuracy: 0.8874\n",
      "Epoch 15/20\n",
      "54/54 [==============================] - 1s 10ms/step - loss: 0.3966 - accuracy: 0.8853 - val_loss: 0.3969 - val_accuracy: 0.8871\n",
      "Epoch 16/20\n",
      "54/54 [==============================] - 1s 10ms/step - loss: 0.3775 - accuracy: 0.8850 - val_loss: 0.3798 - val_accuracy: 0.8870\n",
      "Epoch 17/20\n",
      "54/54 [==============================] - 0s 9ms/step - loss: 0.3598 - accuracy: 0.8850 - val_loss: 0.3653 - val_accuracy: 0.8867\n",
      "Epoch 18/20\n",
      "54/54 [==============================] - 1s 14ms/step - loss: 0.3438 - accuracy: 0.8848 - val_loss: 0.3515 - val_accuracy: 0.8867\n",
      "Epoch 19/20\n",
      "54/54 [==============================] - 1s 11ms/step - loss: 0.3293 - accuracy: 0.8848 - val_loss: 0.3400 - val_accuracy: 0.8866\n",
      "Epoch 20/20\n",
      "54/54 [==============================] - 1s 10ms/step - loss: 0.3163 - accuracy: 0.8848 - val_loss: 0.3294 - val_accuracy: 0.8867\n"
     ]
    }
   ],
   "source": [
    "# Setup some training parameters\n",
    "batch_size = 10000\n",
    "epochs = 20\n",
    "input_shape = 92\n",
    "\n",
    "# Build and train model\n",
    "model4 = build_DNN(input_shape = input_shape, n_layers = 2, n_nodes = 50)\n",
    "\n",
    "history4 = model4.fit(Xtrain, \n",
    "                      Ytrain, \n",
    "                      epochs = epochs, \n",
    "                      batch_size = batch_size, \n",
    "                      validation_data = (Xval, Yval),\n",
    "                      class_weight = class_weights)"
   ]
  },
  {
   "cell_type": "code",
   "execution_count": 47,
   "metadata": {},
   "outputs": [
    {
     "name": "stdout",
     "output_type": "stream",
     "text": [
      "3582/3582 [==============================] - 2s 444us/step - loss: 0.3316 - accuracy: 0.8844\n",
      "Test loss: 0.3316\n",
      "Test accuracy: 0.8844\n"
     ]
    }
   ],
   "source": [
    "# Evaluate model on test data\n",
    "score = model4.evaluate(Xtest, Ytest)\n",
    "\n",
    "print('Test loss: %.4f' % score[0])\n",
    "print('Test accuracy: %.4f' % score[1])"
   ]
  },
  {
   "cell_type": "code",
   "execution_count": 48,
   "metadata": {},
   "outputs": [
    {
     "data": {
      "image/png": "[encoded data removed]",
      "text/plain": [
       "<Figure size 720x288 with 1 Axes>"
      ]
     },
     "metadata": {
      "needs_background": "light"
     },
     "output_type": "display_data"
    },
    {
     "data": {
      "image/png": "[encoded data removed]",
      "text/plain": [
       "<Figure size 720x288 with 1 Axes>"
      ]
     },
     "metadata": {
      "needs_background": "light"
     },
     "output_type": "display_data"
    }
   ],
   "source": [
    "plot_results(history4)"
   ]
  },
  {
   "cell_type": "markdown",
   "metadata": {},
   "source": [
    "### 4 layers, 50 nodes, class weights"
   ]
  },
  {
   "cell_type": "code",
   "execution_count": 49,
   "metadata": {
    "scrolled": true
   },
   "outputs": [
    {
     "name": "stdout",
     "output_type": "stream",
     "text": [
      "Epoch 1/20\n",
      "54/54 [==============================] - 1s 17ms/step - loss: 0.7405 - accuracy: 0.1594 - val_loss: 0.7555 - val_accuracy: 0.1596\n",
      "Epoch 2/20\n",
      "54/54 [==============================] - 1s 12ms/step - loss: 0.6930 - accuracy: 0.1594 - val_loss: 0.6992 - val_accuracy: 0.1596\n",
      "Epoch 3/20\n",
      "54/54 [==============================] - 1s 12ms/step - loss: 0.6920 - accuracy: 0.3500 - val_loss: 0.6922 - val_accuracy: 0.8913\n",
      "Epoch 4/20\n",
      "54/54 [==============================] - 1s 12ms/step - loss: 0.6919 - accuracy: 0.7906 - val_loss: 0.6916 - val_accuracy: 0.8893\n",
      "Epoch 5/20\n",
      "54/54 [==============================] - 1s 13ms/step - loss: 0.6918 - accuracy: 0.8846 - val_loss: 0.6923 - val_accuracy: 0.8832\n",
      "Epoch 6/20\n",
      "54/54 [==============================] - 1s 13ms/step - loss: 0.6917 - accuracy: 0.8348 - val_loss: 0.6912 - val_accuracy: 0.8895\n",
      "Epoch 7/20\n",
      "54/54 [==============================] - 1s 13ms/step - loss: 0.6916 - accuracy: 0.7686 - val_loss: 0.6911 - val_accuracy: 0.8898\n",
      "Epoch 8/20\n",
      "54/54 [==============================] - 1s 12ms/step - loss: 0.6915 - accuracy: 0.8852 - val_loss: 0.6916 - val_accuracy: 0.8950\n",
      "Epoch 9/20\n",
      "54/54 [==============================] - 1s 13ms/step - loss: 0.6914 - accuracy: 0.8749 - val_loss: 0.6909 - val_accuracy: 0.8904\n",
      "Epoch 10/20\n",
      "54/54 [==============================] - 1s 12ms/step - loss: 0.6913 - accuracy: 0.8834 - val_loss: 0.6922 - val_accuracy: 0.8752\n",
      "Epoch 11/20\n",
      "54/54 [==============================] - 1s 12ms/step - loss: 0.6912 - accuracy: 0.8826 - val_loss: 0.6911 - val_accuracy: 0.8970\n",
      "Epoch 12/20\n",
      "54/54 [==============================] - 1s 13ms/step - loss: 0.6911 - accuracy: 0.8865 - val_loss: 0.6919 - val_accuracy: 0.8779\n",
      "Epoch 13/20\n",
      "54/54 [==============================] - 1s 12ms/step - loss: 0.6910 - accuracy: 0.8818 - val_loss: 0.6911 - val_accuracy: 0.8953\n",
      "Epoch 14/20\n",
      "54/54 [==============================] - 1s 12ms/step - loss: 0.6909 - accuracy: 0.8856 - val_loss: 0.6903 - val_accuracy: 0.8939\n",
      "Epoch 15/20\n",
      "54/54 [==============================] - 1s 12ms/step - loss: 0.6908 - accuracy: 0.8913 - val_loss: 0.6913 - val_accuracy: 0.8865\n",
      "Epoch 16/20\n",
      "54/54 [==============================] - 1s 12ms/step - loss: 0.6907 - accuracy: 0.8829 - val_loss: 0.6907 - val_accuracy: 0.8960\n",
      "Epoch 17/20\n",
      "54/54 [==============================] - 1s 12ms/step - loss: 0.6906 - accuracy: 0.8870 - val_loss: 0.6905 - val_accuracy: 0.8961\n",
      "Epoch 18/20\n",
      "54/54 [==============================] - 1s 12ms/step - loss: 0.6905 - accuracy: 0.8915 - val_loss: 0.6902 - val_accuracy: 0.8981\n",
      "Epoch 19/20\n",
      "54/54 [==============================] - 1s 12ms/step - loss: 0.6904 - accuracy: 0.8872 - val_loss: 0.6909 - val_accuracy: 0.8862\n",
      "Epoch 20/20\n",
      "54/54 [==============================] - 1s 12ms/step - loss: 0.6903 - accuracy: 0.8846 - val_loss: 0.6897 - val_accuracy: 0.8989\n"
     ]
    }
   ],
   "source": [
    "# Setup some training parameters\n",
    "batch_size = 10000\n",
    "epochs = 20\n",
    "input_shape = 92\n",
    "\n",
    "# Build and train model\n",
    "model5 = build_DNN(input_shape = input_shape, n_layers = 4, n_nodes = 50)\n",
    "\n",
    "history5 = model5.fit(Xtrain, \n",
    "                      Ytrain, \n",
    "                      epochs = epochs, \n",
    "                      batch_size = batch_size, \n",
    "                      validation_data = (Xval, Yval),\n",
    "                      class_weight = class_weights)"
   ]
  },
  {
   "cell_type": "code",
   "execution_count": 50,
   "metadata": {},
   "outputs": [
    {
     "name": "stdout",
     "output_type": "stream",
     "text": [
      "3582/3582 [==============================] - 2s 446us/step - loss: 0.6897 - accuracy: 0.8970\n",
      "Test loss: 0.6897\n",
      "Test accuracy: 0.8970\n"
     ]
    }
   ],
   "source": [
    "# Evaluate model on test data\n",
    "score = model5.evaluate(Xtest, Ytest)\n",
    "\n",
    "print('Test loss: %.4f' % score[0])\n",
    "print('Test accuracy: %.4f' % score[1])"
   ]
  },
  {
   "cell_type": "code",
   "execution_count": 51,
   "metadata": {},
   "outputs": [
    {
     "data": {
      "image/png": "[encoded data removed]",
      "text/plain": [
       "<Figure size 720x288 with 1 Axes>"
      ]
     },
     "metadata": {
      "needs_background": "light"
     },
     "output_type": "display_data"
    },
    {
     "data": {
      "image/png": "[encoded data removed]",
      "text/plain": [
       "<Figure size 720x288 with 1 Axes>"
      ]
     },
     "metadata": {
      "needs_background": "light"
     },
     "output_type": "display_data"
    }
   ],
   "source": [
    "plot_results(history5)"
   ]
  },
  {
   "cell_type": "markdown",
   "metadata": {},
   "source": [
    "# Part 15: Batch normalization\n",
    "\n",
    "Now add batch normalization after each dense layer in `build_DNN`. Remember to import BatchNormalization from keras.layers. \n",
    "\n",
    "See https://keras.io/layers/normalization/ for information about how to call the function.\n",
    "\n",
    "Question 14: Why is batch normalization important when training deep networks?"
   ]
  },
  {
   "cell_type": "markdown",
   "metadata": {},
   "source": [
    "### 2 layers, 20 nodes, class weights, batch normalization"
   ]
  },
  {
   "cell_type": "code",
   "execution_count": 52,
   "metadata": {
    "scrolled": true
   },
   "outputs": [
    {
     "name": "stdout",
     "output_type": "stream",
     "text": [
      "Epoch 1/20\n",
      "54/54 [==============================] - 1s 14ms/step - loss: 0.3948 - accuracy: 0.8860 - val_loss: 0.4308 - val_accuracy: 0.8404\n",
      "Epoch 2/20\n",
      "54/54 [==============================] - 1s 12ms/step - loss: 0.3193 - accuracy: 0.8895 - val_loss: 0.4241 - val_accuracy: 0.8404\n",
      "Epoch 3/20\n",
      "54/54 [==============================] - 1s 11ms/step - loss: 0.2955 - accuracy: 0.8915 - val_loss: 0.4134 - val_accuracy: 0.8404\n",
      "Epoch 4/20\n",
      "54/54 [==============================] - 1s 11ms/step - loss: 0.2779 - accuracy: 0.8930 - val_loss: 0.3974 - val_accuracy: 0.8405\n",
      "Epoch 5/20\n",
      "54/54 [==============================] - 1s 12ms/step - loss: 0.2645 - accuracy: 0.8948 - val_loss: 0.3757 - val_accuracy: 0.8438\n",
      "Epoch 6/20\n",
      "54/54 [==============================] - 1s 11ms/step - loss: 0.2539 - accuracy: 0.8970 - val_loss: 0.3501 - val_accuracy: 0.8520\n",
      "Epoch 7/20\n",
      "54/54 [==============================] - 1s 11ms/step - loss: 0.2454 - accuracy: 0.8993 - val_loss: 0.3225 - val_accuracy: 0.8747\n",
      "Epoch 8/20\n",
      "54/54 [==============================] - 1s 12ms/step - loss: 0.2383 - accuracy: 0.9014 - val_loss: 0.2958 - val_accuracy: 0.9087\n",
      "Epoch 9/20\n",
      "54/54 [==============================] - 1s 11ms/step - loss: 0.2328 - accuracy: 0.9027 - val_loss: 0.2740 - val_accuracy: 0.9132\n",
      "Epoch 10/20\n",
      "54/54 [==============================] - 1s 12ms/step - loss: 0.2280 - accuracy: 0.9038 - val_loss: 0.2601 - val_accuracy: 0.9137\n",
      "Epoch 11/20\n",
      "54/54 [==============================] - 1s 11ms/step - loss: 0.2240 - accuracy: 0.9047 - val_loss: 0.2552 - val_accuracy: 0.9127\n",
      "Epoch 12/20\n",
      "54/54 [==============================] - 1s 11ms/step - loss: 0.2204 - accuracy: 0.9053 - val_loss: 0.2567 - val_accuracy: 0.9118\n",
      "Epoch 13/20\n",
      "54/54 [==============================] - 1s 12ms/step - loss: 0.2173 - accuracy: 0.9060 - val_loss: 0.2604 - val_accuracy: 0.9112\n",
      "Epoch 14/20\n",
      "54/54 [==============================] - 1s 11ms/step - loss: 0.2147 - accuracy: 0.9064 - val_loss: 0.2641 - val_accuracy: 0.9107\n",
      "Epoch 15/20\n",
      "54/54 [==============================] - 1s 11ms/step - loss: 0.2125 - accuracy: 0.9066 - val_loss: 0.2662 - val_accuracy: 0.9103\n",
      "Epoch 16/20\n",
      "54/54 [==============================] - 1s 12ms/step - loss: 0.2103 - accuracy: 0.9070 - val_loss: 0.2671 - val_accuracy: 0.9099\n",
      "Epoch 17/20\n",
      "54/54 [==============================] - 1s 11ms/step - loss: 0.2085 - accuracy: 0.9071 - val_loss: 0.2666 - val_accuracy: 0.9096\n",
      "Epoch 18/20\n",
      "54/54 [==============================] - 1s 12ms/step - loss: 0.2069 - accuracy: 0.9073 - val_loss: 0.2648 - val_accuracy: 0.9096\n",
      "Epoch 19/20\n",
      "54/54 [==============================] - 1s 12ms/step - loss: 0.2054 - accuracy: 0.9075 - val_loss: 0.2639 - val_accuracy: 0.9094\n",
      "Epoch 20/20\n",
      "54/54 [==============================] - 1s 11ms/step - loss: 0.2039 - accuracy: 0.9076 - val_loss: 0.2619 - val_accuracy: 0.9095\n"
     ]
    }
   ],
   "source": [
    "# Setup some training parameters\n",
    "batch_size = 10000\n",
    "epochs = 20\n",
    "input_shape = 92\n",
    "\n",
    "# Build and train model\n",
    "model6 = build_DNN(input_shape = input_shape, n_layers = 2, n_nodes = 20, use_bn = True)\n",
    "\n",
    "history6 = model6.fit(Xtrain, \n",
    "                      Ytrain, \n",
    "                      epochs = epochs, \n",
    "                      batch_size = batch_size, \n",
    "                      validation_data = (Xval, Yval),\n",
    "                      class_weight = class_weights)"
   ]
  },
  {
   "cell_type": "code",
   "execution_count": 53,
   "metadata": {},
   "outputs": [
    {
     "name": "stdout",
     "output_type": "stream",
     "text": [
      "3582/3582 [==============================] - 2s 460us/step - loss: 0.2655 - accuracy: 0.9080\n",
      "Test loss: 0.2655\n",
      "Test accuracy: 0.9080\n"
     ]
    }
   ],
   "source": [
    "# Evaluate model on test data\n",
    "score = model6.evaluate(Xtest, Ytest)\n",
    "\n",
    "print('Test loss: %.4f' % score[0])\n",
    "print('Test accuracy: %.4f' % score[1])"
   ]
  },
  {
   "cell_type": "code",
   "execution_count": 54,
   "metadata": {},
   "outputs": [
    {
     "data": {
      "image/png": "[encoded data removed]",
      "text/plain": [
       "<Figure size 720x288 with 1 Axes>"
      ]
     },
     "metadata": {
      "needs_background": "light"
     },
     "output_type": "display_data"
    },
    {
     "data": {
      "image/png": "[encoded data removed]",
      "text/plain": [
       "<Figure size 720x288 with 1 Axes>"
      ]
     },
     "metadata": {
      "needs_background": "light"
     },
     "output_type": "display_data"
    }
   ],
   "source": [
    "plot_results(history6)"
   ]
  },
  {
   "cell_type": "markdown",
   "metadata": {},
   "source": [
    "# Part 16: Activation function\n",
    "\n",
    "Try changing the activation function in each layer from sigmoid to ReLU, write down the test accuracy.\n",
    "\n",
    "Note: the last layer should still have a sigmoid activation function.\n",
    "\n",
    "https://keras.io/api/layers/activations/"
   ]
  },
  {
   "cell_type": "markdown",
   "metadata": {},
   "source": [
    "### 2 layers, 20 nodes, class weights, ReLU, no batch normalization"
   ]
  },
  {
   "cell_type": "code",
   "execution_count": 55,
   "metadata": {
    "scrolled": true
   },
   "outputs": [
    {
     "name": "stdout",
     "output_type": "stream",
     "text": [
      "Epoch 1/20\n",
      "54/54 [==============================] - 0s 7ms/step - loss: 0.5147 - accuracy: 0.7491 - val_loss: 0.6459 - val_accuracy: 0.8775\n",
      "Epoch 2/20\n",
      "54/54 [==============================] - 0s 5ms/step - loss: 0.4422 - accuracy: 0.8758 - val_loss: 0.5661 - val_accuracy: 0.8787\n",
      "Epoch 3/20\n",
      "54/54 [==============================] - 0s 5ms/step - loss: 0.3906 - accuracy: 0.8771 - val_loss: 0.4958 - val_accuracy: 0.8798\n",
      "Epoch 4/20\n",
      "54/54 [==============================] - 0s 4ms/step - loss: 0.3458 - accuracy: 0.8782 - val_loss: 0.4327 - val_accuracy: 0.8809\n",
      "Epoch 5/20\n",
      "54/54 [==============================] - 0s 4ms/step - loss: 0.3090 - accuracy: 0.8799 - val_loss: 0.3831 - val_accuracy: 0.8830\n",
      "Epoch 6/20\n",
      "54/54 [==============================] - 0s 5ms/step - loss: 0.2814 - accuracy: 0.8822 - val_loss: 0.3475 - val_accuracy: 0.8851\n",
      "Epoch 7/20\n",
      "54/54 [==============================] - 0s 5ms/step - loss: 0.2618 - accuracy: 0.8838 - val_loss: 0.3229 - val_accuracy: 0.8865\n",
      "Epoch 8/20\n",
      "54/54 [==============================] - 0s 4ms/step - loss: 0.2479 - accuracy: 0.8851 - val_loss: 0.3060 - val_accuracy: 0.8875\n",
      "Epoch 9/20\n",
      "54/54 [==============================] - 0s 4ms/step - loss: 0.2378 - accuracy: 0.8861 - val_loss: 0.2934 - val_accuracy: 0.8885\n",
      "Epoch 10/20\n",
      "54/54 [==============================] - 0s 5ms/step - loss: 0.2304 - accuracy: 0.8869 - val_loss: 0.2850 - val_accuracy: 0.8894\n",
      "Epoch 11/20\n",
      "54/54 [==============================] - 0s 5ms/step - loss: 0.2247 - accuracy: 0.8878 - val_loss: 0.2781 - val_accuracy: 0.8902\n",
      "Epoch 12/20\n",
      "54/54 [==============================] - 0s 5ms/step - loss: 0.2199 - accuracy: 0.8885 - val_loss: 0.2725 - val_accuracy: 0.8908\n",
      "Epoch 13/20\n",
      "54/54 [==============================] - 0s 4ms/step - loss: 0.2161 - accuracy: 0.8892 - val_loss: 0.2691 - val_accuracy: 0.8913\n",
      "Epoch 14/20\n",
      "54/54 [==============================] - 0s 4ms/step - loss: 0.2128 - accuracy: 0.8897 - val_loss: 0.2643 - val_accuracy: 0.8920\n",
      "Epoch 15/20\n",
      "54/54 [==============================] - 0s 5ms/step - loss: 0.2101 - accuracy: 0.8903 - val_loss: 0.2615 - val_accuracy: 0.8925\n",
      "Epoch 16/20\n",
      "54/54 [==============================] - 0s 5ms/step - loss: 0.2078 - accuracy: 0.8908 - val_loss: 0.2582 - val_accuracy: 0.8929\n",
      "Epoch 17/20\n",
      "54/54 [==============================] - 0s 5ms/step - loss: 0.2058 - accuracy: 0.8913 - val_loss: 0.2568 - val_accuracy: 0.8932\n",
      "Epoch 18/20\n",
      "54/54 [==============================] - 0s 5ms/step - loss: 0.2041 - accuracy: 0.8918 - val_loss: 0.2545 - val_accuracy: 0.8936\n",
      "Epoch 19/20\n",
      "54/54 [==============================] - 0s 5ms/step - loss: 0.2026 - accuracy: 0.8921 - val_loss: 0.2522 - val_accuracy: 0.8940\n",
      "Epoch 20/20\n",
      "54/54 [==============================] - 0s 4ms/step - loss: 0.2013 - accuracy: 0.8925 - val_loss: 0.2511 - val_accuracy: 0.8943\n"
     ]
    }
   ],
   "source": [
    "# Setup some training parameters\n",
    "batch_size = 10000\n",
    "epochs = 20\n",
    "input_shape = 92\n",
    "\n",
    "# Build and train model\n",
    "model7 = build_DNN(input_shape = input_shape, n_layers = 2, n_nodes = 20, act_fun = 'relu')\n",
    "\n",
    "history7 = model7.fit(Xtrain, \n",
    "                      Ytrain, \n",
    "                      epochs = epochs, \n",
    "                      batch_size = batch_size, \n",
    "                      validation_data = (Xval, Yval),\n",
    "                      class_weight = class_weights)"
   ]
  },
  {
   "cell_type": "code",
   "execution_count": 56,
   "metadata": {},
   "outputs": [
    {
     "name": "stdout",
     "output_type": "stream",
     "text": [
      "3582/3582 [==============================] - 2s 434us/step - loss: 0.2545 - accuracy: 0.8928\n",
      "Test loss: 0.2545\n",
      "Test accuracy: 0.8928\n"
     ]
    }
   ],
   "source": [
    "# Evaluate model on test data\n",
    "score = model7.evaluate(Xtest, Ytest)\n",
    "\n",
    "print('Test loss: %.4f' % score[0])\n",
    "print('Test accuracy: %.4f' % score[1])"
   ]
  },
  {
   "cell_type": "code",
   "execution_count": 57,
   "metadata": {},
   "outputs": [
    {
     "data": {
      "image/png": "[encoded data removed]",
      "text/plain": [
       "<Figure size 720x288 with 1 Axes>"
      ]
     },
     "metadata": {
      "needs_background": "light"
     },
     "output_type": "display_data"
    },
    {
     "data": {
      "image/png": "[encoded data removed]",
      "text/plain": [
       "<Figure size 720x288 with 1 Axes>"
      ]
     },
     "metadata": {
      "needs_background": "light"
     },
     "output_type": "display_data"
    }
   ],
   "source": [
    "plot_results(history7)"
   ]
  },
  {
   "cell_type": "markdown",
   "metadata": {},
   "source": [
    "# Part 17: Optimizer\n",
    "\n",
    "Try changing the optimizer from SGD to Adam (with learning rate 0.1 as before). Remember to import the Adam optimizer from keras.optimizers. \n",
    "\n",
    "https://keras.io/optimizers/\n"
   ]
  },
  {
   "cell_type": "markdown",
   "metadata": {},
   "source": [
    "### 2 layers, 20 nodes, class weights, Adam optimizer, no batch normalization, sigmoid activations"
   ]
  },
  {
   "cell_type": "code",
   "execution_count": 59,
   "metadata": {
    "scrolled": true
   },
   "outputs": [
    {
     "name": "stdout",
     "output_type": "stream",
     "text": [
      "Epoch 1/20\n",
      "54/54 [==============================] - 0s 8ms/step - loss: 0.6278 - accuracy: 0.8649 - val_loss: 0.5403 - val_accuracy: 0.8795\n",
      "Epoch 2/20\n",
      "54/54 [==============================] - 0s 5ms/step - loss: 0.4236 - accuracy: 0.8781 - val_loss: 0.3656 - val_accuracy: 0.8813\n",
      "Epoch 3/20\n",
      "54/54 [==============================] - 0s 5ms/step - loss: 0.2950 - accuracy: 0.8798 - val_loss: 0.3046 - val_accuracy: 0.8818\n",
      "Epoch 4/20\n",
      "54/54 [==============================] - 0s 5ms/step - loss: 0.2489 - accuracy: 0.8804 - val_loss: 0.2838 - val_accuracy: 0.8831\n",
      "Epoch 5/20\n",
      "54/54 [==============================] - 0s 5ms/step - loss: 0.2299 - accuracy: 0.8823 - val_loss: 0.2713 - val_accuracy: 0.8853\n",
      "Epoch 6/20\n",
      "54/54 [==============================] - 0s 5ms/step - loss: 0.2185 - accuracy: 0.8855 - val_loss: 0.2599 - val_accuracy: 0.8893\n",
      "Epoch 7/20\n",
      "54/54 [==============================] - 0s 5ms/step - loss: 0.2098 - accuracy: 0.8897 - val_loss: 0.2501 - val_accuracy: 0.8932\n",
      "Epoch 8/20\n",
      "54/54 [==============================] - 0s 5ms/step - loss: 0.2021 - accuracy: 0.8925 - val_loss: 0.2416 - val_accuracy: 0.8965\n",
      "Epoch 9/20\n",
      "54/54 [==============================] - 0s 5ms/step - loss: 0.1952 - accuracy: 0.8981 - val_loss: 0.2356 - val_accuracy: 0.9028\n",
      "Epoch 10/20\n",
      "54/54 [==============================] - 0s 5ms/step - loss: 0.1901 - accuracy: 0.9018 - val_loss: 0.2312 - val_accuracy: 0.9051\n",
      "Epoch 11/20\n",
      "54/54 [==============================] - 0s 5ms/step - loss: 0.1864 - accuracy: 0.9048 - val_loss: 0.2287 - val_accuracy: 0.9076\n",
      "Epoch 12/20\n",
      "54/54 [==============================] - 0s 5ms/step - loss: 0.1836 - accuracy: 0.9068 - val_loss: 0.2260 - val_accuracy: 0.9093\n",
      "Epoch 13/20\n",
      "54/54 [==============================] - 0s 5ms/step - loss: 0.1814 - accuracy: 0.9082 - val_loss: 0.2238 - val_accuracy: 0.9109\n",
      "Epoch 14/20\n",
      "54/54 [==============================] - 0s 5ms/step - loss: 0.1796 - accuracy: 0.9101 - val_loss: 0.2227 - val_accuracy: 0.9125\n",
      "Epoch 15/20\n",
      "54/54 [==============================] - 0s 5ms/step - loss: 0.1781 - accuracy: 0.9113 - val_loss: 0.2215 - val_accuracy: 0.9135\n",
      "Epoch 16/20\n",
      "54/54 [==============================] - 0s 5ms/step - loss: 0.1768 - accuracy: 0.9121 - val_loss: 0.2195 - val_accuracy: 0.9143\n",
      "Epoch 17/20\n",
      "54/54 [==============================] - 0s 5ms/step - loss: 0.1757 - accuracy: 0.9127 - val_loss: 0.2189 - val_accuracy: 0.9146\n",
      "Epoch 18/20\n",
      "54/54 [==============================] - 0s 5ms/step - loss: 0.1746 - accuracy: 0.9130 - val_loss: 0.2169 - val_accuracy: 0.9151\n",
      "Epoch 19/20\n",
      "54/54 [==============================] - 0s 5ms/step - loss: 0.1736 - accuracy: 0.9138 - val_loss: 0.2162 - val_accuracy: 0.9159\n",
      "Epoch 20/20\n",
      "54/54 [==============================] - 0s 4ms/step - loss: 0.1726 - accuracy: 0.9144 - val_loss: 0.2152 - val_accuracy: 0.9164\n"
     ]
    }
   ],
   "source": [
    "# Setup some training parameters\n",
    "batch_size = 10000\n",
    "epochs = 20\n",
    "input_shape = 92\n",
    "\n",
    "# Build and train model\n",
    "model8 = build_DNN(input_shape = input_shape, n_layers = 2, n_nodes = 20, optimizer = 'adam')\n",
    "\n",
    "history8 = model8.fit(Xtrain, \n",
    "                      Ytrain, \n",
    "                      epochs = epochs, \n",
    "                      batch_size = batch_size, \n",
    "                      validation_data = (Xval, Yval),\n",
    "                      class_weight = class_weights)"
   ]
  },
  {
   "cell_type": "code",
   "execution_count": 60,
   "metadata": {},
   "outputs": [
    {
     "name": "stdout",
     "output_type": "stream",
     "text": [
      "3582/3582 [==============================] - 2s 436us/step - loss: 0.2184 - accuracy: 0.9147\n",
      "Test loss: 0.2184\n",
      "Test accuracy: 0.9147\n"
     ]
    }
   ],
   "source": [
    "# Evaluate model on test data\n",
    "score = model8.evaluate(Xtest, Ytest)\n",
    "\n",
    "print('Test loss: %.4f' % score[0])\n",
    "print('Test accuracy: %.4f' % score[1])"
   ]
  },
  {
   "cell_type": "code",
   "execution_count": 61,
   "metadata": {},
   "outputs": [
    {
     "data": {
      "image/png": "[encoded data removed]",
      "text/plain": [
       "<Figure size 720x288 with 1 Axes>"
      ]
     },
     "metadata": {
      "needs_background": "light"
     },
     "output_type": "display_data"
    },
    {
     "data": {
      "image/png": "[encoded data removed]",
      "text/plain": [
       "<Figure size 720x288 with 1 Axes>"
      ]
     },
     "metadata": {
      "needs_background": "light"
     },
     "output_type": "display_data"
    }
   ],
   "source": [
    "plot_results(history8)"
   ]
  },
  {
   "cell_type": "markdown",
   "metadata": {},
   "source": [
    "# Part 18: Dropout regularization\n",
    "\n",
    "Dropout is a type of regularization that can improve accuracy for validation and test data. \n",
    "\n",
    "Add a Dropout layer after each Dense layer (but not after the final dense layer) in `build_DNN`, with a dropout probability of 50%. Remember to first import the Dropout layer from keras.layers\n",
    "\n",
    "See https://keras.io/api/layers/regularization_layers/dropout/ for how the Dropout layer works.\n",
    "\n",
    "---\n",
    "\n",
    "Question 15: How does the validation accuracy change when adding dropout?\n",
    "\n",
    "Question 16: How does the test accuracy change when adding dropout?"
   ]
  },
  {
   "cell_type": "markdown",
   "metadata": {},
   "source": [
    "### 2 layers, 20 nodes, class weights, dropout, SGD optimizer, no batch normalization, sigmoid activations"
   ]
  },
  {
   "cell_type": "code",
   "execution_count": 75,
   "metadata": {
    "scrolled": true
   },
   "outputs": [
    {
     "name": "stdout",
     "output_type": "stream",
     "text": [
      "Epoch 1/20\n",
      "54/54 [==============================] - 1s 13ms/step - loss: 0.7747 - accuracy: 0.3889 - val_loss: 0.7691 - val_accuracy: 0.1595\n",
      "Epoch 2/20\n",
      "54/54 [==============================] - 1s 10ms/step - loss: 0.7532 - accuracy: 0.4464 - val_loss: 0.7245 - val_accuracy: 0.1586\n",
      "Epoch 3/20\n",
      "54/54 [==============================] - 1s 10ms/step - loss: 0.7394 - accuracy: 0.4780 - val_loss: 0.7025 - val_accuracy: 0.1590\n",
      "Epoch 4/20\n",
      "54/54 [==============================] - 1s 10ms/step - loss: 0.7256 - accuracy: 0.4977 - val_loss: 0.6873 - val_accuracy: 0.8412\n",
      "Epoch 5/20\n",
      "54/54 [==============================] - 1s 10ms/step - loss: 0.7154 - accuracy: 0.5137 - val_loss: 0.6768 - val_accuracy: 0.8795\n",
      "Epoch 6/20\n",
      "54/54 [==============================] - 1s 10ms/step - loss: 0.7063 - accuracy: 0.5257 - val_loss: 0.6683 - val_accuracy: 0.8797\n",
      "Epoch 7/20\n",
      "54/54 [==============================] - 1s 10ms/step - loss: 0.6957 - accuracy: 0.5368 - val_loss: 0.6594 - val_accuracy: 0.8797\n",
      "Epoch 8/20\n",
      "54/54 [==============================] - 1s 10ms/step - loss: 0.6863 - accuracy: 0.5503 - val_loss: 0.6506 - val_accuracy: 0.8796\n",
      "Epoch 9/20\n",
      "54/54 [==============================] - 1s 11ms/step - loss: 0.6776 - accuracy: 0.5619 - val_loss: 0.6429 - val_accuracy: 0.8797\n",
      "Epoch 10/20\n",
      "54/54 [==============================] - 1s 10ms/step - loss: 0.6694 - accuracy: 0.5735 - val_loss: 0.6351 - val_accuracy: 0.8799\n",
      "Epoch 11/20\n",
      "54/54 [==============================] - 1s 11ms/step - loss: 0.6610 - accuracy: 0.5850 - val_loss: 0.6268 - val_accuracy: 0.8799\n",
      "Epoch 12/20\n",
      "54/54 [==============================] - 1s 10ms/step - loss: 0.6529 - accuracy: 0.5988 - val_loss: 0.6192 - val_accuracy: 0.8801\n",
      "Epoch 13/20\n",
      "54/54 [==============================] - 1s 11ms/step - loss: 0.6446 - accuracy: 0.6115 - val_loss: 0.6109 - val_accuracy: 0.8801\n",
      "Epoch 14/20\n",
      "54/54 [==============================] - 1s 10ms/step - loss: 0.6355 - accuracy: 0.6250 - val_loss: 0.6024 - val_accuracy: 0.8802\n",
      "Epoch 15/20\n",
      "54/54 [==============================] - 1s 10ms/step - loss: 0.6271 - accuracy: 0.6376 - val_loss: 0.5932 - val_accuracy: 0.8802\n",
      "Epoch 16/20\n",
      "54/54 [==============================] - 1s 10ms/step - loss: 0.6182 - accuracy: 0.6522 - val_loss: 0.5841 - val_accuracy: 0.8802\n",
      "Epoch 17/20\n",
      "54/54 [==============================] - 1s 10ms/step - loss: 0.6105 - accuracy: 0.6628 - val_loss: 0.5752 - val_accuracy: 0.8808\n",
      "Epoch 18/20\n",
      "54/54 [==============================] - 1s 10ms/step - loss: 0.6011 - accuracy: 0.6757 - val_loss: 0.5655 - val_accuracy: 0.8811\n",
      "Epoch 19/20\n",
      "54/54 [==============================] - 1s 10ms/step - loss: 0.5909 - accuracy: 0.6901 - val_loss: 0.5554 - val_accuracy: 0.8812\n",
      "Epoch 20/20\n",
      "54/54 [==============================] - 1s 10ms/step - loss: 0.5828 - accuracy: 0.7016 - val_loss: 0.5458 - val_accuracy: 0.8814\n"
     ]
    }
   ],
   "source": [
    "# Setup some training parameters\n",
    "batch_size = 10000\n",
    "epochs = 20\n",
    "input_shape = 92\n",
    "\n",
    "# Build and train model\n",
    "model9 = build_DNN(input_shape = input_shape, \n",
    "                   n_layers = 2, \n",
    "                   n_nodes = 20, \n",
    "                   use_dropout = True)\n",
    "\n",
    "history9 = model9.fit(Xtrain, \n",
    "                      Ytrain, \n",
    "                      epochs = epochs, \n",
    "                      batch_size = batch_size, \n",
    "                      validation_data = (Xval, Yval),\n",
    "                      class_weight = class_weights)"
   ]
  },
  {
   "cell_type": "code",
   "execution_count": 76,
   "metadata": {},
   "outputs": [
    {
     "name": "stdout",
     "output_type": "stream",
     "text": [
      "3582/3582 [==============================] - 2s 430us/step - loss: 0.5467 - accuracy: 0.8795\n",
      "Test loss: 0.5467\n",
      "Test accuracy: 0.8795\n"
     ]
    }
   ],
   "source": [
    "# Evaluate model on test data\n",
    "score = model9.evaluate(Xtest, Ytest)\n",
    "\n",
    "print('Test loss: %.4f' % score[0])\n",
    "print('Test accuracy: %.4f' % score[1])"
   ]
  },
  {
   "cell_type": "code",
   "execution_count": 66,
   "metadata": {},
   "outputs": [
    {
     "data": {
      "image/png": "[encoded data removed]",
      "text/plain": [
       "<Figure size 720x288 with 1 Axes>"
      ]
     },
     "metadata": {
      "needs_background": "light"
     },
     "output_type": "display_data"
    },
    {
     "data": {
      "image/png": "[encoded data removed]",
      "text/plain": [
       "<Figure size 720x288 with 1 Axes>"
      ]
     },
     "metadata": {
      "needs_background": "light"
     },
     "output_type": "display_data"
    }
   ],
   "source": [
    "plot_results(history9)"
   ]
  },
  {
   "cell_type": "markdown",
   "metadata": {},
   "source": [
    "# Part 19: Improving performance\n",
    "\n",
    "Spend some time (30 - 90 minutes) playing with the network architecture (number of layers, number of nodes per layer, activation function) and other hyper parameters (optimizer, learning rate, batch size, number of epochs, degree of regularization). For example, try a much deeper network. How much does the training time increase for a network with 10 layers?\n",
    "\n",
    "Question 17: How high classification accuracy can you achieve for the test data? What is your best configuration?"
   ]
  },
  {
   "cell_type": "code",
   "execution_count": 97,
   "metadata": {
    "scrolled": true
   },
   "outputs": [
    {
     "name": "stdout",
     "output_type": "stream",
     "text": [
      "Epoch 1/40\n",
      "54/54 [==============================] - 12s 214ms/step - loss: 0.2842 - accuracy: 0.8963 - val_loss: 0.4061 - val_accuracy: 0.8407\n",
      "Epoch 2/40\n",
      "54/54 [==============================] - 12s 215ms/step - loss: 0.1944 - accuracy: 0.9171 - val_loss: 0.3452 - val_accuracy: 0.8412\n",
      "Epoch 3/40\n",
      "54/54 [==============================] - 12s 219ms/step - loss: 0.1710 - accuracy: 0.9193 - val_loss: 0.2434 - val_accuracy: 0.8568\n",
      "Epoch 4/40\n",
      "54/54 [==============================] - 12s 218ms/step - loss: 0.1600 - accuracy: 0.9222 - val_loss: 0.1671 - val_accuracy: 0.8932\n",
      "Epoch 5/40\n",
      "54/54 [==============================] - 12s 220ms/step - loss: 0.1550 - accuracy: 0.9216 - val_loss: 0.1538 - val_accuracy: 0.9200\n",
      "Epoch 6/40\n",
      "54/54 [==============================] - 12s 218ms/step - loss: 0.1451 - accuracy: 0.9268 - val_loss: 0.1531 - val_accuracy: 0.9288\n",
      "Epoch 7/40\n",
      "54/54 [==============================] - 12s 225ms/step - loss: 0.1394 - accuracy: 0.9292 - val_loss: 0.1671 - val_accuracy: 0.9339\n",
      "Epoch 8/40\n",
      "54/54 [==============================] - 15s 270ms/step - loss: 0.1350 - accuracy: 0.9307 - val_loss: 0.1725 - val_accuracy: 0.9300\n",
      "Epoch 9/40\n",
      "54/54 [==============================] - 17s 313ms/step - loss: 0.1345 - accuracy: 0.9300 - val_loss: 0.1729 - val_accuracy: 0.9324\n",
      "Epoch 10/40\n",
      "54/54 [==============================] - 15s 271ms/step - loss: 0.1304 - accuracy: 0.9330 - val_loss: 0.2158 - val_accuracy: 0.9330\n",
      "Epoch 11/40\n",
      "54/54 [==============================] - 14s 262ms/step - loss: 0.1288 - accuracy: 0.9331 - val_loss: 0.1768 - val_accuracy: 0.9357\n",
      "Epoch 12/40\n",
      "54/54 [==============================] - 13s 235ms/step - loss: 0.1292 - accuracy: 0.9330 - val_loss: 0.2132 - val_accuracy: 0.9254\n",
      "Epoch 13/40\n",
      "54/54 [==============================] - 12s 223ms/step - loss: 0.1263 - accuracy: 0.9339 - val_loss: 0.1448 - val_accuracy: 0.9372\n",
      "Epoch 14/40\n",
      "54/54 [==============================] - 12s 223ms/step - loss: 0.1230 - accuracy: 0.9359 - val_loss: 0.1718 - val_accuracy: 0.9345\n",
      "Epoch 15/40\n",
      "54/54 [==============================] - 12s 223ms/step - loss: 0.1204 - accuracy: 0.9371 - val_loss: 0.1892 - val_accuracy: 0.9379\n",
      "Epoch 16/40\n",
      "54/54 [==============================] - 13s 234ms/step - loss: 0.1196 - accuracy: 0.9372 - val_loss: 0.1970 - val_accuracy: 0.9346\n",
      "Epoch 17/40\n",
      "54/54 [==============================] - 12s 224ms/step - loss: 0.1211 - accuracy: 0.9373 - val_loss: 0.2057 - val_accuracy: 0.9335\n",
      "Epoch 18/40\n",
      "54/54 [==============================] - 12s 228ms/step - loss: 0.1211 - accuracy: 0.9375 - val_loss: 0.1944 - val_accuracy: 0.9326\n",
      "Epoch 19/40\n",
      "54/54 [==============================] - 12s 223ms/step - loss: 0.1199 - accuracy: 0.9387 - val_loss: 0.1832 - val_accuracy: 0.9246\n",
      "Epoch 20/40\n",
      "54/54 [==============================] - 12s 229ms/step - loss: 0.1251 - accuracy: 0.9348 - val_loss: 0.2597 - val_accuracy: 0.9271\n",
      "Epoch 21/40\n",
      "54/54 [==============================] - 12s 226ms/step - loss: 0.1210 - accuracy: 0.9360 - val_loss: 0.1974 - val_accuracy: 0.9327\n",
      "Epoch 22/40\n",
      "54/54 [==============================] - 12s 231ms/step - loss: 0.1151 - accuracy: 0.9408 - val_loss: 0.2118 - val_accuracy: 0.9375\n",
      "Epoch 23/40\n",
      "54/54 [==============================] - 12s 227ms/step - loss: 0.1137 - accuracy: 0.9422 - val_loss: 0.2210 - val_accuracy: 0.9374\n",
      "Epoch 24/40\n",
      "54/54 [==============================] - 12s 227ms/step - loss: 0.1130 - accuracy: 0.9420 - val_loss: 0.2648 - val_accuracy: 0.9357\n",
      "Epoch 25/40\n",
      "54/54 [==============================] - 12s 226ms/step - loss: 0.1091 - accuracy: 0.9444 - val_loss: 0.2128 - val_accuracy: 0.9341\n",
      "Epoch 26/40\n",
      "54/54 [==============================] - 12s 228ms/step - loss: 0.1120 - accuracy: 0.9423 - val_loss: 0.1315 - val_accuracy: 0.9441\n",
      "Epoch 27/40\n",
      "54/54 [==============================] - 12s 227ms/step - loss: 0.1059 - accuracy: 0.9457 - val_loss: 0.1980 - val_accuracy: 0.9364\n",
      "Epoch 28/40\n",
      "54/54 [==============================] - 12s 226ms/step - loss: 0.1076 - accuracy: 0.9450 - val_loss: 0.4381 - val_accuracy: 0.9264\n",
      "Epoch 29/40\n",
      "54/54 [==============================] - 12s 225ms/step - loss: 0.1075 - accuracy: 0.9454 - val_loss: 0.2276 - val_accuracy: 0.9376\n",
      "Epoch 30/40\n",
      "54/54 [==============================] - 12s 226ms/step - loss: 0.1071 - accuracy: 0.9451 - val_loss: 0.2164 - val_accuracy: 0.9369\n",
      "Epoch 31/40\n",
      "54/54 [==============================] - 12s 222ms/step - loss: 0.1036 - accuracy: 0.9471 - val_loss: 0.1393 - val_accuracy: 0.9447\n",
      "Epoch 32/40\n",
      "54/54 [==============================] - 14s 259ms/step - loss: 0.1081 - accuracy: 0.9448 - val_loss: 0.2008 - val_accuracy: 0.9313\n",
      "Epoch 33/40\n",
      "54/54 [==============================] - 13s 232ms/step - loss: 0.1068 - accuracy: 0.9453 - val_loss: 0.1734 - val_accuracy: 0.9386\n",
      "Epoch 34/40\n",
      "54/54 [==============================] - 12s 228ms/step - loss: 0.1031 - accuracy: 0.9472 - val_loss: 0.1779 - val_accuracy: 0.9395\n",
      "Epoch 35/40\n",
      "54/54 [==============================] - 13s 234ms/step - loss: 0.1026 - accuracy: 0.9474 - val_loss: 0.1227 - val_accuracy: 0.9479\n",
      "Epoch 36/40\n",
      "54/54 [==============================] - 12s 224ms/step - loss: 0.1021 - accuracy: 0.9477 - val_loss: 0.6146 - val_accuracy: 0.9262\n",
      "Epoch 37/40\n",
      "54/54 [==============================] - 12s 223ms/step - loss: 0.1050 - accuracy: 0.9464 - val_loss: 0.6744 - val_accuracy: 0.9216\n",
      "Epoch 38/40\n",
      "54/54 [==============================] - 12s 222ms/step - loss: 0.1075 - accuracy: 0.9441 - val_loss: 0.2216 - val_accuracy: 0.9385\n",
      "Epoch 39/40\n",
      "54/54 [==============================] - 13s 232ms/step - loss: 0.1048 - accuracy: 0.9465 - val_loss: 0.1853 - val_accuracy: 0.9389\n",
      "Epoch 40/40\n",
      "54/54 [==============================] - 12s 222ms/step - loss: 0.1029 - accuracy: 0.9473 - val_loss: 0.2094 - val_accuracy: 0.9376\n"
     ]
    }
   ],
   "source": [
    "# Find your best configuration for the DNN\n",
    "batch_size = 10000\n",
    "epochs = 40\n",
    "input_shape = 92\n",
    "\n",
    "# Build and train DNN\n",
    "model10 = build_DNN(input_shape = input_shape, \n",
    "                    n_layers = 10, \n",
    "                    n_nodes = 100,\n",
    "                    optimizer = 'adam',\n",
    "                    act_fun = 'relu',\n",
    "                    #use_dropout = True,\n",
    "                    use_bn = True,\n",
    "                    learning_rate = 0.001)\n",
    "\n",
    "history10 = model10.fit(Xtrain, \n",
    "                      Ytrain, \n",
    "                      epochs = epochs, \n",
    "                      batch_size = batch_size, \n",
    "                      validation_data = (Xval, Yval),\n",
    "                      class_weight = class_weights)\n"
   ]
  },
  {
   "cell_type": "code",
   "execution_count": 98,
   "metadata": {},
   "outputs": [
    {
     "name": "stdout",
     "output_type": "stream",
     "text": [
      "3582/3582 [==============================] - 3s 909us/step - loss: 0.2181 - accuracy: 0.9356\n",
      "Test loss: 0.2181\n",
      "Test accuracy: 0.9356\n"
     ]
    }
   ],
   "source": [
    "# Evaluate DNN on test data\n",
    "score = model10.evaluate(Xtest, Ytest)\n",
    "\n",
    "print('Test loss: %.4f' % score[0])\n",
    "print('Test accuracy: %.4f' % score[1])"
   ]
  },
  {
   "cell_type": "markdown",
   "metadata": {},
   "source": [
    "# Part 20: Dropout uncertainty\n",
    "\n",
    "Dropout can also be used during testing, to obtain an estimate of the model uncertainty. Since dropout will randomly remove connections, the network will produce different results every time the same (test) data is put into the network. This technique is called Monte Carlo dropout. For more information, see this paper http://proceedings.mlr.press/v48/gal16.pdf\n",
    "\n",
    "To achieve this, we need to redefine the Keras Dropout call by running the cell below, and use 'myDropout' in each call to Dropout, in the cell that defines the DNN. The `build_DNN` function takes two boolean arguments, use_dropout and use_custom_dropout, add a standard Dropout layer if use_dropout is true, add a myDropout layer if use_custom_dropout is true.\n",
    "\n",
    "Run the same test data through the trained network 100 times, with dropout turned on. \n",
    "\n",
    "Question 18: What is the mean and the standard deviation of the test accuracy?"
   ]
  },
  {
   "cell_type": "code",
   "execution_count": 110,
   "metadata": {},
   "outputs": [],
   "source": [
    "import keras.backend as K\n",
    "import keras\n",
    "\n",
    "class myDropout(keras.layers.Dropout):\n",
    "    \"\"\"Applies Dropout to the input.\n",
    "    Dropout consists in randomly setting\n",
    "    a fraction `rate` of input units to 0 at each update during training time,\n",
    "    which helps prevent overfitting.\n",
    "    # Arguments\n",
    "        rate: float between 0 and 1. Fraction of the input units to drop.\n",
    "        noise_shape: 1D integer tensor representing the shape of the\n",
    "            binary dropout mask that will be multiplied with the input.\n",
    "            For instance, if your inputs have shape\n",
    "            `(batch_size, timesteps, features)` and\n",
    "            you want the dropout mask to be the same for all timesteps,\n",
    "            you can use `noise_shape=(batch_size, 1, features)`.\n",
    "        seed: A Python integer to use as random seed.\n",
    "    # References\n",
    "        - [Dropout: A Simple Way to Prevent Neural Networks from Overfitting](\n",
    "           http://www.jmlr.org/papers/volume15/srivastava14a/srivastava14a.pdf)\n",
    "    \"\"\"\n",
    "    def __init__(self, rate, training=True, noise_shape=None, seed=None, **kwargs):\n",
    "        super(myDropout, self).__init__(rate, noise_shape=None, seed=None,**kwargs)\n",
    "        self.training = training\n",
    "\n",
    "        \n",
    "    def call(self, inputs, training=None):\n",
    "        if 0. < self.rate < 1.:\n",
    "            noise_shape = self._get_noise_shape(inputs)\n",
    "\n",
    "            def dropped_inputs():\n",
    "                return K.dropout(inputs, self.rate, noise_shape,\n",
    "                                 seed=self.seed)\n",
    "            if not training: \n",
    "                return K.in_train_phase(dropped_inputs, inputs, training=self.training)\n",
    "            return K.in_train_phase(dropped_inputs, inputs, training=training)\n",
    "        return inputs"
   ]
  },
  {
   "cell_type": "markdown",
   "metadata": {},
   "source": [
    "### Your best config, custom dropout"
   ]
  },
  {
   "cell_type": "code",
   "execution_count": 114,
   "metadata": {
    "scrolled": true
   },
   "outputs": [
    {
     "name": "stdout",
     "output_type": "stream",
     "text": [
      "Epoch 1/40\n",
      "54/54 [==============================] - 14s 256ms/step - loss: 0.7291 - accuracy: 0.6596 - val_loss: 0.5099 - val_accuracy: 0.8652\n",
      "Epoch 2/40\n",
      "54/54 [==============================] - 14s 252ms/step - loss: 0.4322 - accuracy: 0.8474 - val_loss: 0.3296 - val_accuracy: 0.8737\n",
      "Epoch 3/40\n",
      "54/54 [==============================] - 13s 249ms/step - loss: 0.3265 - accuracy: 0.8741 - val_loss: 0.3125 - val_accuracy: 0.8814\n",
      "Epoch 4/40\n",
      "54/54 [==============================] - 14s 250ms/step - loss: 0.2910 - accuracy: 0.8800 - val_loss: 0.3008 - val_accuracy: 0.8878\n",
      "Epoch 5/40\n",
      "54/54 [==============================] - 13s 249ms/step - loss: 0.2680 - accuracy: 0.8851 - val_loss: 0.2911 - val_accuracy: 0.8934\n",
      "Epoch 6/40\n",
      "54/54 [==============================] - 13s 248ms/step - loss: 0.2534 - accuracy: 0.8902 - val_loss: 0.2866 - val_accuracy: 0.8962\n",
      "Epoch 7/40\n",
      "54/54 [==============================] - 13s 249ms/step - loss: 0.2403 - accuracy: 0.8934 - val_loss: 0.2787 - val_accuracy: 0.8982\n",
      "Epoch 8/40\n",
      "54/54 [==============================] - 14s 251ms/step - loss: 0.2322 - accuracy: 0.8956 - val_loss: 0.2750 - val_accuracy: 0.9000\n",
      "Epoch 9/40\n",
      "54/54 [==============================] - 14s 251ms/step - loss: 0.2248 - accuracy: 0.8972 - val_loss: 0.2697 - val_accuracy: 0.9014\n",
      "Epoch 10/40\n",
      "54/54 [==============================] - 14s 250ms/step - loss: 0.2178 - accuracy: 0.8988 - val_loss: 0.2660 - val_accuracy: 0.9024\n",
      "Epoch 11/40\n",
      "54/54 [==============================] - 14s 256ms/step - loss: 0.2119 - accuracy: 0.9001 - val_loss: 0.2603 - val_accuracy: 0.9034\n",
      "Epoch 12/40\n",
      "54/54 [==============================] - 14s 251ms/step - loss: 0.2074 - accuracy: 0.9016 - val_loss: 0.2481 - val_accuracy: 0.9056\n",
      "Epoch 13/40\n",
      "54/54 [==============================] - 14s 255ms/step - loss: 0.2044 - accuracy: 0.9021 - val_loss: 0.2468 - val_accuracy: 0.9054\n",
      "Epoch 14/40\n",
      "54/54 [==============================] - 14s 257ms/step - loss: 0.2024 - accuracy: 0.9025 - val_loss: 0.2456 - val_accuracy: 0.9054\n",
      "Epoch 15/40\n",
      "54/54 [==============================] - 14s 254ms/step - loss: 0.2005 - accuracy: 0.9030 - val_loss: 0.2394 - val_accuracy: 0.9064\n",
      "Epoch 16/40\n",
      "54/54 [==============================] - 16s 295ms/step - loss: 0.1982 - accuracy: 0.9035 - val_loss: 0.2385 - val_accuracy: 0.9062\n",
      "Epoch 17/40\n",
      "54/54 [==============================] - 15s 270ms/step - loss: 0.1970 - accuracy: 0.9039 - val_loss: 0.2326 - val_accuracy: 0.9073\n",
      "Epoch 18/40\n",
      "54/54 [==============================] - 14s 252ms/step - loss: 0.1960 - accuracy: 0.9048 - val_loss: 0.2342 - val_accuracy: 0.9081\n",
      "Epoch 19/40\n",
      "54/54 [==============================] - 14s 264ms/step - loss: 0.1940 - accuracy: 0.9054 - val_loss: 0.2362 - val_accuracy: 0.9072\n",
      "Epoch 20/40\n",
      "54/54 [==============================] - 15s 275ms/step - loss: 0.1940 - accuracy: 0.9048 - val_loss: 0.2394 - val_accuracy: 0.9069\n",
      "Epoch 21/40\n",
      "54/54 [==============================] - 15s 274ms/step - loss: 0.1932 - accuracy: 0.9050 - val_loss: 0.2322 - val_accuracy: 0.9074\n",
      "Epoch 22/40\n",
      "54/54 [==============================] - 15s 271ms/step - loss: 0.1922 - accuracy: 0.9055 - val_loss: 0.2338 - val_accuracy: 0.9085\n",
      "Epoch 23/40\n",
      "54/54 [==============================] - 14s 256ms/step - loss: 0.1918 - accuracy: 0.9055 - val_loss: 0.2293 - val_accuracy: 0.9088\n",
      "Epoch 24/40\n",
      "54/54 [==============================] - 14s 254ms/step - loss: 0.1912 - accuracy: 0.9060 - val_loss: 0.2327 - val_accuracy: 0.9080\n",
      "Epoch 25/40\n",
      "54/54 [==============================] - 14s 253ms/step - loss: 0.1903 - accuracy: 0.9065 - val_loss: 0.2317 - val_accuracy: 0.9088\n",
      "Epoch 26/40\n",
      "54/54 [==============================] - 14s 251ms/step - loss: 0.1899 - accuracy: 0.9063 - val_loss: 0.2313 - val_accuracy: 0.9094\n",
      "Epoch 27/40\n",
      "54/54 [==============================] - 14s 261ms/step - loss: 0.1899 - accuracy: 0.9065 - val_loss: 0.2300 - val_accuracy: 0.9088\n",
      "Epoch 28/40\n",
      "54/54 [==============================] - 14s 267ms/step - loss: 0.1889 - accuracy: 0.9072 - val_loss: 0.2324 - val_accuracy: 0.9090\n",
      "Epoch 29/40\n",
      "54/54 [==============================] - 14s 267ms/step - loss: 0.1874 - accuracy: 0.9075 - val_loss: 0.2294 - val_accuracy: 0.9092\n",
      "Epoch 30/40\n",
      "54/54 [==============================] - 14s 265ms/step - loss: 0.1875 - accuracy: 0.9070 - val_loss: 0.2346 - val_accuracy: 0.9087\n",
      "Epoch 31/40\n",
      "54/54 [==============================] - 14s 265ms/step - loss: 0.1866 - accuracy: 0.9075 - val_loss: 0.2253 - val_accuracy: 0.9098\n",
      "Epoch 32/40\n",
      "54/54 [==============================] - 14s 264ms/step - loss: 0.1871 - accuracy: 0.9078 - val_loss: 0.2279 - val_accuracy: 0.9103\n",
      "Epoch 33/40\n",
      "54/54 [==============================] - 14s 260ms/step - loss: 0.1862 - accuracy: 0.9080 - val_loss: 0.2298 - val_accuracy: 0.9090\n",
      "Epoch 34/40\n",
      "54/54 [==============================] - 14s 257ms/step - loss: 0.1863 - accuracy: 0.9079 - val_loss: 0.2281 - val_accuracy: 0.9093\n",
      "Epoch 35/40\n",
      "54/54 [==============================] - 14s 260ms/step - loss: 0.1852 - accuracy: 0.9084 - val_loss: 0.2268 - val_accuracy: 0.9106\n",
      "Epoch 36/40\n",
      "54/54 [==============================] - 14s 263ms/step - loss: 0.1846 - accuracy: 0.9085 - val_loss: 0.2294 - val_accuracy: 0.9107\n",
      "Epoch 37/40\n",
      "54/54 [==============================] - 14s 256ms/step - loss: 0.1847 - accuracy: 0.9085 - val_loss: 0.2247 - val_accuracy: 0.9108\n",
      "Epoch 38/40\n",
      "54/54 [==============================] - 14s 252ms/step - loss: 0.1838 - accuracy: 0.9091 - val_loss: 0.2263 - val_accuracy: 0.9108\n",
      "Epoch 39/40\n",
      "54/54 [==============================] - 14s 253ms/step - loss: 0.1834 - accuracy: 0.9091 - val_loss: 0.2323 - val_accuracy: 0.9115\n",
      "Epoch 40/40\n",
      "54/54 [==============================] - 14s 252ms/step - loss: 0.1834 - accuracy: 0.9094 - val_loss: 0.2257 - val_accuracy: 0.9115\n"
     ]
    }
   ],
   "source": [
    "# Your best training parameters\n",
    "batch_size = 10000\n",
    "epochs = 40\n",
    "input_shape = 92\n",
    "\n",
    "# Build and train model\n",
    "model11 = build_DNN(input_shape = input_shape, \n",
    "                    n_layers = 10, \n",
    "                    n_nodes = 100,\n",
    "                    optimizer = 'adam',\n",
    "                    act_fun = 'relu',\n",
    "                    use_custom_dropout = True,\n",
    "                    use_bn = True,\n",
    "                    learning_rate = 0.001)\n",
    "\n",
    "history11 = model11.fit(Xtrain, \n",
    "                      Ytrain, \n",
    "                      epochs = epochs, \n",
    "                      batch_size = batch_size, \n",
    "                      validation_data = (Xval, Yval),\n",
    "                      class_weight = class_weights)"
   ]
  },
  {
   "cell_type": "code",
   "execution_count": 118,
   "metadata": {},
   "outputs": [
    {
     "name": "stdout",
     "output_type": "stream",
     "text": [
      "3582/3582 [==============================] - 6s 2ms/step - loss: 0.2290 - accuracy: 0.9097\n",
      "Test accuracy: 0.9097\n"
     ]
    }
   ],
   "source": [
    "# Run this cell a few times to evalute the model on test data, \n",
    "# if you get slightly different test accuracy every time, Dropout during testing is working\n",
    "\n",
    "# Evaluate model on test data\n",
    "score = model11.evaluate(Xtest, Ytest)\n",
    "                       \n",
    "print('Test accuracy: %.4f' % score[1])"
   ]
  },
  {
   "cell_type": "code",
   "execution_count": 119,
   "metadata": {},
   "outputs": [
    {
     "name": "stdout",
     "output_type": "stream",
     "text": [
      "3582/3582 [==============================] - 6s 2ms/step - loss: 0.2296 - accuracy: 0.9097: 0s - loss: 0.2303 - accura - ETA: 0s - loss: 0.2301 - accu\n",
      "3582/3582 [==============================] - 6s 2ms/step - loss: 0.2297 - accuracy: 0.9097\n",
      "3582/3582 [==============================] - 6s 2ms/step - loss: 0.2297 - accuracy: 0.9098\n",
      "3582/3582 [==============================] - 6s 2ms/step - loss: 0.2286 - accuracy: 0.9100\n",
      "3582/3582 [==============================] - 6s 2ms/step - loss: 0.2300 - accuracy: 0.9096\n",
      "3582/3582 [==============================] - 6s 2ms/step - loss: 0.2297 - accuracy: 0.9096\n",
      "3582/3582 [==============================] - 7s 2ms/step - loss: 0.2285 - accuracy: 0.9101\n",
      "3582/3582 [==============================] - 7s 2ms/step - loss: 0.2288 - accuracy: 0.9101\n",
      "3582/3582 [==============================] - 7s 2ms/step - loss: 0.2288 - accuracy: 0.9102\n",
      "3582/3582 [==============================] - 7s 2ms/step - loss: 0.2289 - accuracy: 0.9099\n",
      "3582/3582 [==============================] - 7s 2ms/step - loss: 0.2299 - accuracy: 0.9097: \n",
      "3582/3582 [==============================] - 6s 2ms/step - loss: 0.2299 - accuracy: 0.9096: 1s -\n",
      "3582/3582 [==============================] - 6s 2ms/step - loss: 0.2288 - accuracy: 0.9098\n",
      "3582/3582 [==============================] - 6s 2ms/step - loss: 0.2298 - accuracy: 0.9096\n",
      "3582/3582 [==============================] - 6s 2ms/step - loss: 0.2295 - accuracy: 0.9097\n",
      "3582/3582 [==============================] - 6s 2ms/step - loss: 0.2295 - accuracy: 0.9098: 0s - loss: 0.2298 - accu\n",
      "3582/3582 [==============================] - 7s 2ms/step - loss: 0.2293 - accuracy: 0.9095\n",
      "3582/3582 [==============================] - 6s 2ms/step - loss: 0.2302 - accuracy: 0.9097: 0s - loss: 0.2307 - \n",
      "3582/3582 [==============================] - 6s 2ms/step - loss: 0.2294 - accuracy: 0.9096\n",
      "3582/3582 [==============================] - 6s 2ms/step - loss: 0.2291 - accuracy: 0.9098: 0s - loss: 0\n",
      "3582/3582 [==============================] - 6s 2ms/step - loss: 0.2297 - accuracy: 0.9098\n",
      "3582/3582 [==============================] - 6s 2ms/step - loss: 0.2292 - accuracy: 0.9099\n",
      "3582/3582 [==============================] - 6s 2ms/step - loss: 0.2287 - accuracy: 0.9099\n",
      "3582/3582 [==============================] - 6s 2ms/step - loss: 0.2293 - accuracy: 0.9098\n",
      "3582/3582 [==============================] - 6s 2ms/step - loss: 0.2294 - accuracy: 0.9097: 0s - loss: 0.2301 - ac\n",
      "3582/3582 [==============================] - 6s 2ms/step - loss: 0.2300 - accuracy: 0.9097\n",
      "3582/3582 [==============================] - 6s 2ms/step - loss: 0.2297 - accuracy: 0.9098\n",
      "3582/3582 [==============================] - 6s 2ms/step - loss: 0.2294 - accuracy: 0.9097\n",
      "3582/3582 [==============================] - 6s 2ms/step - loss: 0.2292 - accuracy: 0.9096\n",
      "3582/3582 [==============================] - 7s 2ms/step - loss: 0.2310 - accuracy: 0.9092\n",
      "3582/3582 [==============================] - 7s 2ms/step - loss: 0.2291 - accuracy: 0.9097\n",
      "3582/3582 [==============================] - 7s 2ms/step - loss: 0.2298 - accuracy: 0.9096: 0s - loss: 0.2300 - accuracy: 0.\n",
      "3582/3582 [==============================] - 6s 2ms/step - loss: 0.2298 - accuracy: 0.9095\n",
      "3582/3582 [==============================] - 7s 2ms/step - loss: 0.2296 - accuracy: 0.9097\n",
      "3582/3582 [==============================] - 8s 2ms/step - loss: 0.2292 - accuracy: 0.9098\n",
      "3582/3582 [==============================] - 9s 2ms/step - loss: 0.2295 - accuracy: 0.9097\n",
      "3582/3582 [==============================] - 8s 2ms/step - loss: 0.2296 - accuracy: 0.9097\n",
      "3582/3582 [==============================] - 8s 2ms/step - loss: 0.2292 - accuracy: 0.9100\n",
      "3582/3582 [==============================] - 8s 2ms/step - loss: 0.2304 - accuracy: 0.9096\n",
      "3582/3582 [==============================] - 9s 2ms/step - loss: 0.2290 - accuracy: 0.9095\n",
      "3582/3582 [==============================] - 7s 2ms/step - loss: 0.2300 - accuracy: 0.9095\n",
      "3582/3582 [==============================] - 7s 2ms/step - loss: 0.2304 - accuracy: 0.9096\n",
      "3582/3582 [==============================] - 7s 2ms/step - loss: 0.2295 - accuracy: 0.9098\n",
      "3582/3582 [==============================] - 7s 2ms/step - loss: 0.2291 - accuracy: 0.9097\n",
      "3582/3582 [==============================] - 8s 2ms/step - loss: 0.2296 - accuracy: 0.9097\n",
      "3582/3582 [==============================] - 8s 2ms/step - loss: 0.2292 - accuracy: 0.9099\n",
      "3582/3582 [==============================] - 9s 2ms/step - loss: 0.2293 - accuracy: 0.9098\n",
      "3582/3582 [==============================] - 8s 2ms/step - loss: 0.2295 - accuracy: 0.9098\n",
      "3582/3582 [==============================] - 8s 2ms/step - loss: 0.2302 - accuracy: 0.9095\n",
      "3582/3582 [==============================] - 8s 2ms/step - loss: 0.2296 - accuracy: 0.9098\n",
      "3582/3582 [==============================] - 8s 2ms/step - loss: 0.2295 - accuracy: 0.9097\n",
      "3582/3582 [==============================] - 8s 2ms/step - loss: 0.2294 - accuracy: 0.9098\n",
      "3582/3582 [==============================] - 8s 2ms/step - loss: 0.2293 - accuracy: 0.9099\n",
      "3582/3582 [==============================] - 8s 2ms/step - loss: 0.2298 - accuracy: 0.9094\n",
      "3582/3582 [==============================] - 8s 2ms/step - loss: 0.2305 - accuracy: 0.9096\n",
      "3582/3582 [==============================] - 9s 2ms/step - loss: 0.2298 - accuracy: 0.9097\n",
      "3582/3582 [==============================] - 8s 2ms/step - loss: 0.2299 - accuracy: 0.9094\n",
      "3582/3582 [==============================] - 8s 2ms/step - loss: 0.2298 - accuracy: 0.9095\n",
      "3582/3582 [==============================] - 8s 2ms/step - loss: 0.2289 - accuracy: 0.9098\n",
      "3582/3582 [==============================] - 8s 2ms/step - loss: 0.2288 - accuracy: 0.9099\n",
      "3582/3582 [==============================] - 8s 2ms/step - loss: 0.2292 - accuracy: 0.9099\n",
      "3582/3582 [==============================] - 9s 2ms/step - loss: 0.2292 - accuracy: 0.9098\n",
      "3582/3582 [==============================] - 9s 2ms/step - loss: 0.2291 - accuracy: 0.9100\n",
      "3582/3582 [==============================] - 9s 2ms/step - loss: 0.2289 - accuracy: 0.9098\n",
      "3582/3582 [==============================] - 9s 2ms/step - loss: 0.2304 - accuracy: 0.9095\n",
      "3582/3582 [==============================] - 9s 3ms/step - loss: 0.2297 - accuracy: 0.9100\n",
      "3582/3582 [==============================] - 9s 2ms/step - loss: 0.2284 - accuracy: 0.9099\n",
      "3582/3582 [==============================] - 9s 3ms/step - loss: 0.2294 - accuracy: 0.9098\n",
      "3582/3582 [==============================] - 9s 2ms/step - loss: 0.2292 - accuracy: 0.9098\n",
      "3582/3582 [==============================] - 9s 2ms/step - loss: 0.2287 - accuracy: 0.9101\n",
      "3582/3582 [==============================] - 8s 2ms/step - loss: 0.2296 - accuracy: 0.9099\n",
      "3582/3582 [==============================] - 9s 2ms/step - loss: 0.2296 - accuracy: 0.9095\n",
      "3582/3582 [==============================] - 9s 2ms/step - loss: 0.2294 - accuracy: 0.9097\n",
      "3582/3582 [==============================] - 9s 2ms/step - loss: 0.2292 - accuracy: 0.9100\n",
      "3582/3582 [==============================] - 8s 2ms/step - loss: 0.2295 - accuracy: 0.9099\n",
      "3582/3582 [==============================] - 8s 2ms/step - loss: 0.2292 - accuracy: 0.9097\n",
      "3582/3582 [==============================] - 8s 2ms/step - loss: 0.2295 - accuracy: 0.9099\n",
      "3582/3582 [==============================] - 9s 3ms/step - loss: 0.2295 - accuracy: 0.9096\n",
      "3582/3582 [==============================] - 9s 3ms/step - loss: 0.2287 - accuracy: 0.9099\n",
      "3582/3582 [==============================] - 9s 2ms/step - loss: 0.2293 - accuracy: 0.9096\n",
      "3582/3582 [==============================] - 9s 2ms/step - loss: 0.2288 - accuracy: 0.9099\n",
      "3582/3582 [==============================] - 8s 2ms/step - loss: 0.2292 - accuracy: 0.9099\n",
      "3582/3582 [==============================] - 9s 3ms/step - loss: 0.2285 - accuracy: 0.9101\n",
      "3582/3582 [==============================] - 10s 3ms/step - loss: 0.2299 - accuracy: 0.9097\n",
      "3582/3582 [==============================] - 9s 2ms/step - loss: 0.2292 - accuracy: 0.9099\n",
      "3582/3582 [==============================] - 8s 2ms/step - loss: 0.2296 - accuracy: 0.9097\n",
      "3582/3582 [==============================] - 9s 3ms/step - loss: 0.2300 - accuracy: 0.9099\n",
      "3582/3582 [==============================] - 9s 3ms/step - loss: 0.2309 - accuracy: 0.9095\n"
     ]
    },
    {
     "name": "stdout",
     "output_type": "stream",
     "text": [
      "3582/3582 [==============================] - 9s 2ms/step - loss: 0.2295 - accuracy: 0.9097\n",
      "3582/3582 [==============================] - 8s 2ms/step - loss: 0.2293 - accuracy: 0.9098\n",
      "3582/3582 [==============================] - 9s 2ms/step - loss: 0.2305 - accuracy: 0.9095\n",
      "3582/3582 [==============================] - 8s 2ms/step - loss: 0.2288 - accuracy: 0.9100\n",
      "3582/3582 [==============================] - 8s 2ms/step - loss: 0.2290 - accuracy: 0.9100\n",
      "3582/3582 [==============================] - 8s 2ms/step - loss: 0.2297 - accuracy: 0.9096\n",
      "3582/3582 [==============================] - 8s 2ms/step - loss: 0.2299 - accuracy: 0.9097\n",
      "3582/3582 [==============================] - 9s 2ms/step - loss: 0.2290 - accuracy: 0.9098\n",
      "3582/3582 [==============================] - 10s 3ms/step - loss: 0.2302 - accuracy: 0.9097\n",
      "3582/3582 [==============================] - 9s 2ms/step - loss: 0.2297 - accuracy: 0.9096\n",
      "3582/3582 [==============================] - 8s 2ms/step - loss: 0.2296 - accuracy: 0.9099\n",
      "3582/3582 [==============================] - 9s 3ms/step - loss: 0.2294 - accuracy: 0.9100\n",
      "0.9097559756040573\n",
      "0.0001825313015590436\n"
     ]
    }
   ],
   "source": [
    "# Run the testing 100 times, and save the accuracies in an array\n",
    "times = 100\n",
    "acca = np.zeros(times)\n",
    "for i in range(times):\n",
    "    score = model11.evaluate(Xtest,Ytest)\n",
    "    acca[i] = score[1]\n",
    "    \n",
    "# Calculate and print mean and std of accuracies\n",
    "mean_100 = np.mean(acca)\n",
    "std_100 = np.std(acca)\n",
    "print(mean_100)\n",
    "print(std_100)\n"
   ]
  },
  {
   "cell_type": "markdown",
   "metadata": {},
   "source": [
    "# Part 21: Cross validation uncertainty\n",
    "\n",
    "Cross validation (CV) is often used to evaluate a model, by training and testing using different subsets of the data it is possible to get the uncertainty as the standard deviation over folds. We here use a help function from scikit-learn to setup the CV, see https://scikit-learn.org/stable/modules/generated/sklearn.model_selection.StratifiedKFold.html . Use 10 folds with shuffling, random state 1234. \n",
    "\n",
    "Note: We here assume that you have found the best hyper parameters, so here the data are only split into training and testing, no validation.\n",
    "\n",
    "---\n",
    "\n",
    "Question 19: What is the mean and the standard deviation of the test accuracy?\n",
    "\n",
    "Question 20: What is the main advantage of dropout compared to CV for estimating test uncertainty? The difference may not be so large in this notebook, but imagine that you have a network that takes 24 hours to train."
   ]
  },
  {
   "cell_type": "code",
   "execution_count": 121,
   "metadata": {},
   "outputs": [
    {
     "ename": "TypeError",
     "evalue": "compute_class_weight() takes 1 positional argument but 3 were given",
     "output_type": "error",
     "traceback": [
      "\u001b[1;31m---------------------------------------------------------------------------\u001b[0m",
      "\u001b[1;31mTypeError\u001b[0m                                 Traceback (most recent call last)",
      "Input \u001b[1;32mIn [121]\u001b[0m, in \u001b[0;36m<cell line: 14>\u001b[1;34m()\u001b[0m\n\u001b[0;32m     16\u001b[0m Xtrain, Ytrain, Xtest, Ytest \u001b[38;5;241m=\u001b[39m X[train_index], Y[train_index], X[test_index], Y[test_index]\n\u001b[0;32m     18\u001b[0m \u001b[38;5;66;03m# Calculate class weights for current split\u001b[39;00m\n\u001b[1;32m---> 19\u001b[0m class_weights \u001b[38;5;241m=\u001b[39m \u001b[43mclass_weight\u001b[49m\u001b[38;5;241;43m.\u001b[39;49m\u001b[43mcompute_class_weight\u001b[49m\u001b[43m(\u001b[49m\u001b[38;5;124;43m\"\u001b[39;49m\u001b[38;5;124;43mbalanced\u001b[39;49m\u001b[38;5;124;43m\"\u001b[39;49m\u001b[43m,\u001b[49m\u001b[43m \u001b[49m\u001b[43mnp\u001b[49m\u001b[38;5;241;43m.\u001b[39;49m\u001b[43munique\u001b[49m\u001b[43m(\u001b[49m\u001b[43mYtrain\u001b[49m\u001b[43m)\u001b[49m\u001b[43m,\u001b[49m\u001b[43m \u001b[49m\u001b[43mYtrain\u001b[49m\u001b[43m)\u001b[49m\n\u001b[0;32m     20\u001b[0m class_weights \u001b[38;5;241m=\u001b[39m {j: class_weights[j] \u001b[38;5;28;01mfor\u001b[39;00m j \u001b[38;5;129;01min\u001b[39;00m [\u001b[38;5;241m0\u001b[39m,\u001b[38;5;241m1\u001b[39m]} \n\u001b[0;32m     22\u001b[0m \u001b[38;5;66;03m# Rebuild the DNN model, to not continue training on the previously trained model\u001b[39;00m\n",
      "\u001b[1;31mTypeError\u001b[0m: compute_class_weight() takes 1 positional argument but 3 were given"
     ]
    }
   ],
   "source": [
    "from sklearn.model_selection import StratifiedKFold\n",
    "batch_size = 10000\n",
    "epochs = 40\n",
    "n_nodes = 100\n",
    "n_layers = 10\n",
    "input_shape = Xtrain.shape[1]\n",
    "acca = np.zeros(10)\n",
    "\n",
    "\n",
    "# Define 10-fold cross validation\n",
    "fold = StratifiedKFold(10)\n",
    "# Loop over cross validation folds\n",
    "i = 0\n",
    "for train_index, test_index in fold.split(X, Y):\n",
    "\n",
    "    Xtrain, Ytrain, Xtest, Ytest = X[train_index], Y[train_index], X[test_index], Y[test_index]\n",
    "    \n",
    "    # Calculate class weights for current split\n",
    "    class_weights = class_weight.compute_class_weight(\"balanced\", np.unique(Ytrain), Ytrain)\n",
    "    class_weights = {j: class_weights[j] for j in [0,1]} \n",
    "    \n",
    "    # Rebuild the DNN model, to not continue training on the previously trained model\n",
    "    modelcv = build_DNN(input_shape,\n",
    "                        n_layers,\n",
    "                        n_nodes,\n",
    "                        learning_rate=0.001, \n",
    "                        use_bn=True, \n",
    "                        act_fun = 'relu', \n",
    "                        optimizer = 'adam', \n",
    "                        use_custom_dropout = True)\n",
    "    \n",
    "    # Fit the model with training set and class weights for this fold\n",
    "    historycv = modelcv.fit(x=Xtrain, \n",
    "                            y=Ytrain, \n",
    "                            batch_size=batch_size, \n",
    "                            validation_data = (Xtest,Ytest), \n",
    "                            epochs = epochs, \n",
    "                            class_weight=class_weights ) \n",
    "    \n",
    "    # Evaluate the model using the test set for this fold\n",
    "    score = modelcv.evaluate(Xtest,Ytest)\n",
    "    \n",
    "    # Save the test accuracy in an array\n",
    "    acca[i] = score[1]\n",
    "    \n",
    "    i=i+1\n",
    "\n",
    "# Calculate and print mean and std of accuracies\n",
    "print(np.mean(acca))\n",
    "print(np.std(acca))\n",
    "\n"
   ]
  },
  {
   "cell_type": "markdown",
   "metadata": {},
   "source": [
    "# Part 22: DNN regression\n",
    "\n",
    "A similar DNN can be used for regression, instead of classification.\n",
    "\n",
    "Question 21: How would you change the DNN in order to use it for regression instead?"
   ]
  },
  {
   "cell_type": "markdown",
   "metadata": {},
   "source": [
    "## Report\n",
    "\n",
    "Send in this jupyter notebook, with answers to all questions."
   ]
  }
 ],
 "metadata": {
  "kernelspec": {
   "display_name": "Python 3 (ipykernel)",
   "language": "python",
   "name": "python3"
  },
  "language_info": {
   "codemirror_mode": {
    "name": "ipython",
    "version": 3
   },
   "file_extension": ".py",
   "mimetype": "text/x-python",
   "name": "python",
   "nbconvert_exporter": "python",
   "pygments_lexer": "ipython3",
   "version": "3.8.13"
  }
 },
 "nbformat": 4,
 "nbformat_minor": 4
}
