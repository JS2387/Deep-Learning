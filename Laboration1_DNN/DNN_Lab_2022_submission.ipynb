{
 "cells": [
  {
   "cell_type": "markdown",
   "metadata": {},
   "source": [
    "Lab done by: Dinuke Jayaweera (dinja628) and Jaskirat S Marar (jasma356)"
   ]
  },
  {
   "cell_type": "markdown",
   "metadata": {},
   "source": [
    "# Deep Neural Networks Laboration\n",
    "\n",
    "Data used in this laboration are from the Kitsune Network Attack Dataset, https://archive.ics.uci.edu/ml/datasets/Kitsune+Network+Attack+Dataset . We will focus on the 'Mirai' part of the dataset. Your task is to make a DNN that can classify if each attack is benign or malicious. The dataset has 116 covariates, but to make it a bit more difficult we will remove the first 24 covariates.\n",
    "\n",
    "You need to answer all questions in this notebook."
   ]
  },
  {
   "cell_type": "markdown",
   "metadata": {},
   "source": [
    "# Part 1: Get the data\n",
    "\n",
    "Skip this part if you load stored numpy arrays (Mirai*.npy) (which is recommended)\n",
    "\n",
    "Use `wget` in the terminal of your cloud machine (in the same directory as where you have saved this notebook) to download the data, i.e.\n",
    "\n",
    "wget https://archive.ics.uci.edu/ml/machine-learning-databases/00516/mirai/Mirai_dataset.csv.gz\n",
    "\n",
    "wget https://archive.ics.uci.edu/ml/machine-learning-databases/00516/mirai/Mirai_labels.csv.gz\n",
    "\n",
    "Then unpack the files using `gunzip` in the terminal, i.e.\n",
    "\n",
    "gunzip Mirai_dataset.csv.gz\n",
    "\n",
    "gunzip Mirai_labels.csv.gz"
   ]
  },
  {
   "cell_type": "markdown",
   "metadata": {},
   "source": [
    "# Part 2: Get a graphics card\n",
    "\n",
    "Skip this part if you run on the CPU (recommended)\n",
    "\n",
    "Lets make sure that our script can see the graphics card that will be used. The graphics cards will perform all the time consuming calculations in every training iteration."
   ]
  },
  {
   "cell_type": "code",
   "execution_count": 1,
   "metadata": {},
   "outputs": [
    {
     "ename": "IndexError",
     "evalue": "list index out of range",
     "output_type": "error",
     "traceback": [
      "\u001b[1;31m---------------------------------------------------------------------------\u001b[0m",
      "\u001b[1;31mIndexError\u001b[0m                                Traceback (most recent call last)",
      "Input \u001b[1;32mIn [1]\u001b[0m, in \u001b[0;36m<cell line: 17>\u001b[1;34m()\u001b[0m\n\u001b[0;32m     15\u001b[0m \u001b[38;5;66;03m# Allow growth of GPU memory, otherwise it will always look like all the memory is being used\u001b[39;00m\n\u001b[0;32m     16\u001b[0m physical_devices \u001b[38;5;241m=\u001b[39m tf\u001b[38;5;241m.\u001b[39mconfig\u001b[38;5;241m.\u001b[39mexperimental\u001b[38;5;241m.\u001b[39mlist_physical_devices(\u001b[38;5;124m'\u001b[39m\u001b[38;5;124mGPU\u001b[39m\u001b[38;5;124m'\u001b[39m)\n\u001b[1;32m---> 17\u001b[0m tf\u001b[38;5;241m.\u001b[39mconfig\u001b[38;5;241m.\u001b[39mexperimental\u001b[38;5;241m.\u001b[39mset_memory_growth(\u001b[43mphysical_devices\u001b[49m\u001b[43m[\u001b[49m\u001b[38;5;241;43m0\u001b[39;49m\u001b[43m]\u001b[49m, \u001b[38;5;28;01mTrue\u001b[39;00m)\n",
      "\u001b[1;31mIndexError\u001b[0m: list index out of range"
     ]
    }
   ],
   "source": [
    "import os\n",
    "import warnings\n",
    "\n",
    "# Ignore FutureWarning from numpy\n",
    "warnings.simplefilter(action='ignore', category=FutureWarning)\n",
    "\n",
    "import keras.backend as K\n",
    "import tensorflow as tf\n",
    "\n",
    "os.environ[\"CUDA_DEVICE_ORDER\"]=\"PCI_BUS_ID\";\n",
    " \n",
    "# The GPU id to use, usually either \"0\" or \"1\";\n",
    "os.environ[\"CUDA_VISIBLE_DEVICES\"]=\"0\";\n",
    "\n",
    "# Allow growth of GPU memory, otherwise it will always look like all the memory is being used\n",
    "physical_devices = tf.config.experimental.list_physical_devices('GPU')\n",
    "tf.config.experimental.set_memory_growth(physical_devices[0], True) "
   ]
  },
  {
   "cell_type": "markdown",
   "metadata": {},
   "source": [
    "# Part 3: Hardware\n",
    "\n",
    "In deep learning, the computer hardware is very important. You should always know what kind of hardware you are working on. Lets pretend that everyone is using an Nvidia RTX 3090 graphics card.\n",
    "\n",
    "Question 1: Google the name of the graphics card, how many CUDA cores does it have?\n",
    "\n",
    "Question 2: How much memory does the graphics card have?\n",
    "\n",
    "Question 3: What is stored in the GPU memory while training a DNN ?"
   ]
  },
  {
   "cell_type": "markdown",
   "metadata": {},
   "source": [
    "Answer:\n",
    "\n",
    "Q1: 10496 CUDA cores\n",
    "\n",
    "Q2: 24 GB\n",
    "\n",
    "Q3: Activations, input data and weight parameters."
   ]
  },
  {
   "cell_type": "markdown",
   "metadata": {},
   "source": [
    "# Part 4: Load the data\n",
    "\n",
    "To make this step easier, directly load the data from saved numpy arrays (.npy) (recommended)\n",
    "\n",
    "\n",
    "Load the dataset from the csv files, it will take some time since it is almost 1.4 GB. (not recommended, unless you want to learn how to do it)\n",
    "\n",
    "We will use the function `genfromtxt` to load the data. (not recommended, unless you want to learn how to do it)\n",
    "\n",
    "https://docs.scipy.org/doc/numpy/reference/generated/numpy.genfromtxt.html\n",
    "\n",
    "Load the data from csv files the first time, then save the data as numpy files for faster loading the next time.\n"
   ]
  },
  {
   "cell_type": "code",
   "execution_count": 2,
   "metadata": {},
   "outputs": [
    {
     "name": "stdout",
     "output_type": "stream",
     "text": [
      "The covariates have size (764137, 92).\n",
      "The labels have size (764137,).\n"
     ]
    }
   ],
   "source": [
    "from numpy import genfromtxt # Not needed if you load data from numpy arrays\n",
    "import numpy as np\n",
    "\n",
    "# Load data from numpy arrays, choose reduced files if the training takes too long\n",
    "# Remove the first 24 covariates (columns)\n",
    "X = np.load('Mirai_data.npy')[:,24:]\n",
    "Y = np.load('Mirai_labels.npy')\n",
    "\n",
    "print('The covariates have size {}.'.format(X.shape))\n",
    "print('The labels have size {}.'.format(Y.shape))\n",
    "\n",
    "# Print the number of examples of each class\n",
    "    "
   ]
  },
  {
   "cell_type": "markdown",
   "metadata": {},
   "source": [
    "# Part 5: How good is a naive classifier?\n",
    "\n",
    "Question 4: Given the number of examples from each class, how high classification performance can a naive classifier obtain? The naive classifier will assume that all examples belong to one class. Note: you do not need to make a naive classifier, this is a theoretical question, just to understand how good performance we can obtain by guessing that all examples belong to one class."
   ]
  },
  {
   "cell_type": "markdown",
   "metadata": {},
   "source": [
    "Answer:"
   ]
  },
  {
   "cell_type": "code",
   "execution_count": 3,
   "metadata": {},
   "outputs": [
    {
     "name": "stdout",
     "output_type": "stream",
     "text": [
      "0\n",
      "0\n"
     ]
    }
   ],
   "source": [
    "# It is common to have NaNs in the data, lets check for it. Hint: np.isnan()\n",
    "# Print the number of NaNs (not a number) in the labels\n",
    "nnanslabels = np.count_nonzero(np.isnan(Y))\n",
    "print(nnanslabels)\n",
    "# Print the number of NaNs in the covariates\n",
    "nnanscov = np.count_nonzero(np.isnan(X))\n",
    "print(nnanscov)"
   ]
  },
  {
   "cell_type": "markdown",
   "metadata": {},
   "source": [
    "# Part 6: Preprocessing\n",
    "\n",
    "Lets do some simple preprocessing"
   ]
  },
  {
   "cell_type": "code",
   "execution_count": 4,
   "metadata": {},
   "outputs": [
    {
     "name": "stdout",
     "output_type": "stream",
     "text": [
      "[-3.19451533e-18 -6.32970181e-14  1.19926356e-13  4.56743018e-15\n",
      "  4.10210037e-14  1.46130975e-13  5.85246484e-16 -1.69734859e-14\n",
      " -3.36915700e-13  1.28688437e-12 -2.69360995e-12 -1.10733213e-13\n",
      " -1.22392702e-13 -1.70649630e-13 -1.02461166e-14  2.50701280e-12\n",
      "  1.47553162e-12  1.08446837e-12 -1.04981959e-13  6.83458762e-14\n",
      " -1.03373555e-13  5.98825773e-14 -1.02025960e-12 -1.68983055e-12\n",
      " -1.79101143e-12 -1.31828514e-13  4.42580403e-13  6.14635580e-13\n",
      "  5.78048199e-14 -4.92623328e-13 -2.54513072e-12  1.86544900e-13\n",
      " -1.53444593e-13  1.68079591e-12  9.30041709e-13  1.50738177e-13\n",
      " -1.15688852e-12 -3.62610361e-13 -1.71390937e-12 -2.09264067e-13\n",
      "  1.07161976e-12 -1.45236885e-12 -1.69724579e-14 -1.64918984e-16\n",
      " -5.13444996e-14 -1.02171349e-14 -1.74685907e-15  1.34264921e-13\n",
      "  5.98801969e-14  1.48745574e-17 -4.25442340e-13  5.78079594e-14\n",
      "  1.25638129e-15  1.69449684e-13  1.50725881e-13  2.14439542e-14\n",
      "  3.65457183e-14  1.17260451e-13 -8.82752870e-13 -6.34816648e-13\n",
      " -1.62109649e-12  2.63270303e-13 -7.57215123e-15 -2.89395002e-14\n",
      " -3.90180996e-13 -1.53167085e-12 -9.57913621e-13  2.47411065e-13\n",
      "  2.44200541e-13 -6.73050928e-15  1.07502596e-13  2.58222203e-13\n",
      " -1.87714601e-13 -1.19882476e-12 -2.17154862e-12  5.48444735e-14\n",
      "  5.46183481e-15  3.71315442e-14  1.47576646e-13 -1.62639245e-12\n",
      " -1.23986972e-13 -1.71744315e-12  5.29956657e-13 -3.21442452e-14\n",
      " -4.59767392e-14  3.56347870e-13 -1.48544246e-12 -1.26642728e-13\n",
      "  1.52633871e-13  9.58048710e-14  4.34603426e-14 -4.07615740e-14]\n",
      "[1. 1. 1. 1. 1. 1. 1. 1. 1. 1. 1. 1. 1. 1. 1. 1. 1. 1. 1. 1. 1. 1. 1. 1.\n",
      " 1. 1. 1. 1. 1. 1. 1. 1. 1. 1. 1. 1. 1. 1. 1. 1. 1. 1. 1. 1. 1. 1. 1. 1.\n",
      " 1. 1. 1. 1. 1. 1. 1. 1. 1. 1. 1. 1. 1. 1. 1. 1. 1. 1. 1. 1. 1. 1. 1. 1.\n",
      " 1. 1. 1. 1. 1. 1. 1. 1. 1. 1. 1. 1. 1. 1. 1. 1. 1. 1. 1. 1.]\n"
     ]
    }
   ],
   "source": [
    "# Convert covariates to floats\n",
    "X = X.astype('float')\n",
    "\n",
    "# Convert labels to integers\n",
    "Y = Y.astype('int')\n",
    "\n",
    "#Remove mean of each covariate (column)\n",
    "X = X -np.mean(X, axis=0)\n",
    "\n",
    "#Divide each covariate (column) by its standard deviation\n",
    "X = X / np.std(X, axis=0)\n",
    "\n",
    "#Check that mean is 0 and standard deviation is 1 for all covariates, by printing mean and std\n",
    "print(np.mean(X, axis=0))\n",
    "print(np.std(X, axis=0))"
   ]
  },
  {
   "cell_type": "markdown",
   "metadata": {},
   "source": [
    "# Part 7: Split the dataset\n",
    "\n",
    "Use the first 70% of the dataset for training, leave the other 30% for validation and test, call the variables\n",
    "\n",
    "Xtrain (70%)\n",
    "\n",
    "Xtemp  (30%)\n",
    "\n",
    "Ytrain (70%)\n",
    "\n",
    "Ytemp  (30%)\n",
    "\n",
    "We use a function from scikit learn.\n",
    "https://scikit-learn.org/stable/modules/generated/sklearn.model_selection.train_test_split.html\n"
   ]
  },
  {
   "cell_type": "code",
   "execution_count": 5,
   "metadata": {},
   "outputs": [
    {
     "name": "stdout",
     "output_type": "stream",
     "text": [
      "Xtrain has size (534895, 92).\n",
      "Ytrain has size (534895,).\n",
      "Xtemp has size (229242, 92).\n",
      "Ytemp has size (229242,).\n"
     ]
    }
   ],
   "source": [
    "from sklearn.model_selection import train_test_split\n",
    "\n",
    "# Your code\n",
    "Xtrain, Xtemp, Ytrain, Ytemp = train_test_split(X, Y, train_size=0.70 ,test_size=0.30)\n",
    "\n",
    "print('Xtrain has size {}.'.format(Xtrain.shape))\n",
    "print('Ytrain has size {}.'.format(Ytrain.shape))\n",
    "\n",
    "print('Xtemp has size {}.'.format(Xtemp.shape))\n",
    "print('Ytemp has size {}.'.format(Ytemp.shape))\n",
    "\n",
    "# Print the number of examples of each class, for the training data and the remaining 30%\n",
    "\n"
   ]
  },
  {
   "cell_type": "markdown",
   "metadata": {},
   "source": [
    "#  Part 8: Split non-training data data into validation and test\n",
    "Now split your non-training data (Xtemp, Ytemp) into 50% validation (Xval, Yval) and 50% testing (Xtest, Ytest), we use a function from scikit learn. In total this gives us 70% for training, 15% for validation, 15% for test.\n",
    "\n",
    "https://scikit-learn.org/stable/modules/generated/sklearn.model_selection.train_test_split.html\n",
    "\n",
    "Do all variables (Xtrain,Ytrain), (Xval,Yval), (Xtest,Ytest) have the shape that you expect?"
   ]
  },
  {
   "cell_type": "code",
   "execution_count": 6,
   "metadata": {},
   "outputs": [
    {
     "name": "stdout",
     "output_type": "stream",
     "text": [
      "The validation and test data have size (114621, 92), (114621, 92), (114621,) and (114621,)\n"
     ]
    }
   ],
   "source": [
    "from sklearn.model_selection import train_test_split\n",
    "\n",
    "Xtest, Xval, Ytest, Yval = train_test_split(Xtemp, Ytemp, train_size=0.50, test_size=0.50)\n",
    "\n",
    "print('The validation and test data have size {}, {}, {} and {}'.format(Xval.shape, Xtest.shape, Yval.shape, Ytest.shape))"
   ]
  },
  {
   "cell_type": "markdown",
   "metadata": {},
   "source": [
    "Answer: Yes, the feature amount is the same for the Xtrain,Xval and Xtest whilst the Y data has only the labels which are as many as the rows in the X data."
   ]
  },
  {
   "cell_type": "markdown",
   "metadata": {},
   "source": [
    "# Part 9: DNN classification\n",
    "\n",
    "Finish this code to create a first version of the classifier using a DNN. Start with a simple network with 2 dense layers (with 20 nodes each), using sigmoid activation functions. The final dense layer should have a single node and a sigmoid activation function. We start with the SGD optimizer.\n",
    "\n",
    "For different parts of this notebook you need to go back here, add more things, and re-run this cell to re-define the build function.\n",
    "\n",
    "Relevant functions are\n",
    "\n",
    "`model.add()`, adds a layer to the network\n",
    "\n",
    "`Dense()`, a dense network layer\n",
    "\n",
    "`model.compile()`, compile the model, add \" metrics=['accuracy'] \" to print the classification accuracy during the training\n",
    "\n",
    "See https://keras.io/layers/core/ for information on how the `Dense()` function works\n",
    "\n",
    "Import a relevant cost / loss function for binary classification from keras.losses (https://keras.io/losses/)\n",
    "\n",
    "See the following links for how to compile, train and evaluate the model\n",
    "\n",
    "https://keras.io/api/models/model_training_apis/#compile-method\n",
    "\n",
    "https://keras.io/api/models/model_training_apis/#fit-method\n",
    "\n",
    "https://keras.io/api/models/model_training_apis/#evaluate-method\n"
   ]
  },
  {
   "cell_type": "code",
   "execution_count": 7,
   "metadata": {},
   "outputs": [],
   "source": [
    "from keras.models import Sequential, Model\n",
    "from keras.layers import Input, Dense\n",
    "from keras.losses import binary_crossentropy\n",
    "from tensorflow.keras.optimizers import SGD\n",
    "from tensorflow.keras.optimizers import Adam\n",
    "from tensorflow.keras.layers import BatchNormalization, Dropout\n",
    "from tensorflow.keras import layers\n",
    "from tensorflow.keras import activations\n",
    "\n",
    "\n",
    "# Set seed from random number generator, for better comparisons\n",
    "from numpy.random import seed\n",
    "seed(123)\n",
    "\n",
    "def build_DNN(input_shape, n_layers, n_nodes, act_fun='sigmoid', optimizer='sgd', learning_rate=0.01, \n",
    "              use_bn=False, use_dropout=False, use_custom_dropout=False):\n",
    "    \n",
    "    if optimizer == 'sgd':\n",
    "        opt = SGD(learning_rate=learning_rate)\n",
    "    else:\n",
    "        opt = Adam(learning_rate=learning_rate)\n",
    "        \n",
    "    model = Sequential()\n",
    "    \n",
    "    model.add(Dense(n_nodes,input_dim=input_shape, activation = act_fun))\n",
    "    \n",
    "    def additional(use_bn,use_dropout,use_custom_dropout):\n",
    "        if use_bn == True:\n",
    "            model.add(BatchNormalization())\n",
    "        if use_dropout == True:\n",
    "            model.add(Dropout(0.2))\n",
    "        if use_custom_dropout == True:\n",
    "            model.add(myDropout(0.2))\n",
    "    additional(use_bn,use_dropout,use_custom_dropout)\n",
    "        \n",
    "    for i in range(n_layers-1):\n",
    "        model.add(Dense(n_nodes, activation = act_fun))\n",
    "        additional(use_bn,use_dropout,use_custom_dropout)\n",
    "\n",
    "    model.add(layers.Dense(1, activation = 'sigmoid'))\n",
    "\n",
    "    model.compile(loss = 'binary_crossentropy', optimizer = opt , metrics = ['accuracy'])\n",
    "    \n",
    "    return model\n"
   ]
  },
  {
   "cell_type": "code",
   "execution_count": 8,
   "metadata": {},
   "outputs": [],
   "source": [
    "# Lets define a help function for plotting the training results\n",
    "\n",
    "import matplotlib.pyplot as plt\n",
    "def plot_results(history):\n",
    "    \n",
    "    val_loss = history.history['val_loss']\n",
    "    acc = history.history['accuracy']\n",
    "    loss = history.history['loss']\n",
    "    val_acc = history.history['val_accuracy']\n",
    "    \n",
    "    plt.figure(figsize=(10,4))\n",
    "    plt.xlabel('Epochs')\n",
    "    plt.ylabel('Loss')\n",
    "    plt.plot(loss)\n",
    "    plt.plot(val_loss)\n",
    "    plt.legend(['Training','Validation'])\n",
    "\n",
    "    plt.figure(figsize=(10,4))\n",
    "    plt.xlabel('Epochs')\n",
    "    plt.ylabel('Accuracy')\n",
    "    plt.plot(acc)\n",
    "    plt.plot(val_acc)\n",
    "    plt.legend(['Training','Validation'])\n",
    "\n",
    "    plt.show()"
   ]
  },
  {
   "cell_type": "markdown",
   "metadata": {},
   "source": [
    "# Part 10: Train the DNN\n",
    "\n",
    "Time to train the DNN, we start simple with 2 layers with 20 nodes each, learning rate 0.1.\n",
    "\n",
    "Relevant functions\n",
    "\n",
    "`build_DNN`, the function we defined in Part 9, call it with the parameters you want to use\n",
    "\n",
    "`model.fit()`, train the model with some training data\n",
    "\n",
    "`model.evaluate()`, apply the trained model to some test data\n",
    "\n",
    "See the following links for how to train and evaluate the model\n",
    "\n",
    "https://keras.io/api/models/model_training_apis/#fit-method\n",
    "\n",
    "https://keras.io/api/models/model_training_apis/#evaluate-method\n"
   ]
  },
  {
   "cell_type": "code",
   "execution_count": 9,
   "metadata": {
    "scrolled": true
   },
   "outputs": [
    {
     "name": "stdout",
     "output_type": "stream",
     "text": [
      "Epoch 1/20\n",
      "535/535 [==============================] - 1s 2ms/step - loss: 0.4281 - accuracy: 0.8407 - val_loss: 0.4134 - val_accuracy: 0.8414\n",
      "Epoch 2/20\n",
      "535/535 [==============================] - 1s 1ms/step - loss: 0.3988 - accuracy: 0.8407 - val_loss: 0.3800 - val_accuracy: 0.8414\n",
      "Epoch 3/20\n",
      "535/535 [==============================] - 1s 1ms/step - loss: 0.3594 - accuracy: 0.8407 - val_loss: 0.3350 - val_accuracy: 0.8414\n",
      "Epoch 4/20\n",
      "535/535 [==============================] - 1s 1ms/step - loss: 0.3114 - accuracy: 0.8407 - val_loss: 0.2866 - val_accuracy: 0.8414\n",
      "Epoch 5/20\n",
      "535/535 [==============================] - 1s 974us/step - loss: 0.2667 - accuracy: 0.8407 - val_loss: 0.2478 - val_accuracy: 0.8412\n",
      "Epoch 6/20\n",
      "535/535 [==============================] - 1s 1ms/step - loss: 0.2351 - accuracy: 0.8532 - val_loss: 0.2234 - val_accuracy: 0.8649\n",
      "Epoch 7/20\n",
      "535/535 [==============================] - 1s 998us/step - loss: 0.2162 - accuracy: 0.8769 - val_loss: 0.2093 - val_accuracy: 0.8912\n",
      "Epoch 8/20\n",
      "535/535 [==============================] - 1s 1ms/step - loss: 0.2052 - accuracy: 0.8944 - val_loss: 0.2008 - val_accuracy: 0.8962\n",
      "Epoch 9/20\n",
      "535/535 [==============================] - 1s 1ms/step - loss: 0.1983 - accuracy: 0.8981 - val_loss: 0.1954 - val_accuracy: 0.9009\n",
      "Epoch 10/20\n",
      "535/535 [==============================] - 1s 1ms/step - loss: 0.1937 - accuracy: 0.9009 - val_loss: 0.1915 - val_accuracy: 0.9018\n",
      "Epoch 11/20\n",
      "535/535 [==============================] - 1s 1ms/step - loss: 0.1903 - accuracy: 0.9018 - val_loss: 0.1885 - val_accuracy: 0.9021\n",
      "Epoch 12/20\n",
      "535/535 [==============================] - 1s 1ms/step - loss: 0.1876 - accuracy: 0.9023 - val_loss: 0.1860 - val_accuracy: 0.9027\n",
      "Epoch 13/20\n",
      "535/535 [==============================] - 1s 1ms/step - loss: 0.1853 - accuracy: 0.9027 - val_loss: 0.1839 - val_accuracy: 0.9032\n",
      "Epoch 14/20\n",
      "535/535 [==============================] - 1s 1ms/step - loss: 0.1834 - accuracy: 0.9035 - val_loss: 0.1821 - val_accuracy: 0.9039\n",
      "Epoch 15/20\n",
      "535/535 [==============================] - 1s 1ms/step - loss: 0.1816 - accuracy: 0.9041 - val_loss: 0.1804 - val_accuracy: 0.9049\n",
      "Epoch 16/20\n",
      "535/535 [==============================] - 1s 1ms/step - loss: 0.1801 - accuracy: 0.9052 - val_loss: 0.1789 - val_accuracy: 0.9059\n",
      "Epoch 17/20\n",
      "535/535 [==============================] - 1s 1ms/step - loss: 0.1787 - accuracy: 0.9060 - val_loss: 0.1776 - val_accuracy: 0.9068\n",
      "Epoch 18/20\n",
      "535/535 [==============================] - 1s 1ms/step - loss: 0.1774 - accuracy: 0.9066 - val_loss: 0.1764 - val_accuracy: 0.9074\n",
      "Epoch 19/20\n",
      "535/535 [==============================] - 1s 1ms/step - loss: 0.1762 - accuracy: 0.9070 - val_loss: 0.1752 - val_accuracy: 0.9079\n",
      "Epoch 20/20\n",
      "535/535 [==============================] - 1s 1ms/step - loss: 0.1752 - accuracy: 0.9074 - val_loss: 0.1742 - val_accuracy: 0.9083\n"
     ]
    }
   ],
   "source": [
    "# Setup some training parameters\n",
    "batch_size = 1000\n",
    "epochs = 20\n",
    "n_nodes = 20\n",
    "n_layers = 2\n",
    "input_shape = Xtrain.shape[1]\n",
    "\n",
    "# Build the model\n",
    "model1 = build_DNN(input_shape,n_layers,n_nodes)\n",
    "\n",
    "# Train the model, provide training data and validation data\n",
    "history1 = model1.fit(x=Xtrain, y=Ytrain , batch_size=batch_size , validation_data = (Xval,Yval), epochs = epochs ) "
   ]
  },
  {
   "cell_type": "markdown",
   "metadata": {},
   "source": [
    "### 2 layers, 20 nodes"
   ]
  },
  {
   "cell_type": "code",
   "execution_count": 221,
   "metadata": {},
   "outputs": [
    {
     "name": "stdout",
     "output_type": "stream",
     "text": [
      "2388/2388 [==============================] - 1s 511us/step - loss: 0.1813 - accuracy: 0.9040\n",
      "Test loss: 0.1813\n",
      "Test accuracy: 0.9040\n"
     ]
    }
   ],
   "source": [
    "# Evaluate the model on the test data\n",
    "score = model1.evaluate(Xtest,Ytest)\n",
    "\n",
    "print('Test loss: %.4f' % score[0])\n",
    "print('Test accuracy: %.4f' % score[1])"
   ]
  },
  {
   "cell_type": "code",
   "execution_count": 222,
   "metadata": {},
   "outputs": [
    {
     "data": {
      "image/png": "[encoded data removed]",
      "text/plain": [
       "<Figure size 720x288 with 1 Axes>"
      ]
     },
     "metadata": {
      "needs_background": "light"
     },
     "output_type": "display_data"
    },
    {
     "data": {
      "image/png": "[encoded data removed]",
      "text/plain": [
       "<Figure size 720x288 with 1 Axes>"
      ]
     },
     "metadata": {
      "needs_background": "light"
     },
     "output_type": "display_data"
    }
   ],
   "source": [
    "# Plot the history from the training run\n",
    "plot_results(history1)"
   ]
  },
  {
   "cell_type": "markdown",
   "metadata": {},
   "source": [
    "# Part 11: More questions\n",
    "\n",
    "Question 5: What happens if you add several Dense layers without specifying the activation function?\n",
    "\n",
    "Question 6: How are the weights in each dense layer initialized as default? How are the bias weights initialized?\n"
   ]
  },
  {
   "cell_type": "markdown",
   "metadata": {},
   "source": [
    "Answer:  \n",
    "\n",
    "Q5: It could be in that case used for regression, as having no given activation function is having linear activation.\n",
    "\n",
    "Q6: The glorot_uniform is initialized as default for the Dense Layer, as default the bias weights are true by default in use_bias for the Dense Layer "
   ]
  },
  {
   "cell_type": "markdown",
   "metadata": {},
   "source": [
    "# Part 12: Balancing the classes\n",
    "\n",
    "This dataset is rather unbalanced, we need to define class weights so that the training pays more attention to the class with fewer samples. We use a function in scikit learn\n",
    "\n",
    "https://scikit-learn.org/stable/modules/generated/sklearn.utils.class_weight.compute_class_weight.html\n",
    "\n",
    "You need to call the function something like this\n",
    "\n",
    "class_weights = class_weight.compute_class_weight(class_weight = , classes = , y = )\n",
    "\n",
    "otherwise it will complain"
   ]
  },
  {
   "cell_type": "code",
   "execution_count": 223,
   "metadata": {},
   "outputs": [
    {
     "name": "stdout",
     "output_type": "stream",
     "text": [
      "[3.14146393 0.59464449]\n"
     ]
    }
   ],
   "source": [
    "from sklearn.utils import class_weight\n",
    "\n",
    "# Calculate class weights\n",
    "class_weights = class_weight.compute_class_weight(class_weight = 'balanced', classes = np.unique(Ytrain), y = Ytrain)\n",
    "\n",
    "# Print the class weights\n",
    "print(class_weights)\n",
    "\n",
    "# Keras wants the weights in this form, uncomment and change value1 and value2 to your weights, \n",
    "# or get them from the array that is returned from class_weight\n",
    "value1 = class_weights[0]\n",
    "value2 = class_weights[1]\n",
    "class_weights = {0: value1,\n",
    "                 1: value2}\n"
   ]
  },
  {
   "cell_type": "markdown",
   "metadata": {},
   "source": [
    "### 2 layers, 20 nodes, class weights"
   ]
  },
  {
   "cell_type": "code",
   "execution_count": 224,
   "metadata": {
    "scrolled": true
   },
   "outputs": [
    {
     "name": "stdout",
     "output_type": "stream",
     "text": [
      "Epoch 1/20\n",
      "688/688 [==============================] - 1s 2ms/step - loss: 0.6434 - accuracy: 0.8699 - val_loss: 0.5763 - val_accuracy: 0.8793\n",
      "Epoch 2/20\n",
      "688/688 [==============================] - 1s 1ms/step - loss: 0.4833 - accuracy: 0.8781 - val_loss: 0.4015 - val_accuracy: 0.8785\n",
      "Epoch 3/20\n",
      "688/688 [==============================] - 1s 1ms/step - loss: 0.3265 - accuracy: 0.8786 - val_loss: 0.3155 - val_accuracy: 0.8787\n",
      "Epoch 4/20\n",
      "688/688 [==============================] - 1s 1ms/step - loss: 0.2628 - accuracy: 0.8790 - val_loss: 0.2926 - val_accuracy: 0.8791\n",
      "Epoch 5/20\n",
      "688/688 [==============================] - 1s 1ms/step - loss: 0.2415 - accuracy: 0.8794 - val_loss: 0.2835 - val_accuracy: 0.8793\n",
      "Epoch 6/20\n",
      "688/688 [==============================] - 1s 1ms/step - loss: 0.2323 - accuracy: 0.8796 - val_loss: 0.2793 - val_accuracy: 0.8794\n",
      "Epoch 7/20\n",
      "688/688 [==============================] - 1s 1ms/step - loss: 0.2271 - accuracy: 0.8797 - val_loss: 0.2768 - val_accuracy: 0.8794\n",
      "Epoch 8/20\n",
      "688/688 [==============================] - 1s 1ms/step - loss: 0.2236 - accuracy: 0.8798 - val_loss: 0.2736 - val_accuracy: 0.8795\n",
      "Epoch 9/20\n",
      "688/688 [==============================] - 1s 1ms/step - loss: 0.2209 - accuracy: 0.8798 - val_loss: 0.2715 - val_accuracy: 0.8796\n",
      "Epoch 10/20\n",
      "688/688 [==============================] - 1s 1ms/step - loss: 0.2186 - accuracy: 0.8800 - val_loss: 0.2694 - val_accuracy: 0.8797\n",
      "Epoch 11/20\n",
      "688/688 [==============================] - 1s 1ms/step - loss: 0.2164 - accuracy: 0.8801 - val_loss: 0.2669 - val_accuracy: 0.8798\n",
      "Epoch 12/20\n",
      "688/688 [==============================] - 1s 1ms/step - loss: 0.2144 - accuracy: 0.8801 - val_loss: 0.2645 - val_accuracy: 0.8799\n",
      "Epoch 13/20\n",
      "688/688 [==============================] - 1s 1ms/step - loss: 0.2125 - accuracy: 0.8802 - val_loss: 0.2621 - val_accuracy: 0.8799\n",
      "Epoch 14/20\n",
      "688/688 [==============================] - 1s 1ms/step - loss: 0.2107 - accuracy: 0.8805 - val_loss: 0.2600 - val_accuracy: 0.8806\n",
      "Epoch 15/20\n",
      "688/688 [==============================] - 1s 1ms/step - loss: 0.2091 - accuracy: 0.8815 - val_loss: 0.2586 - val_accuracy: 0.8816\n",
      "Epoch 16/20\n",
      "688/688 [==============================] - 1s 1ms/step - loss: 0.2076 - accuracy: 0.8825 - val_loss: 0.2567 - val_accuracy: 0.8827\n",
      "Epoch 17/20\n",
      "688/688 [==============================] - 1s 1ms/step - loss: 0.2062 - accuracy: 0.8834 - val_loss: 0.2547 - val_accuracy: 0.8838\n",
      "Epoch 18/20\n",
      "688/688 [==============================] - 1s 1ms/step - loss: 0.2050 - accuracy: 0.8845 - val_loss: 0.2540 - val_accuracy: 0.8846\n",
      "Epoch 19/20\n",
      "688/688 [==============================] - 1s 1ms/step - loss: 0.2038 - accuracy: 0.8852 - val_loss: 0.2525 - val_accuracy: 0.8852\n",
      "Epoch 20/20\n",
      "688/688 [==============================] - 1s 1ms/step - loss: 0.2027 - accuracy: 0.8860 - val_loss: 0.2521 - val_accuracy: 0.8860\n"
     ]
    }
   ],
   "source": [
    "# Setup some training parameters\n",
    "batch_size = 1000\n",
    "epochs = 20\n",
    "n_nodes = 20\n",
    "n_layers = 2\n",
    "input_shape = Xtrain.shape[1]\n",
    "\n",
    "# Build and train model\n",
    "model2 = build_DNN(input_shape,n_layers,n_nodes)\n",
    "\n",
    "history2 = model2.fit(x=Xtrain, y=Ytrain , batch_size=batch_size , validation_data = (Xval,Yval), epochs = epochs, class_weight=class_weights ) "
   ]
  },
  {
   "cell_type": "code",
   "execution_count": 225,
   "metadata": {},
   "outputs": [
    {
     "name": "stdout",
     "output_type": "stream",
     "text": [
      "2388/2388 [==============================] - 1s 511us/step - loss: 0.2545 - accuracy: 0.8852\n",
      "Test loss: 0.2545\n",
      "Test accuracy: 0.8852\n"
     ]
    }
   ],
   "source": [
    "# Evaluate model on test data\n",
    "score = model2.evaluate(Xtest,Ytest)\n",
    "\n",
    "print('Test loss: %.4f' % score[0])\n",
    "print('Test accuracy: %.4f' % score[1])"
   ]
  },
  {
   "cell_type": "code",
   "execution_count": 226,
   "metadata": {},
   "outputs": [
    {
     "data": {
      "image/png": "[encoded data removed]",
      "text/plain": [
       "<Figure size 720x288 with 1 Axes>"
      ]
     },
     "metadata": {
      "needs_background": "light"
     },
     "output_type": "display_data"
    },
    {
     "data": {
      "image/png": "[encoded data removed]",
      "text/plain": [
       "<Figure size 720x288 with 1 Axes>"
      ]
     },
     "metadata": {
      "needs_background": "light"
     },
     "output_type": "display_data"
    },
    {
     "name": "stdout",
     "output_type": "stream",
     "text": [
      "Model: \"sequential_87\"\n",
      "_________________________________________________________________\n",
      " Layer (type)                Output Shape              Param #   \n",
      "=================================================================\n",
      " dense_634 (Dense)           (None, 20)                1380      \n",
      "                                                                 \n",
      " dense_635 (Dense)           (None, 20)                420       \n",
      "                                                                 \n",
      " dense_636 (Dense)           (None, 1)                 21        \n",
      "                                                                 \n",
      "=================================================================\n",
      "Total params: 1,821\n",
      "Trainable params: 1,821\n",
      "Non-trainable params: 0\n",
      "_________________________________________________________________\n"
     ]
    }
   ],
   "source": [
    "plot_results(history2)\n",
    "model2.summary()"
   ]
  },
  {
   "cell_type": "markdown",
   "metadata": {},
   "source": [
    "# Part 13: More questions\n",
    "\n",
    "Skip questions 8 and 9 if you run on the CPU (recommended)\n",
    "\n",
    "Question 7: Why do we have to use a batch size? Why can't we simply use all data at once? This is more relevant for even larger datasets.\n",
    "\n",
    "Question 8: How busy is the GPU for a batch size of 100? How much GPU memory is used? Hint: run 'nvidia-smi' on the computer a few times during training.\n",
    "\n",
    "Question 9: What is the processing time for one training epoch when the batch size is 100? What is the processing time for one epoch when the batch size is 1,000? What is the processing time for one epoch when the batch size is 10,000? Explain the results. \n",
    "\n",
    "Question 10: How many times are the weights in the DNN updated in each training epoch if the batch size is 100? How many times are the weights in the DNN updated in each training epoch if the batch size is 1,000? How many times are the weights in the DNN updated in each training epoch if the batch size is 10,000?  \n",
    "\n",
    "Question 11: What limits how large the batch size can be?\n",
    "\n",
    "Question 12: Generally speaking, how is the learning rate related to the batch size? If the batch size is decreased, how should the learning rate be changed?\n",
    "\n",
    "Lets use a batch size of 10,000 from now on, and a learning rate of 0.1."
   ]
  },
  {
   "cell_type": "markdown",
   "metadata": {},
   "source": [
    "Answer:\n",
    "\n",
    "Q7: Using bigger batch sizes speed up the computation time by storing less of the data in the memory.\n",
    "\n",
    "Q10: It is calculated by sample size devided by batch size so in our case: 534895/1000 = 535 weight updates, 53.5 times with batch size of 1000\n",
    "\n",
    "Q11: Equal or less than samples size\n",
    "\n",
    "Q12: Larger batch size means we assume more certainty in one direction and then we need higher learning rate to consider that , learning rate should be decreased to improve the accuracy"
   ]
  },
  {
   "cell_type": "markdown",
   "metadata": {},
   "source": [
    "# Part 14: Increasing the complexity\n",
    "\n",
    "Lets try some different configurations of number of layers and number of nodes per layer.\n",
    "\n",
    "Question 13: How many trainable parameters does the network with 4 dense layers with 50 nodes each have, compared to the initial network with 2 layers and 20 nodes per layer? Hint: use model.summary()"
   ]
  },
  {
   "cell_type": "markdown",
   "metadata": {},
   "source": [
    "Answer: \n",
    "\n",
    "Q13: Network with 4 layers and 50 nodes have 11,151 parameters in total. The 2 layers with 20 node have 1,821\n"
   ]
  },
  {
   "cell_type": "markdown",
   "metadata": {},
   "source": [
    "### 4 layers, 20 nodes, class weights"
   ]
  },
  {
   "cell_type": "code",
   "execution_count": 227,
   "metadata": {
    "scrolled": true
   },
   "outputs": [
    {
     "name": "stdout",
     "output_type": "stream",
     "text": [
      "Epoch 1/20\n",
      "69/69 [==============================] - 1s 9ms/step - loss: 0.6940 - accuracy: 0.4544 - val_loss: 0.6908 - val_accuracy: 0.8648\n",
      "Epoch 2/20\n",
      "69/69 [==============================] - 0s 7ms/step - loss: 0.6915 - accuracy: 0.7414 - val_loss: 0.6898 - val_accuracy: 0.8608\n",
      "Epoch 3/20\n",
      "69/69 [==============================] - 0s 7ms/step - loss: 0.6910 - accuracy: 0.6955 - val_loss: 0.6869 - val_accuracy: 0.8471\n",
      "Epoch 4/20\n",
      "69/69 [==============================] - 0s 7ms/step - loss: 0.6904 - accuracy: 0.8029 - val_loss: 0.6911 - val_accuracy: 0.8777\n",
      "Epoch 5/20\n",
      "69/69 [==============================] - 0s 7ms/step - loss: 0.6895 - accuracy: 0.8469 - val_loss: 0.6936 - val_accuracy: 0.1617\n",
      "Epoch 6/20\n",
      "69/69 [==============================] - 0s 7ms/step - loss: 0.6884 - accuracy: 0.7594 - val_loss: 0.6854 - val_accuracy: 0.8890\n",
      "Epoch 7/20\n",
      "69/69 [==============================] - 0s 7ms/step - loss: 0.6870 - accuracy: 0.8789 - val_loss: 0.6849 - val_accuracy: 0.8773\n",
      "Epoch 8/20\n",
      "69/69 [==============================] - 0s 7ms/step - loss: 0.6849 - accuracy: 0.8788 - val_loss: 0.6830 - val_accuracy: 0.8785\n",
      "Epoch 9/20\n",
      "69/69 [==============================] - 0s 7ms/step - loss: 0.6820 - accuracy: 0.8804 - val_loss: 0.6761 - val_accuracy: 0.8791\n",
      "Epoch 10/20\n",
      "69/69 [==============================] - 0s 7ms/step - loss: 0.6775 - accuracy: 0.8805 - val_loss: 0.6759 - val_accuracy: 0.8805\n",
      "Epoch 11/20\n",
      "69/69 [==============================] - 0s 7ms/step - loss: 0.6701 - accuracy: 0.8802 - val_loss: 0.6647 - val_accuracy: 0.8809\n",
      "Epoch 12/20\n",
      "69/69 [==============================] - 0s 7ms/step - loss: 0.6571 - accuracy: 0.8795 - val_loss: 0.6462 - val_accuracy: 0.8806\n",
      "Epoch 13/20\n",
      "69/69 [==============================] - 0s 7ms/step - loss: 0.6318 - accuracy: 0.8804 - val_loss: 0.6075 - val_accuracy: 0.8807\n",
      "Epoch 14/20\n",
      "69/69 [==============================] - 0s 7ms/step - loss: 0.5785 - accuracy: 0.8805 - val_loss: 0.5402 - val_accuracy: 0.8800\n",
      "Epoch 15/20\n",
      "69/69 [==============================] - 0s 7ms/step - loss: 0.4747 - accuracy: 0.8803 - val_loss: 0.4167 - val_accuracy: 0.8801\n",
      "Epoch 16/20\n",
      "69/69 [==============================] - 0s 7ms/step - loss: 0.3489 - accuracy: 0.8802 - val_loss: 0.3290 - val_accuracy: 0.8799\n",
      "Epoch 17/20\n",
      "69/69 [==============================] - 0s 7ms/step - loss: 0.2747 - accuracy: 0.8802 - val_loss: 0.2969 - val_accuracy: 0.8800\n",
      "Epoch 18/20\n",
      "69/69 [==============================] - 0s 7ms/step - loss: 0.2456 - accuracy: 0.8802 - val_loss: 0.2833 - val_accuracy: 0.8800\n",
      "Epoch 19/20\n",
      "69/69 [==============================] - 0s 7ms/step - loss: 0.2334 - accuracy: 0.8802 - val_loss: 0.2780 - val_accuracy: 0.8800\n",
      "Epoch 20/20\n",
      "69/69 [==============================] - 0s 7ms/step - loss: 0.2272 - accuracy: 0.8803 - val_loss: 0.2746 - val_accuracy: 0.8801\n"
     ]
    }
   ],
   "source": [
    "# Setup some training parameters\n",
    "batch_size = 10000\n",
    "epochs = 20\n",
    "n_nodes = 20\n",
    "n_layers = 4\n",
    "input_shape = Xtrain.shape[1]\n",
    "\n",
    "# Build and train model\n",
    "model3 = build_DNN(input_shape,n_layers,n_nodes,learning_rate=0.1)\n",
    "\n",
    "history3 = model3.fit(x=Xtrain, y=Ytrain , batch_size=batch_size , validation_data = (Xval,Yval), epochs = epochs, class_weight=class_weights ) "
   ]
  },
  {
   "cell_type": "code",
   "execution_count": 228,
   "metadata": {},
   "outputs": [
    {
     "name": "stdout",
     "output_type": "stream",
     "text": [
      "2388/2388 [==============================] - 1s 525us/step - loss: 0.2761 - accuracy: 0.8795\n",
      "Test loss: 0.2761\n",
      "Test accuracy: 0.8795\n"
     ]
    }
   ],
   "source": [
    "# Evaluate model on test data\n",
    "score = model3.evaluate(Xtest,Ytest)\n",
    "\n",
    "print('Test loss: %.4f' % score[0])\n",
    "print('Test accuracy: %.4f' % score[1])\n"
   ]
  },
  {
   "cell_type": "code",
   "execution_count": 229,
   "metadata": {},
   "outputs": [
    {
     "data": {
      "image/png": "[encoded data removed]",
      "text/plain": [
       "<Figure size 720x288 with 1 Axes>"
      ]
     },
     "metadata": {
      "needs_background": "light"
     },
     "output_type": "display_data"
    },
    {
     "data": {
      "image/png": "[encoded data removed]",
      "text/plain": [
       "<Figure size 720x288 with 1 Axes>"
      ]
     },
     "metadata": {
      "needs_background": "light"
     },
     "output_type": "display_data"
    },
    {
     "name": "stdout",
     "output_type": "stream",
     "text": [
      "Model: \"sequential_88\"\n",
      "_________________________________________________________________\n",
      " Layer (type)                Output Shape              Param #   \n",
      "=================================================================\n",
      " dense_637 (Dense)           (None, 20)                1380      \n",
      "                                                                 \n",
      " dense_638 (Dense)           (None, 20)                420       \n",
      "                                                                 \n",
      " dense_639 (Dense)           (None, 20)                420       \n",
      "                                                                 \n",
      " dense_640 (Dense)           (None, 20)                420       \n",
      "                                                                 \n",
      " dense_641 (Dense)           (None, 1)                 21        \n",
      "                                                                 \n",
      "=================================================================\n",
      "Total params: 2,661\n",
      "Trainable params: 2,661\n",
      "Non-trainable params: 0\n",
      "_________________________________________________________________\n"
     ]
    }
   ],
   "source": [
    "plot_results(history3)\n",
    "\n",
    "model3.summary()"
   ]
  },
  {
   "cell_type": "markdown",
   "metadata": {},
   "source": [
    "### 2 layers, 50 nodes, class weights"
   ]
  },
  {
   "cell_type": "code",
   "execution_count": 230,
   "metadata": {
    "scrolled": true
   },
   "outputs": [
    {
     "name": "stdout",
     "output_type": "stream",
     "text": [
      "Epoch 1/20\n",
      "69/69 [==============================] - 1s 11ms/step - loss: 0.6008 - accuracy: 0.8705 - val_loss: 0.4830 - val_accuracy: 0.8778\n",
      "Epoch 2/20\n",
      "69/69 [==============================] - 1s 9ms/step - loss: 0.3731 - accuracy: 0.8793 - val_loss: 0.3239 - val_accuracy: 0.8793\n",
      "Epoch 3/20\n",
      "69/69 [==============================] - 1s 10ms/step - loss: 0.2674 - accuracy: 0.8801 - val_loss: 0.2921 - val_accuracy: 0.8806\n",
      "Epoch 4/20\n",
      "69/69 [==============================] - 1s 10ms/step - loss: 0.2415 - accuracy: 0.8808 - val_loss: 0.2839 - val_accuracy: 0.8804\n",
      "Epoch 5/20\n",
      "69/69 [==============================] - 1s 9ms/step - loss: 0.2316 - accuracy: 0.8806 - val_loss: 0.2802 - val_accuracy: 0.8802\n",
      "Epoch 6/20\n",
      "69/69 [==============================] - 1s 10ms/step - loss: 0.2259 - accuracy: 0.8805 - val_loss: 0.2748 - val_accuracy: 0.8801\n",
      "Epoch 7/20\n",
      "69/69 [==============================] - 1s 10ms/step - loss: 0.2219 - accuracy: 0.8805 - val_loss: 0.2703 - val_accuracy: 0.8802\n",
      "Epoch 8/20\n",
      "69/69 [==============================] - 1s 9ms/step - loss: 0.2188 - accuracy: 0.8805 - val_loss: 0.2665 - val_accuracy: 0.8805\n",
      "Epoch 9/20\n",
      "69/69 [==============================] - 1s 10ms/step - loss: 0.2163 - accuracy: 0.8809 - val_loss: 0.2649 - val_accuracy: 0.8810\n",
      "Epoch 10/20\n",
      "69/69 [==============================] - 1s 10ms/step - loss: 0.2141 - accuracy: 0.8816 - val_loss: 0.2638 - val_accuracy: 0.8815\n",
      "Epoch 11/20\n",
      "69/69 [==============================] - 1s 9ms/step - loss: 0.2123 - accuracy: 0.8821 - val_loss: 0.2614 - val_accuracy: 0.8820\n",
      "Epoch 12/20\n",
      "69/69 [==============================] - 1s 10ms/step - loss: 0.2107 - accuracy: 0.8826 - val_loss: 0.2598 - val_accuracy: 0.8826\n",
      "Epoch 13/20\n",
      "69/69 [==============================] - 1s 10ms/step - loss: 0.2092 - accuracy: 0.8832 - val_loss: 0.2578 - val_accuracy: 0.8832\n",
      "Epoch 14/20\n",
      "69/69 [==============================] - 1s 9ms/step - loss: 0.2078 - accuracy: 0.8838 - val_loss: 0.2577 - val_accuracy: 0.8838\n",
      "Epoch 15/20\n",
      "69/69 [==============================] - 1s 10ms/step - loss: 0.2066 - accuracy: 0.8845 - val_loss: 0.2551 - val_accuracy: 0.8846\n",
      "Epoch 16/20\n",
      "69/69 [==============================] - 1s 10ms/step - loss: 0.2054 - accuracy: 0.8853 - val_loss: 0.2538 - val_accuracy: 0.8855\n",
      "Epoch 17/20\n",
      "69/69 [==============================] - 1s 10ms/step - loss: 0.2044 - accuracy: 0.8861 - val_loss: 0.2548 - val_accuracy: 0.8860\n",
      "Epoch 18/20\n",
      "69/69 [==============================] - 1s 10ms/step - loss: 0.2033 - accuracy: 0.8870 - val_loss: 0.2526 - val_accuracy: 0.8870\n",
      "Epoch 19/20\n",
      "69/69 [==============================] - 1s 10ms/step - loss: 0.2024 - accuracy: 0.8879 - val_loss: 0.2510 - val_accuracy: 0.8881\n",
      "Epoch 20/20\n",
      "69/69 [==============================] - 1s 9ms/step - loss: 0.2015 - accuracy: 0.8890 - val_loss: 0.2504 - val_accuracy: 0.8892\n"
     ]
    }
   ],
   "source": [
    "# Setup some training parameters\n",
    "batch_size = 10000\n",
    "epochs = 20\n",
    "n_nodes = 50\n",
    "n_layers = 2\n",
    "input_shape = Xtrain.shape[1]\n",
    "\n",
    "# Build and train model\n",
    "model4 = build_DNN(input_shape,n_layers,n_nodes,learning_rate=0.1)\n",
    "\n",
    "history4 = model4.fit(x=Xtrain, y=Ytrain , batch_size=batch_size , validation_data = (Xval,Yval), epochs = epochs, class_weight=class_weights ) "
   ]
  },
  {
   "cell_type": "code",
   "execution_count": 231,
   "metadata": {},
   "outputs": [
    {
     "name": "stdout",
     "output_type": "stream",
     "text": [
      "2388/2388 [==============================] - 1s 544us/step - loss: 0.2530 - accuracy: 0.8888\n",
      "Test loss: 0.2530\n",
      "Test accuracy: 0.8888\n"
     ]
    }
   ],
   "source": [
    "# Evaluate model on test data\n",
    "score = model4.evaluate(Xtest,Ytest)\n",
    "\n",
    "print('Test loss: %.4f' % score[0])\n",
    "print('Test accuracy: %.4f' % score[1])\n"
   ]
  },
  {
   "cell_type": "code",
   "execution_count": 232,
   "metadata": {},
   "outputs": [
    {
     "data": {
      "image/png": "[encoded data removed]",
      "text/plain": [
       "<Figure size 720x288 with 1 Axes>"
      ]
     },
     "metadata": {
      "needs_background": "light"
     },
     "output_type": "display_data"
    },
    {
     "data": {
      "image/png": "[encoded data removed]",
      "text/plain": [
       "<Figure size 720x288 with 1 Axes>"
      ]
     },
     "metadata": {
      "needs_background": "light"
     },
     "output_type": "display_data"
    },
    {
     "name": "stdout",
     "output_type": "stream",
     "text": [
      "Model: \"sequential_89\"\n",
      "_________________________________________________________________\n",
      " Layer (type)                Output Shape              Param #   \n",
      "=================================================================\n",
      " dense_642 (Dense)           (None, 50)                3450      \n",
      "                                                                 \n",
      " dense_643 (Dense)           (None, 50)                2550      \n",
      "                                                                 \n",
      " dense_644 (Dense)           (None, 1)                 51        \n",
      "                                                                 \n",
      "=================================================================\n",
      "Total params: 6,051\n",
      "Trainable params: 6,051\n",
      "Non-trainable params: 0\n",
      "_________________________________________________________________\n"
     ]
    }
   ],
   "source": [
    "plot_results(history4)\n",
    "\n",
    "model4.summary()"
   ]
  },
  {
   "cell_type": "markdown",
   "metadata": {},
   "source": [
    "### 4 layers, 50 nodes, class weights"
   ]
  },
  {
   "cell_type": "code",
   "execution_count": 233,
   "metadata": {
    "scrolled": true
   },
   "outputs": [
    {
     "name": "stdout",
     "output_type": "stream",
     "text": [
      "Epoch 1/20\n",
      "69/69 [==============================] - 1s 17ms/step - loss: 0.6948 - accuracy: 0.4048 - val_loss: 0.6890 - val_accuracy: 0.8397\n",
      "Epoch 2/20\n",
      "69/69 [==============================] - 1s 16ms/step - loss: 0.6936 - accuracy: 0.5123 - val_loss: 0.6933 - val_accuracy: 0.3406\n",
      "Epoch 3/20\n",
      "69/69 [==============================] - 1s 16ms/step - loss: 0.6927 - accuracy: 0.5284 - val_loss: 0.6912 - val_accuracy: 0.8535\n",
      "Epoch 4/20\n",
      "69/69 [==============================] - 1s 16ms/step - loss: 0.6918 - accuracy: 0.5848 - val_loss: 0.6927 - val_accuracy: 0.8323\n",
      "Epoch 5/20\n",
      "69/69 [==============================] - 1s 15ms/step - loss: 0.6907 - accuracy: 0.6676 - val_loss: 0.6907 - val_accuracy: 0.8719\n",
      "Epoch 6/20\n",
      "69/69 [==============================] - 1s 16ms/step - loss: 0.6894 - accuracy: 0.7067 - val_loss: 0.6817 - val_accuracy: 0.8483\n",
      "Epoch 7/20\n",
      "69/69 [==============================] - 1s 16ms/step - loss: 0.6876 - accuracy: 0.7324 - val_loss: 0.6859 - val_accuracy: 0.8767\n",
      "Epoch 8/20\n",
      "69/69 [==============================] - 1s 16ms/step - loss: 0.6851 - accuracy: 0.8378 - val_loss: 0.6946 - val_accuracy: 0.1604\n",
      "Epoch 9/20\n",
      "69/69 [==============================] - 1s 15ms/step - loss: 0.6813 - accuracy: 0.8496 - val_loss: 0.6815 - val_accuracy: 0.8766\n",
      "Epoch 10/20\n",
      "69/69 [==============================] - 1s 16ms/step - loss: 0.6750 - accuracy: 0.8758 - val_loss: 0.6747 - val_accuracy: 0.8768\n",
      "Epoch 11/20\n",
      "69/69 [==============================] - 1s 15ms/step - loss: 0.6636 - accuracy: 0.8758 - val_loss: 0.6513 - val_accuracy: 0.8751\n",
      "Epoch 12/20\n",
      "69/69 [==============================] - 1s 16ms/step - loss: 0.6402 - accuracy: 0.8756 - val_loss: 0.6146 - val_accuracy: 0.8750\n",
      "Epoch 13/20\n",
      "69/69 [==============================] - 1s 15ms/step - loss: 0.5858 - accuracy: 0.8756 - val_loss: 0.5401 - val_accuracy: 0.8763\n",
      "Epoch 14/20\n",
      "69/69 [==============================] - 1s 16ms/step - loss: 0.4650 - accuracy: 0.8790 - val_loss: 0.3970 - val_accuracy: 0.8793\n",
      "Epoch 15/20\n",
      "69/69 [==============================] - 1s 16ms/step - loss: 0.3227 - accuracy: 0.8799 - val_loss: 0.3112 - val_accuracy: 0.8802\n",
      "Epoch 16/20\n",
      "69/69 [==============================] - 1s 16ms/step - loss: 0.2591 - accuracy: 0.8802 - val_loss: 0.2902 - val_accuracy: 0.8798\n",
      "Epoch 17/20\n",
      "69/69 [==============================] - 1s 16ms/step - loss: 0.2394 - accuracy: 0.8801 - val_loss: 0.2850 - val_accuracy: 0.8796\n",
      "Epoch 18/20\n",
      "69/69 [==============================] - 1s 15ms/step - loss: 0.2309 - accuracy: 0.8800 - val_loss: 0.2791 - val_accuracy: 0.8797\n",
      "Epoch 19/20\n",
      "69/69 [==============================] - 1s 16ms/step - loss: 0.2260 - accuracy: 0.8800 - val_loss: 0.2743 - val_accuracy: 0.8798\n",
      "Epoch 20/20\n",
      "69/69 [==============================] - 1s 15ms/step - loss: 0.2225 - accuracy: 0.8800 - val_loss: 0.2722 - val_accuracy: 0.8798\n"
     ]
    }
   ],
   "source": [
    "# Setup some training parameters\n",
    "batch_size = 10000\n",
    "epochs = 20\n",
    "n_nodes = 50\n",
    "n_layers = 4\n",
    "input_shape = Xtrain.shape[1]\n",
    "\n",
    "# Build and train model\n",
    "model5 = build_DNN(input_shape,n_layers,n_nodes,learning_rate=0.1)\n",
    "\n",
    "history5 = model5.fit(x=Xtrain, y=Ytrain , batch_size=batch_size , validation_data = (Xval,Yval), epochs = epochs, class_weight=class_weights ) "
   ]
  },
  {
   "cell_type": "code",
   "execution_count": 234,
   "metadata": {},
   "outputs": [
    {
     "name": "stdout",
     "output_type": "stream",
     "text": [
      "2388/2388 [==============================] - 1s 562us/step - loss: 0.2739 - accuracy: 0.8794\n",
      "Test loss: 0.2739\n",
      "Test accuracy: 0.8794\n"
     ]
    }
   ],
   "source": [
    "# Evaluate model on test data\n",
    "score = model5.evaluate(Xtest,Ytest)\n",
    "\n",
    "print('Test loss: %.4f' % score[0])\n",
    "print('Test accuracy: %.4f' % score[1])\n"
   ]
  },
  {
   "cell_type": "code",
   "execution_count": 235,
   "metadata": {},
   "outputs": [
    {
     "data": {
      "image/png": "[encoded data removed]",
      "text/plain": [
       "<Figure size 720x288 with 1 Axes>"
      ]
     },
     "metadata": {
      "needs_background": "light"
     },
     "output_type": "display_data"
    },
    {
     "data": {
      "image/png": "[encoded data removed]",
      "text/plain": [
       "<Figure size 720x288 with 1 Axes>"
      ]
     },
     "metadata": {
      "needs_background": "light"
     },
     "output_type": "display_data"
    },
    {
     "name": "stdout",
     "output_type": "stream",
     "text": [
      "Model: \"sequential_90\"\n",
      "_________________________________________________________________\n",
      " Layer (type)                Output Shape              Param #   \n",
      "=================================================================\n",
      " dense_645 (Dense)           (None, 50)                3450      \n",
      "                                                                 \n",
      " dense_646 (Dense)           (None, 50)                2550      \n",
      "                                                                 \n",
      " dense_647 (Dense)           (None, 50)                2550      \n",
      "                                                                 \n",
      " dense_648 (Dense)           (None, 50)                2550      \n",
      "                                                                 \n",
      " dense_649 (Dense)           (None, 1)                 51        \n",
      "                                                                 \n",
      "=================================================================\n",
      "Total params: 11,151\n",
      "Trainable params: 11,151\n",
      "Non-trainable params: 0\n",
      "_________________________________________________________________\n"
     ]
    }
   ],
   "source": [
    "plot_results(history5)\n",
    "\n",
    "model5.summary()"
   ]
  },
  {
   "cell_type": "markdown",
   "metadata": {},
   "source": [
    "# Part 15: Batch normalization\n",
    "\n",
    "Now add batch normalization after each dense layer in `build_DNN`. Remember to import BatchNormalization from keras.layers. \n",
    "\n",
    "See https://keras.io/layers/normalization/ for information about how to call the function.\n",
    "\n",
    "Question 14: Why is batch normalization important when training deep networks?"
   ]
  },
  {
   "cell_type": "markdown",
   "metadata": {},
   "source": [
    "Answer:\n",
    "\n",
    "Q14: To normalize outputs of interlayers and re centering to minimize training epochs "
   ]
  },
  {
   "cell_type": "markdown",
   "metadata": {},
   "source": [
    "### 2 layers, 20 nodes, class weights, batch normalization"
   ]
  },
  {
   "cell_type": "code",
   "execution_count": 236,
   "metadata": {
    "scrolled": true
   },
   "outputs": [
    {
     "name": "stdout",
     "output_type": "stream",
     "text": [
      "Epoch 1/20\n",
      "69/69 [==============================] - 1s 13ms/step - loss: 0.2843 - accuracy: 0.8711 - val_loss: 0.4036 - val_accuracy: 0.8398\n",
      "Epoch 2/20\n",
      "69/69 [==============================] - 1s 11ms/step - loss: 0.2176 - accuracy: 0.8919 - val_loss: 0.3837 - val_accuracy: 0.8398\n",
      "Epoch 3/20\n",
      "69/69 [==============================] - 1s 11ms/step - loss: 0.2016 - accuracy: 0.8991 - val_loss: 0.3258 - val_accuracy: 0.8398\n",
      "Epoch 4/20\n",
      "69/69 [==============================] - 1s 11ms/step - loss: 0.1939 - accuracy: 0.9017 - val_loss: 0.2452 - val_accuracy: 0.8435\n",
      "Epoch 5/20\n",
      "69/69 [==============================] - 1s 11ms/step - loss: 0.1890 - accuracy: 0.9032 - val_loss: 0.1941 - val_accuracy: 0.8893\n",
      "Epoch 6/20\n",
      "69/69 [==============================] - 1s 11ms/step - loss: 0.1857 - accuracy: 0.9043 - val_loss: 0.1810 - val_accuracy: 0.9096\n",
      "Epoch 7/20\n",
      "69/69 [==============================] - 1s 11ms/step - loss: 0.1829 - accuracy: 0.9059 - val_loss: 0.1898 - val_accuracy: 0.9134\n",
      "Epoch 8/20\n",
      "69/69 [==============================] - 1s 11ms/step - loss: 0.1809 - accuracy: 0.9075 - val_loss: 0.2072 - val_accuracy: 0.9120\n",
      "Epoch 9/20\n",
      "69/69 [==============================] - 1s 11ms/step - loss: 0.1793 - accuracy: 0.9085 - val_loss: 0.2159 - val_accuracy: 0.9118\n",
      "Epoch 10/20\n",
      "69/69 [==============================] - 1s 11ms/step - loss: 0.1777 - accuracy: 0.9098 - val_loss: 0.2350 - val_accuracy: 0.9090\n",
      "Epoch 11/20\n",
      "69/69 [==============================] - 1s 11ms/step - loss: 0.1764 - accuracy: 0.9107 - val_loss: 0.2181 - val_accuracy: 0.9121\n",
      "Epoch 12/20\n",
      "69/69 [==============================] - 1s 11ms/step - loss: 0.1752 - accuracy: 0.9118 - val_loss: 0.2181 - val_accuracy: 0.9123\n",
      "Epoch 13/20\n",
      "69/69 [==============================] - 1s 11ms/step - loss: 0.1743 - accuracy: 0.9123 - val_loss: 0.2219 - val_accuracy: 0.9124\n",
      "Epoch 14/20\n",
      "69/69 [==============================] - 1s 11ms/step - loss: 0.1732 - accuracy: 0.9128 - val_loss: 0.2209 - val_accuracy: 0.9127\n",
      "Epoch 15/20\n",
      "69/69 [==============================] - 1s 11ms/step - loss: 0.1723 - accuracy: 0.9132 - val_loss: 0.2361 - val_accuracy: 0.9127\n",
      "Epoch 16/20\n",
      "69/69 [==============================] - 1s 11ms/step - loss: 0.1716 - accuracy: 0.9134 - val_loss: 0.2192 - val_accuracy: 0.9133\n",
      "Epoch 17/20\n",
      "69/69 [==============================] - 1s 11ms/step - loss: 0.1708 - accuracy: 0.9137 - val_loss: 0.2148 - val_accuracy: 0.9135\n",
      "Epoch 18/20\n",
      "69/69 [==============================] - 1s 11ms/step - loss: 0.1701 - accuracy: 0.9138 - val_loss: 0.2077 - val_accuracy: 0.9135\n",
      "Epoch 19/20\n",
      "69/69 [==============================] - 1s 11ms/step - loss: 0.1694 - accuracy: 0.9139 - val_loss: 0.2278 - val_accuracy: 0.9135\n",
      "Epoch 20/20\n",
      "69/69 [==============================] - 1s 11ms/step - loss: 0.1689 - accuracy: 0.9140 - val_loss: 0.2155 - val_accuracy: 0.9138\n"
     ]
    }
   ],
   "source": [
    "# Setup some training parameters\n",
    "batch_size = 10000\n",
    "epochs = 20\n",
    "n_nodes = 20\n",
    "n_layers = 2\n",
    "input_shape = Xtrain.shape[1]\n",
    "\n",
    "# Build and train model\n",
    "model6 = build_DNN(input_shape,n_layers,n_nodes,learning_rate=0.1, use_bn = True)\n",
    "\n",
    "history6 = model6.fit(x=Xtrain, y=Ytrain , batch_size=batch_size , validation_data = (Xval,Yval), epochs = epochs, class_weight=class_weights ) "
   ]
  },
  {
   "cell_type": "code",
   "execution_count": 237,
   "metadata": {},
   "outputs": [
    {
     "name": "stdout",
     "output_type": "stream",
     "text": [
      "2388/2388 [==============================] - 1s 557us/step - loss: 0.2180 - accuracy: 0.9129\n",
      "Test loss: 0.2180\n",
      "Test accuracy: 0.9129\n"
     ]
    }
   ],
   "source": [
    "# Evaluate model on test data\n",
    "score = model6.evaluate(Xtest,Ytest)\n",
    "\n",
    "print('Test loss: %.4f' % score[0])\n",
    "print('Test accuracy: %.4f' % score[1])\n"
   ]
  },
  {
   "cell_type": "code",
   "execution_count": 238,
   "metadata": {},
   "outputs": [
    {
     "data": {
      "image/png": "[encoded data removed]",
      "text/plain": [
       "<Figure size 720x288 with 1 Axes>"
      ]
     },
     "metadata": {
      "needs_background": "light"
     },
     "output_type": "display_data"
    },
    {
     "data": {
      "image/png": "[encoded data removed]",
      "text/plain": [
       "<Figure size 720x288 with 1 Axes>"
      ]
     },
     "metadata": {
      "needs_background": "light"
     },
     "output_type": "display_data"
    },
    {
     "name": "stdout",
     "output_type": "stream",
     "text": [
      "Model: \"sequential_91\"\n",
      "_________________________________________________________________\n",
      " Layer (type)                Output Shape              Param #   \n",
      "=================================================================\n",
      " dense_650 (Dense)           (None, 20)                1380      \n",
      "                                                                 \n",
      " batch_normalization_421 (Ba  (None, 20)               80        \n",
      " tchNormalization)                                               \n",
      "                                                                 \n",
      " dense_651 (Dense)           (None, 20)                420       \n",
      "                                                                 \n",
      " batch_normalization_422 (Ba  (None, 20)               80        \n",
      " tchNormalization)                                               \n",
      "                                                                 \n",
      " dense_652 (Dense)           (None, 1)                 21        \n",
      "                                                                 \n",
      "=================================================================\n",
      "Total params: 1,981\n",
      "Trainable params: 1,901\n",
      "Non-trainable params: 80\n",
      "_________________________________________________________________\n"
     ]
    }
   ],
   "source": [
    "plot_results(history6)\n",
    "\n",
    "model6.summary()"
   ]
  },
  {
   "cell_type": "markdown",
   "metadata": {},
   "source": [
    "# Part 16: Activation function\n",
    "\n",
    "Try changing the activation function in each layer from sigmoid to ReLU, write down the test accuracy.\n",
    "\n",
    "Note: the last layer should still have a sigmoid activation function.\n",
    "\n",
    "https://keras.io/api/layers/activations/"
   ]
  },
  {
   "cell_type": "markdown",
   "metadata": {},
   "source": [
    "### 2 layers, 20 nodes, class weights, ReLU, no batch normalization"
   ]
  },
  {
   "cell_type": "code",
   "execution_count": 239,
   "metadata": {
    "scrolled": true
   },
   "outputs": [
    {
     "name": "stdout",
     "output_type": "stream",
     "text": [
      "Epoch 1/20\n",
      "69/69 [==============================] - 1s 6ms/step - loss: 0.3240 - accuracy: 0.8808 - val_loss: 0.2804 - val_accuracy: 0.8846\n",
      "Epoch 2/20\n",
      "69/69 [==============================] - 0s 5ms/step - loss: 0.2126 - accuracy: 0.8880 - val_loss: 0.2582 - val_accuracy: 0.8914\n",
      "Epoch 3/20\n",
      "69/69 [==============================] - 0s 6ms/step - loss: 0.2002 - accuracy: 0.8946 - val_loss: 0.2456 - val_accuracy: 0.8963\n",
      "Epoch 4/20\n",
      "69/69 [==============================] - 0s 5ms/step - loss: 0.1935 - accuracy: 0.8983 - val_loss: 0.2397 - val_accuracy: 0.8993\n",
      "Epoch 5/20\n",
      "69/69 [==============================] - 0s 5ms/step - loss: 0.1891 - accuracy: 0.9002 - val_loss: 0.2360 - val_accuracy: 0.9005\n",
      "Epoch 6/20\n",
      "69/69 [==============================] - 0s 5ms/step - loss: 0.1857 - accuracy: 0.9010 - val_loss: 0.2306 - val_accuracy: 0.9012\n",
      "Epoch 7/20\n",
      "69/69 [==============================] - 0s 5ms/step - loss: 0.1833 - accuracy: 0.9015 - val_loss: 0.2304 - val_accuracy: 0.9016\n",
      "Epoch 8/20\n",
      "69/69 [==============================] - 0s 5ms/step - loss: 0.1816 - accuracy: 0.9020 - val_loss: 0.2286 - val_accuracy: 0.9019\n",
      "Epoch 9/20\n",
      "69/69 [==============================] - 0s 5ms/step - loss: 0.1803 - accuracy: 0.9023 - val_loss: 0.2297 - val_accuracy: 0.9020\n",
      "Epoch 10/20\n",
      "69/69 [==============================] - 0s 5ms/step - loss: 0.1792 - accuracy: 0.9029 - val_loss: 0.2258 - val_accuracy: 0.9036\n",
      "Epoch 11/20\n",
      "69/69 [==============================] - 0s 5ms/step - loss: 0.1783 - accuracy: 0.9043 - val_loss: 0.2285 - val_accuracy: 0.9041\n",
      "Epoch 12/20\n",
      "69/69 [==============================] - 0s 5ms/step - loss: 0.1774 - accuracy: 0.9047 - val_loss: 0.2248 - val_accuracy: 0.9046\n",
      "Epoch 13/20\n",
      "69/69 [==============================] - 0s 5ms/step - loss: 0.1766 - accuracy: 0.9049 - val_loss: 0.2227 - val_accuracy: 0.9049\n",
      "Epoch 14/20\n",
      "69/69 [==============================] - 0s 5ms/step - loss: 0.1758 - accuracy: 0.9052 - val_loss: 0.2237 - val_accuracy: 0.9051\n",
      "Epoch 15/20\n",
      "69/69 [==============================] - 0s 5ms/step - loss: 0.1750 - accuracy: 0.9056 - val_loss: 0.2201 - val_accuracy: 0.9061\n",
      "Epoch 16/20\n",
      "69/69 [==============================] - 0s 5ms/step - loss: 0.1744 - accuracy: 0.9071 - val_loss: 0.2211 - val_accuracy: 0.9080\n",
      "Epoch 17/20\n",
      "69/69 [==============================] - 0s 5ms/step - loss: 0.1737 - accuracy: 0.9084 - val_loss: 0.2216 - val_accuracy: 0.9085\n",
      "Epoch 18/20\n",
      "69/69 [==============================] - 0s 5ms/step - loss: 0.1731 - accuracy: 0.9088 - val_loss: 0.2214 - val_accuracy: 0.9090\n",
      "Epoch 19/20\n",
      "69/69 [==============================] - 0s 6ms/step - loss: 0.1725 - accuracy: 0.9093 - val_loss: 0.2163 - val_accuracy: 0.9101\n",
      "Epoch 20/20\n",
      "69/69 [==============================] - 0s 5ms/step - loss: 0.1719 - accuracy: 0.9104 - val_loss: 0.2156 - val_accuracy: 0.9112\n"
     ]
    }
   ],
   "source": [
    "# Setup some training parameters\n",
    "batch_size = 10000\n",
    "epochs = 20\n",
    "n_nodes = 20\n",
    "n_layers = 2\n",
    "input_shape = Xtrain.shape[1]\n",
    "\n",
    "# Build and train model\n",
    "model7 = build_DNN(input_shape,n_layers,n_nodes,learning_rate=0.1, use_bn = False, act_fun = 'relu')\n",
    "\n",
    "history7 = model7.fit(x=Xtrain, y=Ytrain , batch_size=batch_size , validation_data = (Xval,Yval), epochs = epochs, class_weight=class_weights ) "
   ]
  },
  {
   "cell_type": "code",
   "execution_count": 240,
   "metadata": {},
   "outputs": [
    {
     "name": "stdout",
     "output_type": "stream",
     "text": [
      "2388/2388 [==============================] - 1s 519us/step - loss: 0.2177 - accuracy: 0.9100\n",
      "Test loss: 0.2177\n",
      "Test accuracy: 0.9100\n"
     ]
    }
   ],
   "source": [
    "# Evaluate model on test data\n",
    "score = model7.evaluate(Xtest,Ytest)\n",
    "\n",
    "print('Test loss: %.4f' % score[0])\n",
    "print('Test accuracy: %.4f' % score[1])\n"
   ]
  },
  {
   "cell_type": "code",
   "execution_count": 241,
   "metadata": {},
   "outputs": [
    {
     "data": {
      "image/png": "[encoded data removed]",
      "text/plain": [
       "<Figure size 720x288 with 1 Axes>"
      ]
     },
     "metadata": {
      "needs_background": "light"
     },
     "output_type": "display_data"
    },
    {
     "data": {
      "image/png": "[encoded data removed]",
      "text/plain": [
       "<Figure size 720x288 with 1 Axes>"
      ]
     },
     "metadata": {
      "needs_background": "light"
     },
     "output_type": "display_data"
    },
    {
     "name": "stdout",
     "output_type": "stream",
     "text": [
      "Model: \"sequential_92\"\n",
      "_________________________________________________________________\n",
      " Layer (type)                Output Shape              Param #   \n",
      "=================================================================\n",
      " dense_653 (Dense)           (None, 20)                1380      \n",
      "                                                                 \n",
      " dense_654 (Dense)           (None, 20)                420       \n",
      "                                                                 \n",
      " dense_655 (Dense)           (None, 1)                 21        \n",
      "                                                                 \n",
      "=================================================================\n",
      "Total params: 1,821\n",
      "Trainable params: 1,821\n",
      "Non-trainable params: 0\n",
      "_________________________________________________________________\n"
     ]
    }
   ],
   "source": [
    "plot_results(history7)\n",
    "\n",
    "model7.summary()"
   ]
  },
  {
   "cell_type": "markdown",
   "metadata": {},
   "source": [
    "# Part 17: Optimizer\n",
    "\n",
    "Try changing the optimizer from SGD to Adam (with learning rate 0.1 as before). Remember to import the Adam optimizer from keras.optimizers. \n",
    "\n",
    "https://keras.io/optimizers/\n"
   ]
  },
  {
   "cell_type": "markdown",
   "metadata": {},
   "source": [
    "### 2 layers, 20 nodes, class weights, Adam optimizer, no batch normalization, sigmoid activations"
   ]
  },
  {
   "cell_type": "code",
   "execution_count": 242,
   "metadata": {
    "scrolled": true
   },
   "outputs": [
    {
     "name": "stdout",
     "output_type": "stream",
     "text": [
      "Epoch 1/20\n",
      "69/69 [==============================] - 1s 7ms/step - loss: 0.2534 - accuracy: 0.8576 - val_loss: 0.2643 - val_accuracy: 0.8801\n",
      "Epoch 2/20\n",
      "69/69 [==============================] - 0s 6ms/step - loss: 0.1952 - accuracy: 0.8955 - val_loss: 0.2359 - val_accuracy: 0.9047\n",
      "Epoch 3/20\n",
      "69/69 [==============================] - 0s 5ms/step - loss: 0.1761 - accuracy: 0.9111 - val_loss: 0.2205 - val_accuracy: 0.9155\n",
      "Epoch 4/20\n",
      "69/69 [==============================] - 0s 6ms/step - loss: 0.1695 - accuracy: 0.9158 - val_loss: 0.2124 - val_accuracy: 0.9158\n",
      "Epoch 5/20\n",
      "69/69 [==============================] - 0s 6ms/step - loss: 0.1643 - accuracy: 0.9172 - val_loss: 0.2049 - val_accuracy: 0.9172\n",
      "Epoch 6/20\n",
      "69/69 [==============================] - 0s 5ms/step - loss: 0.1617 - accuracy: 0.9178 - val_loss: 0.2036 - val_accuracy: 0.9180\n",
      "Epoch 7/20\n",
      "69/69 [==============================] - 0s 6ms/step - loss: 0.1606 - accuracy: 0.9179 - val_loss: 0.2161 - val_accuracy: 0.9169\n",
      "Epoch 8/20\n",
      "69/69 [==============================] - 0s 6ms/step - loss: 0.1608 - accuracy: 0.9177 - val_loss: 0.2025 - val_accuracy: 0.9177\n",
      "Epoch 9/20\n",
      "69/69 [==============================] - 0s 6ms/step - loss: 0.1588 - accuracy: 0.9182 - val_loss: 0.2050 - val_accuracy: 0.9180\n",
      "Epoch 10/20\n",
      "69/69 [==============================] - 0s 6ms/step - loss: 0.1575 - accuracy: 0.9183 - val_loss: 0.2073 - val_accuracy: 0.9186\n",
      "Epoch 11/20\n",
      "69/69 [==============================] - 0s 5ms/step - loss: 0.1569 - accuracy: 0.9183 - val_loss: 0.1973 - val_accuracy: 0.9190\n",
      "Epoch 12/20\n",
      "69/69 [==============================] - 0s 6ms/step - loss: 0.1571 - accuracy: 0.9185 - val_loss: 0.1926 - val_accuracy: 0.9188\n",
      "Epoch 13/20\n",
      "69/69 [==============================] - 0s 5ms/step - loss: 0.1559 - accuracy: 0.9186 - val_loss: 0.2123 - val_accuracy: 0.9185\n",
      "Epoch 14/20\n",
      "69/69 [==============================] - 0s 6ms/step - loss: 0.1562 - accuracy: 0.9184 - val_loss: 0.1987 - val_accuracy: 0.9190\n",
      "Epoch 15/20\n",
      "69/69 [==============================] - 0s 6ms/step - loss: 0.1563 - accuracy: 0.9183 - val_loss: 0.1987 - val_accuracy: 0.9187\n",
      "Epoch 16/20\n",
      "69/69 [==============================] - 0s 6ms/step - loss: 0.1556 - accuracy: 0.9187 - val_loss: 0.1989 - val_accuracy: 0.9188\n",
      "Epoch 17/20\n",
      "69/69 [==============================] - 0s 6ms/step - loss: 0.1560 - accuracy: 0.9183 - val_loss: 0.2106 - val_accuracy: 0.9184\n",
      "Epoch 18/20\n",
      "69/69 [==============================] - 0s 6ms/step - loss: 0.1547 - accuracy: 0.9186 - val_loss: 0.2032 - val_accuracy: 0.9188\n",
      "Epoch 19/20\n",
      "69/69 [==============================] - 0s 6ms/step - loss: 0.1549 - accuracy: 0.9188 - val_loss: 0.1975 - val_accuracy: 0.9185\n",
      "Epoch 20/20\n",
      "69/69 [==============================] - 0s 6ms/step - loss: 0.1547 - accuracy: 0.9186 - val_loss: 0.1974 - val_accuracy: 0.9190\n"
     ]
    }
   ],
   "source": [
    "# Setup some training parameters\n",
    "batch_size = 10000\n",
    "epochs = 20\n",
    "n_nodes = 20\n",
    "n_layers = 2\n",
    "input_shape = Xtrain.shape[1]\n",
    "\n",
    "# Build and train model\n",
    "model8 = build_DNN(input_shape,n_layers,n_nodes,learning_rate=0.1 , use_bn=False, act_fun = 'sigmoid', optimizer = 'Adam')\n",
    "\n",
    "history8 = model8.fit(x=Xtrain, y=Ytrain , batch_size=batch_size , validation_data = (Xval,Yval), epochs = epochs, class_weight=class_weights ) "
   ]
  },
  {
   "cell_type": "code",
   "execution_count": 243,
   "metadata": {},
   "outputs": [
    {
     "name": "stdout",
     "output_type": "stream",
     "text": [
      "2388/2388 [==============================] - 1s 530us/step - loss: 0.2009 - accuracy: 0.9176\n",
      "Test loss: 0.2009\n",
      "Test accuracy: 0.9176\n"
     ]
    }
   ],
   "source": [
    "# Evaluate model on test data\n",
    "score = model8.evaluate(Xtest,Ytest)\n",
    "\n",
    "print('Test loss: %.4f' % score[0])\n",
    "print('Test accuracy: %.4f' % score[1])\n"
   ]
  },
  {
   "cell_type": "code",
   "execution_count": 244,
   "metadata": {},
   "outputs": [
    {
     "data": {
      "image/png": "[encoded data removed]",
      "text/plain": [
       "<Figure size 720x288 with 1 Axes>"
      ]
     },
     "metadata": {
      "needs_background": "light"
     },
     "output_type": "display_data"
    },
    {
     "data": {
      "image/png": "[encoded data removed]",
      "text/plain": [
       "<Figure size 720x288 with 1 Axes>"
      ]
     },
     "metadata": {
      "needs_background": "light"
     },
     "output_type": "display_data"
    },
    {
     "name": "stdout",
     "output_type": "stream",
     "text": [
      "Model: \"sequential_93\"\n",
      "_________________________________________________________________\n",
      " Layer (type)                Output Shape              Param #   \n",
      "=================================================================\n",
      " dense_656 (Dense)           (None, 20)                1380      \n",
      "                                                                 \n",
      " dense_657 (Dense)           (None, 20)                420       \n",
      "                                                                 \n",
      " dense_658 (Dense)           (None, 1)                 21        \n",
      "                                                                 \n",
      "=================================================================\n",
      "Total params: 1,821\n",
      "Trainable params: 1,821\n",
      "Non-trainable params: 0\n",
      "_________________________________________________________________\n"
     ]
    }
   ],
   "source": [
    "plot_results(history8)\n",
    "\n",
    "model8.summary()"
   ]
  },
  {
   "cell_type": "markdown",
   "metadata": {},
   "source": [
    "# Part 18: Dropout regularization\n",
    "\n",
    "Dropout is a type of regularization that can improve accuracy for validation and test data. \n",
    "\n",
    "Add a Dropout layer after each Dense layer (but not after the final dense layer) in `build_DNN`, with a dropout probability of 50%. Remember to first import the Dropout layer from keras.layers\n",
    "\n",
    "See https://keras.io/api/layers/regularization_layers/dropout/ for how the Dropout layer works.\n",
    "\n",
    "---\n",
    "\n",
    "Question 15: How does the validation accuracy change when adding dropout?\n",
    "\n",
    "Question 16: How does the test accuracy change when adding dropout?"
   ]
  },
  {
   "cell_type": "markdown",
   "metadata": {},
   "source": [
    "Answer:\n",
    "\n",
    "Q15: The validation accuracy has been pretty much unchanged in this case but the validation loss is much more in line with the training loss by adding dropout.\n",
    "\n",
    "Q16: The test accuracy has decreased adding the dropout."
   ]
  },
  {
   "cell_type": "markdown",
   "metadata": {},
   "source": [
    "### 2 layers, 20 nodes, class weights, dropout, SGD optimizer, no batch normalization, sigmoid activations"
   ]
  },
  {
   "cell_type": "code",
   "execution_count": 249,
   "metadata": {
    "scrolled": true
   },
   "outputs": [
    {
     "name": "stdout",
     "output_type": "stream",
     "text": [
      "Epoch 1/20\n",
      "69/69 [==============================] - 1s 10ms/step - loss: 0.6333 - accuracy: 0.6831 - val_loss: 0.5466 - val_accuracy: 0.8783\n",
      "Epoch 2/20\n",
      "69/69 [==============================] - 1s 8ms/step - loss: 0.4969 - accuracy: 0.8275 - val_loss: 0.3964 - val_accuracy: 0.8799\n",
      "Epoch 3/20\n",
      "69/69 [==============================] - 1s 8ms/step - loss: 0.3747 - accuracy: 0.8669 - val_loss: 0.3233 - val_accuracy: 0.8798\n",
      "Epoch 4/20\n",
      "69/69 [==============================] - 1s 8ms/step - loss: 0.3152 - accuracy: 0.8742 - val_loss: 0.3023 - val_accuracy: 0.8798\n",
      "Epoch 5/20\n",
      "69/69 [==============================] - 1s 8ms/step - loss: 0.2875 - accuracy: 0.8768 - val_loss: 0.2968 - val_accuracy: 0.8798\n",
      "Epoch 6/20\n",
      "69/69 [==============================] - 1s 9ms/step - loss: 0.2753 - accuracy: 0.8776 - val_loss: 0.2937 - val_accuracy: 0.8798\n",
      "Epoch 7/20\n",
      "69/69 [==============================] - 1s 8ms/step - loss: 0.2667 - accuracy: 0.8783 - val_loss: 0.2924 - val_accuracy: 0.8798\n",
      "Epoch 8/20\n",
      "69/69 [==============================] - 1s 8ms/step - loss: 0.2610 - accuracy: 0.8787 - val_loss: 0.2913 - val_accuracy: 0.8798\n",
      "Epoch 9/20\n",
      "69/69 [==============================] - 1s 8ms/step - loss: 0.2564 - accuracy: 0.8790 - val_loss: 0.2899 - val_accuracy: 0.8798\n",
      "Epoch 10/20\n",
      "69/69 [==============================] - 1s 9ms/step - loss: 0.2531 - accuracy: 0.8791 - val_loss: 0.2882 - val_accuracy: 0.8798\n",
      "Epoch 11/20\n",
      "69/69 [==============================] - 1s 9ms/step - loss: 0.2496 - accuracy: 0.8794 - val_loss: 0.2866 - val_accuracy: 0.8798\n",
      "Epoch 12/20\n",
      "69/69 [==============================] - 1s 9ms/step - loss: 0.2471 - accuracy: 0.8796 - val_loss: 0.2841 - val_accuracy: 0.8798\n",
      "Epoch 13/20\n",
      "69/69 [==============================] - 1s 9ms/step - loss: 0.2441 - accuracy: 0.8797 - val_loss: 0.2823 - val_accuracy: 0.8798\n",
      "Epoch 14/20\n",
      "69/69 [==============================] - 1s 8ms/step - loss: 0.2417 - accuracy: 0.8800 - val_loss: 0.2800 - val_accuracy: 0.8798\n",
      "Epoch 15/20\n",
      "69/69 [==============================] - 1s 9ms/step - loss: 0.2398 - accuracy: 0.8801 - val_loss: 0.2790 - val_accuracy: 0.8797\n",
      "Epoch 16/20\n",
      "69/69 [==============================] - 1s 8ms/step - loss: 0.2376 - accuracy: 0.8804 - val_loss: 0.2780 - val_accuracy: 0.8796\n",
      "Epoch 17/20\n",
      "69/69 [==============================] - 1s 8ms/step - loss: 0.2359 - accuracy: 0.8807 - val_loss: 0.2765 - val_accuracy: 0.8796\n",
      "Epoch 18/20\n",
      "69/69 [==============================] - 1s 9ms/step - loss: 0.2337 - accuracy: 0.8810 - val_loss: 0.2754 - val_accuracy: 0.8796\n",
      "Epoch 19/20\n",
      "69/69 [==============================] - 1s 9ms/step - loss: 0.2326 - accuracy: 0.8811 - val_loss: 0.2736 - val_accuracy: 0.8796\n",
      "Epoch 20/20\n",
      "69/69 [==============================] - 1s 9ms/step - loss: 0.2310 - accuracy: 0.8814 - val_loss: 0.2730 - val_accuracy: 0.8796\n"
     ]
    }
   ],
   "source": [
    "# Setup some training parameters\n",
    "batch_size = 10000\n",
    "epochs = 20\n",
    "n_nodes = 20\n",
    "n_layers = 2\n",
    "input_shape = Xtrain.shape[1]\n",
    "\n",
    "# Build and train model\n",
    "model9 = build_DNN(input_shape,n_layers,n_nodes,learning_rate=0.1 , use_bn=False, act_fun = 'sigmoid', optimizer = 'sgd', use_dropout = True)\n",
    "\n",
    "history9 = model9.fit(x=Xtrain, y=Ytrain , batch_size=batch_size , validation_data = (Xval,Yval), epochs = epochs, class_weight=class_weights ) "
   ]
  },
  {
   "cell_type": "code",
   "execution_count": 250,
   "metadata": {},
   "outputs": [
    {
     "name": "stdout",
     "output_type": "stream",
     "text": [
      "2388/2388 [==============================] - 1s 534us/step - loss: 0.2748 - accuracy: 0.8791\n",
      "Test loss: 0.2748\n",
      "Test accuracy: 0.8791\n"
     ]
    }
   ],
   "source": [
    "# Evaluate model on test data\n",
    "score = model9.evaluate(Xtest,Ytest)\n",
    "\n",
    "print('Test loss: %.4f' % score[0])\n",
    "print('Test accuracy: %.4f' % score[1])\n"
   ]
  },
  {
   "cell_type": "code",
   "execution_count": 251,
   "metadata": {},
   "outputs": [
    {
     "data": {
      "image/png": "[encoded data removed]",
      "text/plain": [
       "<Figure size 720x288 with 1 Axes>"
      ]
     },
     "metadata": {
      "needs_background": "light"
     },
     "output_type": "display_data"
    },
    {
     "data": {
      "image/png": "[encoded data removed]",
      "text/plain": [
       "<Figure size 720x288 with 1 Axes>"
      ]
     },
     "metadata": {
      "needs_background": "light"
     },
     "output_type": "display_data"
    },
    {
     "name": "stdout",
     "output_type": "stream",
     "text": [
      "Model: \"sequential_96\"\n",
      "_________________________________________________________________\n",
      " Layer (type)                Output Shape              Param #   \n",
      "=================================================================\n",
      " dense_669 (Dense)           (None, 20)                1380      \n",
      "                                                                 \n",
      " dropout_395 (Dropout)       (None, 20)                0         \n",
      "                                                                 \n",
      " dense_670 (Dense)           (None, 20)                420       \n",
      "                                                                 \n",
      " dropout_396 (Dropout)       (None, 20)                0         \n",
      "                                                                 \n",
      " dense_671 (Dense)           (None, 1)                 21        \n",
      "                                                                 \n",
      "=================================================================\n",
      "Total params: 1,821\n",
      "Trainable params: 1,821\n",
      "Non-trainable params: 0\n",
      "_________________________________________________________________\n"
     ]
    }
   ],
   "source": [
    "plot_results(history9)\n",
    "\n",
    "model9.summary()"
   ]
  },
  {
   "cell_type": "markdown",
   "metadata": {},
   "source": [
    "# Part 19: Improving performance\n",
    "\n",
    "Spend some time (30 - 90 minutes) playing with the network architecture (number of layers, number of nodes per layer, activation function) and other hyper parameters (optimizer, learning rate, batch size, number of epochs, degree of regularization). For example, try a much deeper network. How much does the training time increase for a network with 10 layers?\n",
    "\n",
    "Question 17: How high classification accuracy can you achieve for the test data? What is your best configuration?"
   ]
  },
  {
   "cell_type": "markdown",
   "metadata": {},
   "source": [
    "Answer:\n",
    "\n",
    "Q17: \n",
    "accuracy achieved: 92%, \n",
    "with the config: nodes = 100, layers = 6, epochs = 20, batch_size = 1000, Optimizer = adam, activation function = relu, lr = 0.001, use_bn = True, use_dropout = True"
   ]
  },
  {
   "cell_type": "code",
   "execution_count": 252,
   "metadata": {
    "scrolled": true
   },
   "outputs": [
    {
     "name": "stdout",
     "output_type": "stream",
     "text": [
      "Epoch 1/20\n",
      "688/688 [==============================] - 15s 20ms/step - loss: 0.2286 - accuracy: 0.8975 - val_loss: 0.2093 - val_accuracy: 0.9136\n",
      "Epoch 2/20\n",
      "688/688 [==============================] - 13s 19ms/step - loss: 0.1734 - accuracy: 0.9135 - val_loss: 0.2134 - val_accuracy: 0.9141\n",
      "Epoch 3/20\n",
      "688/688 [==============================] - 13s 19ms/step - loss: 0.1678 - accuracy: 0.9145 - val_loss: 0.2030 - val_accuracy: 0.9153\n",
      "Epoch 4/20\n",
      "688/688 [==============================] - 13s 19ms/step - loss: 0.1643 - accuracy: 0.9154 - val_loss: 0.2058 - val_accuracy: 0.9146\n",
      "Epoch 5/20\n",
      "688/688 [==============================] - 13s 19ms/step - loss: 0.1606 - accuracy: 0.9168 - val_loss: 0.1938 - val_accuracy: 0.9180\n",
      "Epoch 6/20\n",
      "688/688 [==============================] - 13s 19ms/step - loss: 0.1589 - accuracy: 0.9176 - val_loss: 0.1938 - val_accuracy: 0.9191\n",
      "Epoch 7/20\n",
      "688/688 [==============================] - 13s 19ms/step - loss: 0.1576 - accuracy: 0.9174 - val_loss: 0.1890 - val_accuracy: 0.9192\n",
      "Epoch 8/20\n",
      "688/688 [==============================] - 13s 19ms/step - loss: 0.1552 - accuracy: 0.9184 - val_loss: 0.1948 - val_accuracy: 0.9192\n",
      "Epoch 9/20\n",
      "688/688 [==============================] - 13s 19ms/step - loss: 0.1537 - accuracy: 0.9188 - val_loss: 0.1934 - val_accuracy: 0.9190\n",
      "Epoch 10/20\n",
      "688/688 [==============================] - 13s 19ms/step - loss: 0.1532 - accuracy: 0.9190 - val_loss: 0.1975 - val_accuracy: 0.9185\n",
      "Epoch 11/20\n",
      "688/688 [==============================] - 13s 19ms/step - loss: 0.1523 - accuracy: 0.9192 - val_loss: 0.1857 - val_accuracy: 0.9206\n",
      "Epoch 12/20\n",
      "688/688 [==============================] - 13s 19ms/step - loss: 0.1521 - accuracy: 0.9192 - val_loss: 0.1941 - val_accuracy: 0.9194\n",
      "Epoch 13/20\n",
      "688/688 [==============================] - 13s 19ms/step - loss: 0.1510 - accuracy: 0.9197 - val_loss: 0.1875 - val_accuracy: 0.9203\n",
      "Epoch 14/20\n",
      "688/688 [==============================] - 13s 19ms/step - loss: 0.1507 - accuracy: 0.9196 - val_loss: 0.1938 - val_accuracy: 0.9214\n",
      "Epoch 15/20\n",
      "688/688 [==============================] - 13s 19ms/step - loss: 0.1503 - accuracy: 0.9198 - val_loss: 0.1920 - val_accuracy: 0.9187\n",
      "Epoch 16/20\n",
      "688/688 [==============================] - 13s 19ms/step - loss: 0.1495 - accuracy: 0.9201 - val_loss: 0.1815 - val_accuracy: 0.9203\n",
      "Epoch 17/20\n",
      "688/688 [==============================] - 13s 19ms/step - loss: 0.1497 - accuracy: 0.9199 - val_loss: 0.1825 - val_accuracy: 0.9212\n",
      "Epoch 18/20\n",
      "688/688 [==============================] - 13s 19ms/step - loss: 0.1490 - accuracy: 0.9201 - val_loss: 0.1896 - val_accuracy: 0.9196\n",
      "Epoch 19/20\n",
      "688/688 [==============================] - 13s 19ms/step - loss: 0.1487 - accuracy: 0.9203 - val_loss: 0.1926 - val_accuracy: 0.9205\n",
      "Epoch 20/20\n",
      "688/688 [==============================] - 13s 19ms/step - loss: 0.1486 - accuracy: 0.9205 - val_loss: 0.1830 - val_accuracy: 0.9210\n"
     ]
    }
   ],
   "source": [
    "# Find your best configuration for the DNN\n",
    "batch_size = 1000\n",
    "epochs = 20\n",
    "n_nodes = 100\n",
    "n_layers = 6\n",
    "input_shape = Xtrain.shape[1]\n",
    "\n",
    "# Build and train model\n",
    "model10 = build_DNN(input_shape,n_layers,n_nodes,learning_rate=0.001 , use_bn=True, act_fun = 'relu', optimizer = 'adam', use_dropout = True)\n",
    "\n",
    "history10 = model10.fit(x=Xtrain, y=Ytrain , batch_size=batch_size , validation_data = (Xval,Yval), epochs = epochs, class_weight=class_weights ) "
   ]
  },
  {
   "cell_type": "code",
   "execution_count": 253,
   "metadata": {},
   "outputs": [
    {
     "name": "stdout",
     "output_type": "stream",
     "text": [
      "2388/2388 [==============================] - 2s 793us/step - loss: 0.1860 - accuracy: 0.9192\n",
      "Test loss: 0.1860\n",
      "Test accuracy: 0.9192\n",
      "Model: \"sequential_97\"\n",
      "_________________________________________________________________\n",
      " Layer (type)                Output Shape              Param #   \n",
      "=================================================================\n",
      " dense_672 (Dense)           (None, 100)               6900      \n",
      "                                                                 \n",
      " batch_normalization_429 (Ba  (None, 100)              400       \n",
      " tchNormalization)                                               \n",
      "                                                                 \n",
      " dropout_397 (Dropout)       (None, 100)               0         \n",
      "                                                                 \n",
      " dense_673 (Dense)           (None, 100)               10100     \n",
      "                                                                 \n",
      " batch_normalization_430 (Ba  (None, 100)              400       \n",
      " tchNormalization)                                               \n",
      "                                                                 \n",
      " dropout_398 (Dropout)       (None, 100)               0         \n",
      "                                                                 \n",
      " dense_674 (Dense)           (None, 100)               10100     \n",
      "                                                                 \n",
      " batch_normalization_431 (Ba  (None, 100)              400       \n",
      " tchNormalization)                                               \n",
      "                                                                 \n",
      " dropout_399 (Dropout)       (None, 100)               0         \n",
      "                                                                 \n",
      " dense_675 (Dense)           (None, 100)               10100     \n",
      "                                                                 \n",
      " batch_normalization_432 (Ba  (None, 100)              400       \n",
      " tchNormalization)                                               \n",
      "                                                                 \n",
      " dropout_400 (Dropout)       (None, 100)               0         \n",
      "                                                                 \n",
      " dense_676 (Dense)           (None, 100)               10100     \n",
      "                                                                 \n",
      " batch_normalization_433 (Ba  (None, 100)              400       \n",
      " tchNormalization)                                               \n",
      "                                                                 \n",
      " dropout_401 (Dropout)       (None, 100)               0         \n",
      "                                                                 \n",
      " dense_677 (Dense)           (None, 100)               10100     \n",
      "                                                                 \n",
      " batch_normalization_434 (Ba  (None, 100)              400       \n",
      " tchNormalization)                                               \n",
      "                                                                 \n",
      " dropout_402 (Dropout)       (None, 100)               0         \n",
      "                                                                 \n",
      " dense_678 (Dense)           (None, 1)                 101       \n",
      "                                                                 \n",
      "=================================================================\n",
      "Total params: 59,901\n",
      "Trainable params: 58,701\n",
      "Non-trainable params: 1,200\n",
      "_________________________________________________________________\n"
     ]
    },
    {
     "data": {
      "image/png": "[encoded data removed]",
      "text/plain": [
       "<Figure size 720x288 with 1 Axes>"
      ]
     },
     "metadata": {
      "needs_background": "light"
     },
     "output_type": "display_data"
    },
    {
     "data": {
      "image/png": "[encoded data removed]",
      "text/plain": [
       "<Figure size 720x288 with 1 Axes>"
      ]
     },
     "metadata": {
      "needs_background": "light"
     },
     "output_type": "display_data"
    }
   ],
   "source": [
    "# Evaluate DNN on test data\n",
    "score = model10.evaluate(Xtest,Ytest)\n",
    "\n",
    "print('Test loss: %.4f' % score[0])\n",
    "print('Test accuracy: %.4f' % score[1])\n",
    "\n",
    "\n",
    "model10.summary()\n",
    "plot_results(history10)"
   ]
  },
  {
   "cell_type": "code",
   "execution_count": null,
   "metadata": {},
   "outputs": [],
   "source": []
  },
  {
   "cell_type": "markdown",
   "metadata": {},
   "source": [
    "# Part 20: Dropout uncertainty\n",
    "\n",
    "Dropout can also be used during testing, to obtain an estimate of the model uncertainty. Since dropout will randomly remove connections, the network will produce different results every time the same (test) data is put into the network. This technique is called Monte Carlo dropout. For more information, see this paper http://proceedings.mlr.press/v48/gal16.pdf\n",
    "\n",
    "To achieve this, we need to redefine the Keras Dropout call by running the cell below, and use 'myDropout' in each call to Dropout, in the cell that defines the DNN. The `build_DNN` function takes two boolean arguments, use_dropout and use_custom_dropout, add a standard Dropout layer if use_dropout is true, add a myDropout layer if use_custom_dropout is true.\n",
    "\n",
    "Run the same test data through the trained network 100 times, with dropout turned on. \n",
    "\n",
    "Question 18: What is the mean and the standard deviation of the test accuracy?"
   ]
  },
  {
   "cell_type": "markdown",
   "metadata": {},
   "source": [
    "Answer:\n",
    "\n",
    "Q18: \n",
    "Mean:0.9181716650724411 so 91.8%\n",
    "Standard deviation: 0.00011050742497226597 so around 0.01%\n"
   ]
  },
  {
   "cell_type": "code",
   "execution_count": 254,
   "metadata": {},
   "outputs": [],
   "source": [
    "import keras.backend as K\n",
    "import keras\n",
    "\n",
    "class myDropout(keras.layers.Dropout):\n",
    "    \"\"\"Applies Dropout to the input.\n",
    "    Dropout consists in randomly setting\n",
    "    a fraction `rate` of input units to 0 at each update during training time,\n",
    "    which helps prevent overfitting.\n",
    "    # Arguments\n",
    "        rate: float between 0 and 1. Fraction of the input units to drop.\n",
    "        noise_shape: 1D integer tensor representing the shape of the\n",
    "            binary dropout mask that will be multiplied with the input.\n",
    "            For instance, if your inputs have shape\n",
    "            `(batch_size, timesteps, features)` and\n",
    "            you want the dropout mask to be the same for all timesteps,\n",
    "            you can use `noise_shape=(batch_size, 1, features)`.\n",
    "        seed: A Python integer to use as random seed.\n",
    "    # References\n",
    "        - [Dropout: A Simple Way to Prevent Neural Networks from Overfitting](\n",
    "           http://www.jmlr.org/papers/volume15/srivastava14a/srivastava14a.pdf)\n",
    "    \"\"\"\n",
    "    def __init__(self, rate, training=True, noise_shape=None, seed=None, **kwargs):\n",
    "        super(myDropout, self).__init__(rate, noise_shape=None, seed=None,**kwargs)\n",
    "        self.training = training\n",
    "\n",
    "        \n",
    "    def call(self, inputs, training=None):\n",
    "        if 0. < self.rate < 1.:\n",
    "            noise_shape = self._get_noise_shape(inputs)\n",
    "\n",
    "            def dropped_inputs():\n",
    "                return K.dropout(inputs, self.rate, noise_shape,\n",
    "                                 seed=self.seed)\n",
    "            if not training: \n",
    "                return K.in_train_phase(dropped_inputs, inputs, training=self.training)\n",
    "            return K.in_train_phase(dropped_inputs, inputs, training=training)\n",
    "        return inputs"
   ]
  },
  {
   "cell_type": "markdown",
   "metadata": {},
   "source": [
    "### Your best config, custom dropout"
   ]
  },
  {
   "cell_type": "code",
   "execution_count": 255,
   "metadata": {
    "scrolled": true
   },
   "outputs": [
    {
     "name": "stdout",
     "output_type": "stream",
     "text": [
      "Epoch 1/20\n",
      "688/688 [==============================] - 14s 19ms/step - loss: 0.2237 - accuracy: 0.9014 - val_loss: 0.2343 - val_accuracy: 0.9112\n",
      "Epoch 2/20\n",
      "688/688 [==============================] - 13s 19ms/step - loss: 0.1744 - accuracy: 0.9134 - val_loss: 0.2276 - val_accuracy: 0.9134\n",
      "Epoch 3/20\n",
      "688/688 [==============================] - 13s 19ms/step - loss: 0.1675 - accuracy: 0.9151 - val_loss: 0.2156 - val_accuracy: 0.9145\n",
      "Epoch 4/20\n",
      "688/688 [==============================] - 13s 19ms/step - loss: 0.1630 - accuracy: 0.9166 - val_loss: 0.2160 - val_accuracy: 0.9161\n",
      "Epoch 5/20\n",
      "688/688 [==============================] - 13s 19ms/step - loss: 0.1603 - accuracy: 0.9174 - val_loss: 0.1995 - val_accuracy: 0.9171\n",
      "Epoch 6/20\n",
      "688/688 [==============================] - 13s 19ms/step - loss: 0.1585 - accuracy: 0.9178 - val_loss: 0.2074 - val_accuracy: 0.9186\n",
      "Epoch 7/20\n",
      "688/688 [==============================] - 13s 19ms/step - loss: 0.1567 - accuracy: 0.9184 - val_loss: 0.1966 - val_accuracy: 0.9183\n",
      "Epoch 8/20\n",
      "688/688 [==============================] - 13s 19ms/step - loss: 0.1557 - accuracy: 0.9183 - val_loss: 0.1994 - val_accuracy: 0.9184\n",
      "Epoch 9/20\n",
      "688/688 [==============================] - 13s 19ms/step - loss: 0.1547 - accuracy: 0.9185 - val_loss: 0.1966 - val_accuracy: 0.9189\n",
      "Epoch 10/20\n",
      "688/688 [==============================] - 13s 19ms/step - loss: 0.1535 - accuracy: 0.9189 - val_loss: 0.2010 - val_accuracy: 0.9194\n",
      "Epoch 11/20\n",
      "688/688 [==============================] - 13s 19ms/step - loss: 0.1527 - accuracy: 0.9190 - val_loss: 0.1994 - val_accuracy: 0.9185\n",
      "Epoch 12/20\n",
      "688/688 [==============================] - 13s 19ms/step - loss: 0.1523 - accuracy: 0.9194 - val_loss: 0.2050 - val_accuracy: 0.9193\n",
      "Epoch 13/20\n",
      "688/688 [==============================] - 13s 19ms/step - loss: 0.1514 - accuracy: 0.9194 - val_loss: 0.1915 - val_accuracy: 0.9201\n",
      "Epoch 14/20\n",
      "688/688 [==============================] - 13s 19ms/step - loss: 0.1508 - accuracy: 0.9197 - val_loss: 0.1993 - val_accuracy: 0.9201\n",
      "Epoch 15/20\n",
      "688/688 [==============================] - 13s 19ms/step - loss: 0.1506 - accuracy: 0.9194 - val_loss: 0.1887 - val_accuracy: 0.9197\n",
      "Epoch 16/20\n",
      "688/688 [==============================] - 13s 19ms/step - loss: 0.1501 - accuracy: 0.9197 - val_loss: 0.1951 - val_accuracy: 0.9178\n",
      "Epoch 17/20\n",
      "688/688 [==============================] - 13s 19ms/step - loss: 0.1504 - accuracy: 0.9197 - val_loss: 0.2110 - val_accuracy: 0.9195\n",
      "Epoch 18/20\n",
      "688/688 [==============================] - 13s 19ms/step - loss: 0.1493 - accuracy: 0.9199 - val_loss: 0.2160 - val_accuracy: 0.9199\n",
      "Epoch 19/20\n",
      "688/688 [==============================] - 13s 19ms/step - loss: 0.1491 - accuracy: 0.9198 - val_loss: 0.1933 - val_accuracy: 0.9188\n",
      "Epoch 20/20\n",
      "688/688 [==============================] - 13s 19ms/step - loss: 0.1488 - accuracy: 0.9203 - val_loss: 0.1916 - val_accuracy: 0.9200\n"
     ]
    }
   ],
   "source": [
    "# Find your best configuration for the DNN\n",
    "batch_size = 1000\n",
    "epochs = 20\n",
    "n_nodes = 100\n",
    "n_layers = 6\n",
    "input_shape = Xtrain.shape[1]\n",
    "\n",
    "# Build and train model\n",
    "model11 = build_DNN(input_shape,n_layers,n_nodes,learning_rate=0.001 , use_bn=True, act_fun = 'relu', optimizer = 'adam', use_custom_dropout = True)\n",
    "\n",
    "history11 = model11.fit(x=Xtrain, y=Ytrain , batch_size=batch_size , validation_data = (Xval,Yval), epochs = epochs, class_weight=class_weights ) "
   ]
  },
  {
   "cell_type": "code",
   "execution_count": 256,
   "metadata": {},
   "outputs": [
    {
     "name": "stdout",
     "output_type": "stream",
     "text": [
      "2388/2388 [==============================] - 3s 1ms/step - loss: 0.1950 - accuracy: 0.9180\n",
      "Test accuracy: 0.9180\n",
      "Model: \"sequential_98\"\n",
      "_________________________________________________________________\n",
      " Layer (type)                Output Shape              Param #   \n",
      "=================================================================\n",
      " dense_679 (Dense)           (None, 100)               6900      \n",
      "                                                                 \n",
      " batch_normalization_435 (Ba  (None, 100)              400       \n",
      " tchNormalization)                                               \n",
      "                                                                 \n",
      " my_dropout_39 (myDropout)   (None, 100)               0         \n",
      "                                                                 \n",
      " dense_680 (Dense)           (None, 100)               10100     \n",
      "                                                                 \n",
      " batch_normalization_436 (Ba  (None, 100)              400       \n",
      " tchNormalization)                                               \n",
      "                                                                 \n",
      " my_dropout_40 (myDropout)   (None, 100)               0         \n",
      "                                                                 \n",
      " dense_681 (Dense)           (None, 100)               10100     \n",
      "                                                                 \n",
      " batch_normalization_437 (Ba  (None, 100)              400       \n",
      " tchNormalization)                                               \n",
      "                                                                 \n",
      " my_dropout_41 (myDropout)   (None, 100)               0         \n",
      "                                                                 \n",
      " dense_682 (Dense)           (None, 100)               10100     \n",
      "                                                                 \n",
      " batch_normalization_438 (Ba  (None, 100)              400       \n",
      " tchNormalization)                                               \n",
      "                                                                 \n",
      " my_dropout_42 (myDropout)   (None, 100)               0         \n",
      "                                                                 \n",
      " dense_683 (Dense)           (None, 100)               10100     \n",
      "                                                                 \n",
      " batch_normalization_439 (Ba  (None, 100)              400       \n",
      " tchNormalization)                                               \n",
      "                                                                 \n",
      " my_dropout_43 (myDropout)   (None, 100)               0         \n",
      "                                                                 \n",
      " dense_684 (Dense)           (None, 100)               10100     \n",
      "                                                                 \n",
      " batch_normalization_440 (Ba  (None, 100)              400       \n",
      " tchNormalization)                                               \n",
      "                                                                 \n",
      " my_dropout_44 (myDropout)   (None, 100)               0         \n",
      "                                                                 \n",
      " dense_685 (Dense)           (None, 1)                 101       \n",
      "                                                                 \n",
      "=================================================================\n",
      "Total params: 59,901\n",
      "Trainable params: 58,701\n",
      "Non-trainable params: 1,200\n",
      "_________________________________________________________________\n"
     ]
    },
    {
     "data": {
      "image/png": "[encoded data removed]",
      "text/plain": [
       "<Figure size 720x288 with 1 Axes>"
      ]
     },
     "metadata": {
      "needs_background": "light"
     },
     "output_type": "display_data"
    },
    {
     "data": {
      "image/png": "[encoded data removed]",
      "text/plain": [
       "<Figure size 720x288 with 1 Axes>"
      ]
     },
     "metadata": {
      "needs_background": "light"
     },
     "output_type": "display_data"
    }
   ],
   "source": [
    "# Run this cell a few times to evalute the model on test data, \n",
    "# if you get slightly different test accuracy every time, Dropout during testing is working\n",
    "\n",
    "# Evaluate model on test data\n",
    "score = model11.evaluate(Xtest,Ytest)\n",
    "                       \n",
    "print('Test accuracy: %.4f' % score[1])\n",
    "\n",
    "model11.summary()\n",
    "\n",
    "plot_results(history11)"
   ]
  },
  {
   "cell_type": "code",
   "execution_count": 257,
   "metadata": {},
   "outputs": [
    {
     "name": "stdout",
     "output_type": "stream",
     "text": [
      "2388/2388 [==============================] - 3s 1ms/step - loss: 0.1949 - accuracy: 0.9183\n",
      "2388/2388 [==============================] - 3s 1ms/step - loss: 0.1954 - accuracy: 0.9181\n",
      "2388/2388 [==============================] - 3s 1ms/step - loss: 0.1951 - accuracy: 0.9182\n",
      "2388/2388 [==============================] - 3s 1ms/step - loss: 0.1948 - accuracy: 0.9184\n",
      "2388/2388 [==============================] - 3s 1ms/step - loss: 0.1957 - accuracy: 0.9180\n",
      "2388/2388 [==============================] - 3s 1ms/step - loss: 0.1951 - accuracy: 0.9182\n",
      "2388/2388 [==============================] - 3s 1ms/step - loss: 0.1952 - accuracy: 0.9183\n",
      "2388/2388 [==============================] - 3s 1ms/step - loss: 0.1957 - accuracy: 0.9180\n",
      "2388/2388 [==============================] - 3s 1ms/step - loss: 0.1945 - accuracy: 0.9182\n",
      "2388/2388 [==============================] - 3s 1ms/step - loss: 0.1957 - accuracy: 0.9182\n",
      "2388/2388 [==============================] - 3s 1ms/step - loss: 0.1948 - accuracy: 0.9183\n",
      "2388/2388 [==============================] - 3s 1ms/step - loss: 0.1949 - accuracy: 0.9182\n",
      "2388/2388 [==============================] - 3s 1ms/step - loss: 0.1950 - accuracy: 0.9181\n",
      "2388/2388 [==============================] - 3s 1ms/step - loss: 0.1951 - accuracy: 0.9180\n",
      "2388/2388 [==============================] - 3s 1ms/step - loss: 0.1952 - accuracy: 0.9183\n",
      "2388/2388 [==============================] - 3s 1ms/step - loss: 0.1948 - accuracy: 0.9184\n",
      "2388/2388 [==============================] - 3s 1ms/step - loss: 0.1951 - accuracy: 0.9182\n",
      "2388/2388 [==============================] - 3s 1ms/step - loss: 0.1949 - accuracy: 0.9182\n",
      "2388/2388 [==============================] - 3s 1ms/step - loss: 0.1952 - accuracy: 0.9180\n",
      "2388/2388 [==============================] - 3s 1ms/step - loss: 0.1957 - accuracy: 0.9180\n",
      "2388/2388 [==============================] - 3s 1ms/step - loss: 0.1950 - accuracy: 0.9180\n",
      "2388/2388 [==============================] - 3s 1ms/step - loss: 0.1954 - accuracy: 0.9182\n",
      "2388/2388 [==============================] - 3s 1ms/step - loss: 0.1954 - accuracy: 0.9182\n",
      "2388/2388 [==============================] - 3s 1ms/step - loss: 0.1952 - accuracy: 0.9182\n",
      "2388/2388 [==============================] - 3s 1ms/step - loss: 0.1955 - accuracy: 0.9182\n",
      "2388/2388 [==============================] - 3s 1ms/step - loss: 0.1950 - accuracy: 0.9183\n",
      "2388/2388 [==============================] - 3s 1ms/step - loss: 0.1952 - accuracy: 0.9182\n",
      "2388/2388 [==============================] - 3s 1ms/step - loss: 0.1952 - accuracy: 0.9182\n",
      "2388/2388 [==============================] - 3s 1ms/step - loss: 0.1950 - accuracy: 0.9183\n",
      "2388/2388 [==============================] - 3s 1ms/step - loss: 0.1952 - accuracy: 0.9181\n",
      "2388/2388 [==============================] - 3s 1ms/step - loss: 0.1949 - accuracy: 0.9182\n",
      "2388/2388 [==============================] - 3s 1ms/step - loss: 0.1953 - accuracy: 0.9180\n",
      "2388/2388 [==============================] - 3s 1ms/step - loss: 0.1954 - accuracy: 0.9182\n",
      "2388/2388 [==============================] - 3s 1ms/step - loss: 0.1951 - accuracy: 0.9181\n",
      "2388/2388 [==============================] - 3s 1ms/step - loss: 0.1953 - accuracy: 0.9181\n",
      "2388/2388 [==============================] - 3s 1ms/step - loss: 0.1965 - accuracy: 0.9181\n",
      "2388/2388 [==============================] - 3s 1ms/step - loss: 0.1948 - accuracy: 0.9183\n",
      "2388/2388 [==============================] - 3s 1ms/step - loss: 0.1949 - accuracy: 0.9182\n",
      "2388/2388 [==============================] - 3s 1ms/step - loss: 0.1954 - accuracy: 0.9181\n",
      "2388/2388 [==============================] - 3s 1ms/step - loss: 0.1951 - accuracy: 0.9182\n",
      "2388/2388 [==============================] - 3s 1ms/step - loss: 0.1957 - accuracy: 0.9181\n",
      "2388/2388 [==============================] - 3s 1ms/step - loss: 0.1949 - accuracy: 0.9183\n",
      "2388/2388 [==============================] - 3s 1ms/step - loss: 0.1954 - accuracy: 0.9182\n",
      "2388/2388 [==============================] - 3s 1ms/step - loss: 0.1955 - accuracy: 0.9183\n",
      "2388/2388 [==============================] - 3s 1ms/step - loss: 0.1945 - accuracy: 0.9183\n",
      "2388/2388 [==============================] - 3s 1ms/step - loss: 0.1955 - accuracy: 0.9181\n",
      "2388/2388 [==============================] - 3s 1ms/step - loss: 0.1948 - accuracy: 0.9182\n",
      "2388/2388 [==============================] - 3s 1ms/step - loss: 0.1949 - accuracy: 0.9183\n",
      "2388/2388 [==============================] - 3s 1ms/step - loss: 0.1949 - accuracy: 0.9182\n",
      "2388/2388 [==============================] - 3s 1ms/step - loss: 0.1950 - accuracy: 0.9180\n",
      "2388/2388 [==============================] - 3s 1ms/step - loss: 0.1951 - accuracy: 0.9182\n",
      "2388/2388 [==============================] - 3s 1ms/step - loss: 0.1953 - accuracy: 0.9179\n",
      "2388/2388 [==============================] - 3s 1ms/step - loss: 0.1949 - accuracy: 0.9182\n",
      "2388/2388 [==============================] - 3s 1ms/step - loss: 0.1959 - accuracy: 0.9180\n",
      "2388/2388 [==============================] - 3s 1ms/step - loss: 0.1950 - accuracy: 0.9182\n",
      "2388/2388 [==============================] - 3s 1ms/step - loss: 0.1959 - accuracy: 0.9183\n",
      "2388/2388 [==============================] - 3s 1ms/step - loss: 0.1952 - accuracy: 0.9183\n",
      "2388/2388 [==============================] - 3s 1ms/step - loss: 0.1951 - accuracy: 0.9182\n",
      "2388/2388 [==============================] - 3s 1ms/step - loss: 0.1953 - accuracy: 0.9182\n",
      "2388/2388 [==============================] - 3s 1ms/step - loss: 0.1955 - accuracy: 0.9181\n",
      "2388/2388 [==============================] - 3s 1ms/step - loss: 0.1955 - accuracy: 0.9182\n",
      "2388/2388 [==============================] - 3s 1ms/step - loss: 0.1950 - accuracy: 0.9182\n",
      "2388/2388 [==============================] - 3s 1ms/step - loss: 0.1949 - accuracy: 0.9182\n",
      "2388/2388 [==============================] - 3s 1ms/step - loss: 0.1947 - accuracy: 0.9181\n",
      "2388/2388 [==============================] - 3s 1ms/step - loss: 0.1953 - accuracy: 0.9181\n",
      "2388/2388 [==============================] - 3s 1ms/step - loss: 0.1959 - accuracy: 0.9179\n",
      "2388/2388 [==============================] - 3s 1ms/step - loss: 0.1944 - accuracy: 0.9183\n",
      "2388/2388 [==============================] - 3s 1ms/step - loss: 0.1955 - accuracy: 0.9180\n",
      "2388/2388 [==============================] - 3s 1ms/step - loss: 0.1951 - accuracy: 0.9183\n",
      "2388/2388 [==============================] - 3s 1ms/step - loss: 0.1949 - accuracy: 0.9183\n",
      "2388/2388 [==============================] - 3s 1ms/step - loss: 0.1943 - accuracy: 0.9183\n",
      "2388/2388 [==============================] - 3s 1ms/step - loss: 0.1945 - accuracy: 0.9181\n",
      "2388/2388 [==============================] - 3s 1ms/step - loss: 0.1955 - accuracy: 0.9181\n",
      "2388/2388 [==============================] - 3s 1ms/step - loss: 0.1947 - accuracy: 0.9182\n",
      "2388/2388 [==============================] - 3s 1ms/step - loss: 0.1948 - accuracy: 0.9182\n",
      "2388/2388 [==============================] - 3s 1ms/step - loss: 0.1951 - accuracy: 0.9182\n",
      "2388/2388 [==============================] - 3s 1ms/step - loss: 0.1953 - accuracy: 0.9181\n",
      "2388/2388 [==============================] - 3s 1ms/step - loss: 0.1952 - accuracy: 0.9183\n",
      "2388/2388 [==============================] - 3s 1ms/step - loss: 0.1948 - accuracy: 0.9184\n",
      "2388/2388 [==============================] - 3s 1ms/step - loss: 0.1949 - accuracy: 0.9181\n",
      "2388/2388 [==============================] - 3s 1ms/step - loss: 0.1949 - accuracy: 0.9181\n",
      "2388/2388 [==============================] - 3s 1ms/step - loss: 0.1952 - accuracy: 0.9182\n",
      "2388/2388 [==============================] - 3s 1ms/step - loss: 0.1951 - accuracy: 0.9182\n",
      "2388/2388 [==============================] - 3s 1ms/step - loss: 0.1950 - accuracy: 0.9181\n",
      "2388/2388 [==============================] - 3s 1ms/step - loss: 0.1948 - accuracy: 0.9181\n",
      "2388/2388 [==============================] - 3s 1ms/step - loss: 0.1948 - accuracy: 0.9182\n",
      "2388/2388 [==============================] - 3s 1ms/step - loss: 0.1953 - accuracy: 0.9181\n",
      "2388/2388 [==============================] - 3s 1ms/step - loss: 0.1961 - accuracy: 0.9181\n",
      "2388/2388 [==============================] - 3s 1ms/step - loss: 0.1953 - accuracy: 0.9181\n",
      "2388/2388 [==============================] - 3s 1ms/step - loss: 0.1953 - accuracy: 0.9180\n",
      "2388/2388 [==============================] - 3s 1ms/step - loss: 0.1950 - accuracy: 0.9181\n",
      "2388/2388 [==============================] - 3s 1ms/step - loss: 0.1962 - accuracy: 0.9180\n",
      "2388/2388 [==============================] - 3s 1ms/step - loss: 0.1948 - accuracy: 0.9183\n",
      "2388/2388 [==============================] - 3s 1ms/step - loss: 0.1948 - accuracy: 0.9182\n",
      "2388/2388 [==============================] - 3s 1ms/step - loss: 0.1956 - accuracy: 0.9181\n",
      "2388/2388 [==============================] - 3s 1ms/step - loss: 0.1959 - accuracy: 0.9184\n",
      "2388/2388 [==============================] - 3s 1ms/step - loss: 0.1953 - accuracy: 0.9181\n",
      "2388/2388 [==============================] - 3s 1ms/step - loss: 0.1951 - accuracy: 0.9181\n",
      "2388/2388 [==============================] - 3s 1ms/step - loss: 0.1950 - accuracy: 0.9182\n",
      "2388/2388 [==============================] - 3s 1ms/step - loss: 0.1955 - accuracy: 0.9180\n",
      "0.9181716650724411\n",
      "0.00011050742497226597\n"
     ]
    }
   ],
   "source": [
    "# Run the testing 100 times, and save the accuracies in an array\n",
    "times = 100\n",
    "acca = np.zeros(times)\n",
    "for i in range(times):\n",
    "    score = model11.evaluate(Xtest,Ytest)\n",
    "    acca[i] = score[1]\n",
    "    \n",
    "    \n",
    "# Calculate and print mean and std of accuracies\n",
    "\n",
    "mean_100 = np.mean(acca)\n",
    "std_100 = np.std(acca)\n",
    "print(mean_100)\n",
    "print(std_100)"
   ]
  },
  {
   "cell_type": "markdown",
   "metadata": {},
   "source": [
    "# Part 21: Cross validation uncertainty\n",
    "\n",
    "Cross validation (CV) is often used to evaluate a model, by training and testing using different subsets of the data it is possible to get the uncertainty as the standard deviation over folds. We here use a help function from scikit-learn to setup the CV, see https://scikit-learn.org/stable/modules/generated/sklearn.model_selection.StratifiedKFold.html . Use 10 folds with shuffling, random state 1234. \n",
    "\n",
    "Note: We here assume that you have found the best hyper parameters, so here the data are only split into training and testing, no validation.\n",
    "\n",
    "---\n",
    "\n",
    "Question 19: What is the mean and the standard deviation of the test accuracy?\n",
    "\n",
    "Question 20: What is the main advantage of dropout compared to CV for estimating test uncertainty? The difference may not be so large in this notebook, but imagine that you have a network that takes 24 hours to train."
   ]
  },
  {
   "cell_type": "markdown",
   "metadata": {},
   "source": [
    "Answer:\n",
    "\n",
    "Q19: \n",
    "mean: 0.9200653036435446\n",
    "std:  0.0009349460863567071\n",
    "\n",
    "Q20: Especially in DNN with large data sets, CV would be overfitting to just a part of the whole big dataset since the big data set will be more sensitive to overfitting. Dropout is desirable to minimize this overfitting. CV also takes longer time to train."
   ]
  },
  {
   "cell_type": "code",
   "execution_count": 258,
   "metadata": {},
   "outputs": [
    {
     "name": "stderr",
     "output_type": "stream",
     "text": [
      "C:\\Users\\dinud\\anaconda3\\lib\\site-packages\\sklearn\\utils\\validation.py:70: FutureWarning: Pass classes=[0 1], y=[1 1 1 ... 1 1 1] as keyword args. From version 1.0 (renaming of 0.25) passing these as positional arguments will result in an error\n",
      "  warnings.warn(f\"Pass {args_msg} as keyword args. From version \"\n"
     ]
    },
    {
     "name": "stdout",
     "output_type": "stream",
     "text": [
      "Epoch 1/20\n",
      "688/688 [==============================] - 15s 20ms/step - loss: 0.2268 - accuracy: 0.8998 - val_loss: 0.2239 - val_accuracy: 0.9118\n",
      "Epoch 2/20\n",
      "688/688 [==============================] - 13s 19ms/step - loss: 0.1744 - accuracy: 0.9131 - val_loss: 0.2169 - val_accuracy: 0.9131\n",
      "Epoch 3/20\n",
      "688/688 [==============================] - 13s 19ms/step - loss: 0.1687 - accuracy: 0.9144 - val_loss: 0.2053 - val_accuracy: 0.9134\n",
      "Epoch 4/20\n",
      "688/688 [==============================] - 14s 20ms/step - loss: 0.1657 - accuracy: 0.9150 - val_loss: 0.2114 - val_accuracy: 0.9139\n",
      "Epoch 5/20\n",
      "688/688 [==============================] - 14s 20ms/step - loss: 0.1632 - accuracy: 0.9158 - val_loss: 0.2100 - val_accuracy: 0.9157\n",
      "Epoch 6/20\n",
      "688/688 [==============================] - 14s 20ms/step - loss: 0.1612 - accuracy: 0.9167 - val_loss: 0.2081 - val_accuracy: 0.9152\n",
      "Epoch 7/20\n",
      "688/688 [==============================] - 13s 19ms/step - loss: 0.1586 - accuracy: 0.9179 - val_loss: 0.2008 - val_accuracy: 0.9169\n",
      "Epoch 8/20\n",
      "688/688 [==============================] - 13s 20ms/step - loss: 0.1568 - accuracy: 0.9182 - val_loss: 0.1996 - val_accuracy: 0.9177\n",
      "Epoch 9/20\n",
      "688/688 [==============================] - 14s 20ms/step - loss: 0.1553 - accuracy: 0.9187 - val_loss: 0.1933 - val_accuracy: 0.9181\n",
      "Epoch 10/20\n",
      "688/688 [==============================] - 13s 19ms/step - loss: 0.1542 - accuracy: 0.9189 - val_loss: 0.2051 - val_accuracy: 0.9179\n",
      "Epoch 11/20\n",
      "688/688 [==============================] - 13s 19ms/step - loss: 0.1532 - accuracy: 0.9191 - val_loss: 0.1995 - val_accuracy: 0.9180\n",
      "Epoch 12/20\n",
      "688/688 [==============================] - 13s 19ms/step - loss: 0.1524 - accuracy: 0.9194 - val_loss: 0.2078 - val_accuracy: 0.9184\n",
      "Epoch 13/20\n",
      "688/688 [==============================] - 13s 19ms/step - loss: 0.1517 - accuracy: 0.9192 - val_loss: 0.1992 - val_accuracy: 0.9181\n",
      "Epoch 14/20\n",
      "688/688 [==============================] - 13s 19ms/step - loss: 0.1510 - accuracy: 0.9196 - val_loss: 0.1902 - val_accuracy: 0.9184\n",
      "Epoch 15/20\n",
      "688/688 [==============================] - 13s 19ms/step - loss: 0.1504 - accuracy: 0.9198 - val_loss: 0.1877 - val_accuracy: 0.9195\n",
      "Epoch 16/20\n",
      "688/688 [==============================] - 13s 19ms/step - loss: 0.1503 - accuracy: 0.9197 - val_loss: 0.1977 - val_accuracy: 0.9192\n",
      "Epoch 17/20\n",
      "688/688 [==============================] - 13s 19ms/step - loss: 0.1500 - accuracy: 0.9200 - val_loss: 0.1915 - val_accuracy: 0.9189\n",
      "Epoch 18/20\n",
      "688/688 [==============================] - 13s 19ms/step - loss: 0.1499 - accuracy: 0.9200 - val_loss: 0.1890 - val_accuracy: 0.9191\n",
      "Epoch 19/20\n",
      "688/688 [==============================] - 13s 19ms/step - loss: 0.1492 - accuracy: 0.9201 - val_loss: 0.1886 - val_accuracy: 0.9188\n",
      "Epoch 20/20\n",
      "688/688 [==============================] - 13s 19ms/step - loss: 0.1491 - accuracy: 0.9202 - val_loss: 0.1903 - val_accuracy: 0.9185\n",
      "2388/2388 [==============================] - 3s 1ms/step - loss: 0.1906 - accuracy: 0.9185\n",
      "Epoch 1/20\n",
      "688/688 [==============================] - 15s 20ms/step - loss: 0.2291 - accuracy: 0.8991 - val_loss: 0.2253 - val_accuracy: 0.9125\n",
      "Epoch 2/20\n",
      "688/688 [==============================] - 14s 20ms/step - loss: 0.1747 - accuracy: 0.9133 - val_loss: 0.2148 - val_accuracy: 0.9145\n",
      "Epoch 3/20\n",
      "688/688 [==============================] - 14s 20ms/step - loss: 0.1685 - accuracy: 0.9146 - val_loss: 0.2115 - val_accuracy: 0.9148\n",
      "Epoch 4/20\n",
      "688/688 [==============================] - 14s 20ms/step - loss: 0.1649 - accuracy: 0.9155 - val_loss: 0.2083 - val_accuracy: 0.9155\n",
      "Epoch 5/20\n",
      "688/688 [==============================] - 14s 20ms/step - loss: 0.1622 - accuracy: 0.9165 - val_loss: 0.1988 - val_accuracy: 0.9170\n",
      "Epoch 6/20\n",
      "688/688 [==============================] - 14s 20ms/step - loss: 0.1592 - accuracy: 0.9175 - val_loss: 0.2144 - val_accuracy: 0.9170\n",
      "Epoch 7/20\n",
      "688/688 [==============================] - 14s 20ms/step - loss: 0.1577 - accuracy: 0.9179 - val_loss: 0.1973 - val_accuracy: 0.9192\n",
      "Epoch 8/20\n",
      "688/688 [==============================] - 14s 20ms/step - loss: 0.1562 - accuracy: 0.9182 - val_loss: 0.1983 - val_accuracy: 0.9190\n",
      "Epoch 9/20\n",
      "688/688 [==============================] - 14s 20ms/step - loss: 0.1549 - accuracy: 0.9186 - val_loss: 0.1935 - val_accuracy: 0.9179\n",
      "Epoch 10/20\n",
      "688/688 [==============================] - 14s 20ms/step - loss: 0.1538 - accuracy: 0.9188 - val_loss: 0.1918 - val_accuracy: 0.9190\n",
      "Epoch 11/20\n",
      "688/688 [==============================] - 14s 20ms/step - loss: 0.1534 - accuracy: 0.9187 - val_loss: 0.1913 - val_accuracy: 0.9193\n",
      "Epoch 12/20\n",
      "688/688 [==============================] - 14s 20ms/step - loss: 0.1523 - accuracy: 0.9191 - val_loss: 0.2008 - val_accuracy: 0.9196\n",
      "Epoch 13/20\n",
      "688/688 [==============================] - 14s 20ms/step - loss: 0.1515 - accuracy: 0.9191 - val_loss: 0.1859 - val_accuracy: 0.9202\n",
      "Epoch 14/20\n",
      "688/688 [==============================] - 14s 20ms/step - loss: 0.1510 - accuracy: 0.9194 - val_loss: 0.1898 - val_accuracy: 0.9205\n",
      "Epoch 15/20\n",
      "688/688 [==============================] - 14s 20ms/step - loss: 0.1515 - accuracy: 0.9191 - val_loss: 0.1932 - val_accuracy: 0.9180\n",
      "Epoch 16/20\n",
      "688/688 [==============================] - 14s 20ms/step - loss: 0.1512 - accuracy: 0.9193 - val_loss: 0.1900 - val_accuracy: 0.9205\n",
      "Epoch 17/20\n",
      "688/688 [==============================] - 14s 20ms/step - loss: 0.1500 - accuracy: 0.9197 - val_loss: 0.1872 - val_accuracy: 0.9193\n",
      "Epoch 18/20\n",
      "688/688 [==============================] - 14s 20ms/step - loss: 0.1501 - accuracy: 0.9193 - val_loss: 0.1891 - val_accuracy: 0.9195\n",
      "Epoch 19/20\n",
      "688/688 [==============================] - 14s 20ms/step - loss: 0.1495 - accuracy: 0.9198 - val_loss: 0.1936 - val_accuracy: 0.9207\n",
      "Epoch 20/20\n",
      "688/688 [==============================] - 14s 21ms/step - loss: 0.1493 - accuracy: 0.9200 - val_loss: 0.2390 - val_accuracy: 0.9203\n",
      "2388/2388 [==============================] - 3s 1ms/step - loss: 0.2382 - accuracy: 0.9206\n",
      "Epoch 1/20\n",
      "688/688 [==============================] - 15s 20ms/step - loss: 0.2256 - accuracy: 0.8981 - val_loss: 0.2414 - val_accuracy: 0.9132\n",
      "Epoch 2/20\n",
      "688/688 [==============================] - 13s 19ms/step - loss: 0.1741 - accuracy: 0.9133 - val_loss: 0.2229 - val_accuracy: 0.9147\n",
      "Epoch 3/20\n",
      "688/688 [==============================] - 13s 19ms/step - loss: 0.1677 - accuracy: 0.9148 - val_loss: 0.2164 - val_accuracy: 0.9170\n",
      "Epoch 4/20\n",
      "688/688 [==============================] - 13s 19ms/step - loss: 0.1640 - accuracy: 0.9161 - val_loss: 0.2246 - val_accuracy: 0.9161\n",
      "Epoch 5/20\n",
      "688/688 [==============================] - 13s 20ms/step - loss: 0.1610 - accuracy: 0.9171 - val_loss: 0.2221 - val_accuracy: 0.9167\n",
      "Epoch 6/20\n",
      "688/688 [==============================] - 13s 19ms/step - loss: 0.1589 - accuracy: 0.9176 - val_loss: 0.1997 - val_accuracy: 0.9189\n",
      "Epoch 7/20\n",
      "688/688 [==============================] - 13s 19ms/step - loss: 0.1573 - accuracy: 0.9180 - val_loss: 0.2136 - val_accuracy: 0.9193\n",
      "Epoch 8/20\n",
      "688/688 [==============================] - 14s 20ms/step - loss: 0.1554 - accuracy: 0.9185 - val_loss: 0.1991 - val_accuracy: 0.9194\n",
      "Epoch 9/20\n",
      "688/688 [==============================] - 13s 20ms/step - loss: 0.1548 - accuracy: 0.9184 - val_loss: 0.1960 - val_accuracy: 0.9203\n",
      "Epoch 10/20\n",
      "688/688 [==============================] - 13s 19ms/step - loss: 0.1536 - accuracy: 0.9187 - val_loss: 0.2109 - val_accuracy: 0.9200\n",
      "Epoch 11/20\n",
      "688/688 [==============================] - 13s 19ms/step - loss: 0.1528 - accuracy: 0.9186 - val_loss: 0.2169 - val_accuracy: 0.9204\n",
      "Epoch 12/20\n",
      "688/688 [==============================] - 13s 19ms/step - loss: 0.1520 - accuracy: 0.9192 - val_loss: 0.1991 - val_accuracy: 0.9201\n",
      "Epoch 13/20\n",
      "688/688 [==============================] - 13s 19ms/step - loss: 0.1520 - accuracy: 0.9191 - val_loss: 0.1958 - val_accuracy: 0.9185\n",
      "Epoch 14/20\n",
      "688/688 [==============================] - 13s 19ms/step - loss: 0.1512 - accuracy: 0.9192 - val_loss: 0.1889 - val_accuracy: 0.9210\n",
      "Epoch 15/20\n",
      "688/688 [==============================] - 13s 19ms/step - loss: 0.1507 - accuracy: 0.9191 - val_loss: 0.1981 - val_accuracy: 0.9181\n",
      "Epoch 16/20\n",
      "688/688 [==============================] - 13s 19ms/step - loss: 0.1505 - accuracy: 0.9194 - val_loss: 0.1912 - val_accuracy: 0.9206\n",
      "Epoch 17/20\n",
      "688/688 [==============================] - 13s 19ms/step - loss: 0.1496 - accuracy: 0.9196 - val_loss: 0.1944 - val_accuracy: 0.9215\n",
      "Epoch 18/20\n",
      "688/688 [==============================] - 13s 19ms/step - loss: 0.1498 - accuracy: 0.9195 - val_loss: 0.2039 - val_accuracy: 0.9206\n",
      "Epoch 19/20\n",
      "688/688 [==============================] - 13s 19ms/step - loss: 0.1494 - accuracy: 0.9196 - val_loss: 0.1888 - val_accuracy: 0.9204\n",
      "Epoch 20/20\n",
      "688/688 [==============================] - 13s 19ms/step - loss: 0.1495 - accuracy: 0.9197 - val_loss: 0.1818 - val_accuracy: 0.9210\n",
      "2388/2388 [==============================] - 3s 1ms/step - loss: 0.1843 - accuracy: 0.9211\n",
      "Epoch 1/20\n",
      "688/688 [==============================] - 14s 19ms/step - loss: 0.2216 - accuracy: 0.9020 - val_loss: 0.2244 - val_accuracy: 0.9117\n",
      "Epoch 2/20\n",
      "688/688 [==============================] - 13s 19ms/step - loss: 0.1733 - accuracy: 0.9135 - val_loss: 0.2148 - val_accuracy: 0.9133\n",
      "Epoch 3/20\n",
      "688/688 [==============================] - 13s 19ms/step - loss: 0.1674 - accuracy: 0.9147 - val_loss: 0.2097 - val_accuracy: 0.9138\n",
      "Epoch 4/20\n",
      "688/688 [==============================] - 13s 19ms/step - loss: 0.1637 - accuracy: 0.9157 - val_loss: 0.2125 - val_accuracy: 0.9153\n",
      "Epoch 5/20\n",
      "688/688 [==============================] - 13s 19ms/step - loss: 0.1607 - accuracy: 0.9169 - val_loss: 0.2032 - val_accuracy: 0.9166\n",
      "Epoch 6/20\n",
      "688/688 [==============================] - 13s 19ms/step - loss: 0.1581 - accuracy: 0.9177 - val_loss: 0.1936 - val_accuracy: 0.9172\n",
      "Epoch 7/20\n",
      "688/688 [==============================] - 13s 19ms/step - loss: 0.1568 - accuracy: 0.9181 - val_loss: 0.1941 - val_accuracy: 0.9179\n",
      "Epoch 8/20\n",
      "688/688 [==============================] - 13s 19ms/step - loss: 0.1554 - accuracy: 0.9186 - val_loss: 0.2097 - val_accuracy: 0.9172\n",
      "Epoch 9/20\n",
      "688/688 [==============================] - 13s 19ms/step - loss: 0.1540 - accuracy: 0.9189 - val_loss: 0.2009 - val_accuracy: 0.9171\n",
      "Epoch 10/20\n",
      "688/688 [==============================] - 13s 19ms/step - loss: 0.1528 - accuracy: 0.9191 - val_loss: 0.1975 - val_accuracy: 0.9183\n",
      "Epoch 11/20\n",
      "688/688 [==============================] - 13s 19ms/step - loss: 0.1525 - accuracy: 0.9189 - val_loss: 0.1994 - val_accuracy: 0.9168\n",
      "Epoch 12/20\n",
      "688/688 [==============================] - 13s 19ms/step - loss: 0.1518 - accuracy: 0.9193 - val_loss: 0.1916 - val_accuracy: 0.9155\n",
      "Epoch 13/20\n",
      "688/688 [==============================] - 13s 19ms/step - loss: 0.1512 - accuracy: 0.9192 - val_loss: 0.1980 - val_accuracy: 0.9162\n",
      "Epoch 14/20\n",
      "688/688 [==============================] - 13s 19ms/step - loss: 0.1504 - accuracy: 0.9195 - val_loss: 0.1997 - val_accuracy: 0.9188\n",
      "Epoch 15/20\n",
      "688/688 [==============================] - 13s 19ms/step - loss: 0.1504 - accuracy: 0.9195 - val_loss: 0.1993 - val_accuracy: 0.9170\n",
      "Epoch 16/20\n",
      "688/688 [==============================] - 13s 19ms/step - loss: 0.1501 - accuracy: 0.9197 - val_loss: 0.1927 - val_accuracy: 0.9180\n",
      "Epoch 17/20\n",
      "688/688 [==============================] - 13s 19ms/step - loss: 0.1497 - accuracy: 0.9198 - val_loss: 0.1870 - val_accuracy: 0.9188\n",
      "Epoch 18/20\n",
      "688/688 [==============================] - 13s 19ms/step - loss: 0.1488 - accuracy: 0.9200 - val_loss: 0.1897 - val_accuracy: 0.9187\n",
      "Epoch 19/20\n",
      "688/688 [==============================] - 13s 19ms/step - loss: 0.1490 - accuracy: 0.9199 - val_loss: 0.2179 - val_accuracy: 0.9183\n",
      "Epoch 20/20\n",
      "688/688 [==============================] - 13s 19ms/step - loss: 0.1484 - accuracy: 0.9201 - val_loss: 0.1879 - val_accuracy: 0.9195\n",
      "2388/2388 [==============================] - 3s 1ms/step - loss: 0.1882 - accuracy: 0.9192\n",
      "Epoch 1/20\n",
      "688/688 [==============================] - 14s 19ms/step - loss: 0.2268 - accuracy: 0.8998 - val_loss: 0.2167 - val_accuracy: 0.9133\n",
      "Epoch 2/20\n",
      "688/688 [==============================] - 13s 19ms/step - loss: 0.1738 - accuracy: 0.9132 - val_loss: 0.2183 - val_accuracy: 0.9150\n",
      "Epoch 3/20\n",
      "688/688 [==============================] - 13s 19ms/step - loss: 0.1678 - accuracy: 0.9145 - val_loss: 0.1998 - val_accuracy: 0.9151\n",
      "Epoch 4/20\n",
      "688/688 [==============================] - 13s 19ms/step - loss: 0.1641 - accuracy: 0.9154 - val_loss: 0.1975 - val_accuracy: 0.9175\n",
      "Epoch 5/20\n",
      "688/688 [==============================] - 13s 19ms/step - loss: 0.1618 - accuracy: 0.9163 - val_loss: 0.2016 - val_accuracy: 0.9172\n",
      "Epoch 6/20\n",
      "688/688 [==============================] - 13s 19ms/step - loss: 0.1587 - accuracy: 0.9176 - val_loss: 0.1998 - val_accuracy: 0.9192\n",
      "Epoch 7/20\n",
      "688/688 [==============================] - 13s 19ms/step - loss: 0.1576 - accuracy: 0.9177 - val_loss: 0.2008 - val_accuracy: 0.9185\n",
      "Epoch 8/20\n",
      "688/688 [==============================] - 13s 19ms/step - loss: 0.1556 - accuracy: 0.9181 - val_loss: 0.1987 - val_accuracy: 0.9190\n",
      "Epoch 9/20\n",
      "688/688 [==============================] - 13s 19ms/step - loss: 0.1542 - accuracy: 0.9188 - val_loss: 0.1995 - val_accuracy: 0.9199\n",
      "Epoch 10/20\n",
      "688/688 [==============================] - 13s 19ms/step - loss: 0.1535 - accuracy: 0.9185 - val_loss: 0.2079 - val_accuracy: 0.9203\n",
      "Epoch 11/20\n",
      "688/688 [==============================] - 13s 19ms/step - loss: 0.1529 - accuracy: 0.9188 - val_loss: 0.1913 - val_accuracy: 0.9204\n",
      "Epoch 12/20\n",
      "688/688 [==============================] - 13s 19ms/step - loss: 0.1521 - accuracy: 0.9189 - val_loss: 0.1923 - val_accuracy: 0.9207\n",
      "Epoch 13/20\n",
      "688/688 [==============================] - 13s 19ms/step - loss: 0.1516 - accuracy: 0.9193 - val_loss: 0.1984 - val_accuracy: 0.9200\n",
      "Epoch 14/20\n",
      "688/688 [==============================] - 13s 19ms/step - loss: 0.1510 - accuracy: 0.9194 - val_loss: 0.1888 - val_accuracy: 0.9205\n",
      "Epoch 15/20\n",
      "688/688 [==============================] - 13s 19ms/step - loss: 0.1508 - accuracy: 0.9193 - val_loss: 0.1846 - val_accuracy: 0.9206\n",
      "Epoch 16/20\n",
      "688/688 [==============================] - 13s 19ms/step - loss: 0.1503 - accuracy: 0.9195 - val_loss: 0.1897 - val_accuracy: 0.9203\n",
      "Epoch 17/20\n",
      "688/688 [==============================] - 13s 19ms/step - loss: 0.1500 - accuracy: 0.9195 - val_loss: 0.1910 - val_accuracy: 0.9208\n",
      "Epoch 18/20\n",
      "688/688 [==============================] - 13s 19ms/step - loss: 0.1498 - accuracy: 0.9196 - val_loss: 0.1906 - val_accuracy: 0.9203\n",
      "Epoch 19/20\n",
      "688/688 [==============================] - 13s 19ms/step - loss: 0.1492 - accuracy: 0.9199 - val_loss: 0.1915 - val_accuracy: 0.9205\n",
      "Epoch 20/20\n",
      "688/688 [==============================] - 13s 19ms/step - loss: 0.1488 - accuracy: 0.9199 - val_loss: 0.1903 - val_accuracy: 0.9213\n",
      "2388/2388 [==============================] - 3s 1ms/step - loss: 0.1907 - accuracy: 0.9210\n",
      "Epoch 1/20\n",
      "688/688 [==============================] - 14s 19ms/step - loss: 0.2287 - accuracy: 0.9006 - val_loss: 0.2209 - val_accuracy: 0.9133\n",
      "Epoch 2/20\n",
      "688/688 [==============================] - 13s 19ms/step - loss: 0.1743 - accuracy: 0.9137 - val_loss: 0.2140 - val_accuracy: 0.9138\n",
      "Epoch 3/20\n",
      "688/688 [==============================] - 13s 19ms/step - loss: 0.1688 - accuracy: 0.9147 - val_loss: 0.2130 - val_accuracy: 0.9145\n",
      "Epoch 4/20\n",
      "688/688 [==============================] - 13s 19ms/step - loss: 0.1652 - accuracy: 0.9158 - val_loss: 0.2081 - val_accuracy: 0.9158\n",
      "Epoch 5/20\n",
      "688/688 [==============================] - 13s 19ms/step - loss: 0.1623 - accuracy: 0.9165 - val_loss: 0.2023 - val_accuracy: 0.9163\n",
      "Epoch 6/20\n",
      "688/688 [==============================] - 13s 19ms/step - loss: 0.1608 - accuracy: 0.9169 - val_loss: 0.2010 - val_accuracy: 0.9175\n",
      "Epoch 7/20\n",
      "688/688 [==============================] - 13s 19ms/step - loss: 0.1585 - accuracy: 0.9175 - val_loss: 0.1992 - val_accuracy: 0.9192\n",
      "Epoch 8/20\n",
      "688/688 [==============================] - 13s 19ms/step - loss: 0.1566 - accuracy: 0.9181 - val_loss: 0.2001 - val_accuracy: 0.9193\n",
      "Epoch 9/20\n",
      "688/688 [==============================] - 13s 19ms/step - loss: 0.1555 - accuracy: 0.9182 - val_loss: 0.1896 - val_accuracy: 0.9196\n",
      "Epoch 10/20\n",
      "688/688 [==============================] - 13s 19ms/step - loss: 0.1549 - accuracy: 0.9184 - val_loss: 0.2013 - val_accuracy: 0.9184\n"
     ]
    },
    {
     "name": "stdout",
     "output_type": "stream",
     "text": [
      "Epoch 11/20\n",
      "688/688 [==============================] - 13s 19ms/step - loss: 0.1540 - accuracy: 0.9186 - val_loss: 0.1905 - val_accuracy: 0.9196\n",
      "Epoch 12/20\n",
      "688/688 [==============================] - 13s 19ms/step - loss: 0.1532 - accuracy: 0.9191 - val_loss: 0.1903 - val_accuracy: 0.9203\n",
      "Epoch 13/20\n",
      "688/688 [==============================] - 13s 19ms/step - loss: 0.1522 - accuracy: 0.9192 - val_loss: 0.1907 - val_accuracy: 0.9198\n",
      "Epoch 14/20\n",
      "688/688 [==============================] - 13s 19ms/step - loss: 0.1516 - accuracy: 0.9192 - val_loss: 0.1910 - val_accuracy: 0.9201\n",
      "Epoch 15/20\n",
      "688/688 [==============================] - 13s 19ms/step - loss: 0.1514 - accuracy: 0.9190 - val_loss: 0.2210 - val_accuracy: 0.9200\n",
      "Epoch 16/20\n",
      "688/688 [==============================] - 13s 19ms/step - loss: 0.1509 - accuracy: 0.9194 - val_loss: 0.2015 - val_accuracy: 0.9200\n",
      "Epoch 17/20\n",
      "688/688 [==============================] - 13s 19ms/step - loss: 0.1507 - accuracy: 0.9194 - val_loss: 0.1893 - val_accuracy: 0.9206\n",
      "Epoch 18/20\n",
      "688/688 [==============================] - 13s 19ms/step - loss: 0.1502 - accuracy: 0.9198 - val_loss: 0.1847 - val_accuracy: 0.9207\n",
      "Epoch 19/20\n",
      "688/688 [==============================] - 13s 19ms/step - loss: 0.1497 - accuracy: 0.9198 - val_loss: 0.1890 - val_accuracy: 0.9198\n",
      "Epoch 20/20\n",
      "688/688 [==============================] - 13s 19ms/step - loss: 0.1492 - accuracy: 0.9200 - val_loss: 0.1866 - val_accuracy: 0.9209\n",
      "2388/2388 [==============================] - 3s 1ms/step - loss: 0.1871 - accuracy: 0.9211\n",
      "Epoch 1/20\n",
      "688/688 [==============================] - 16s 22ms/step - loss: 0.2263 - accuracy: 0.9006 - val_loss: 0.2280 - val_accuracy: 0.9123\n",
      "Epoch 2/20\n",
      "688/688 [==============================] - 15s 22ms/step - loss: 0.1740 - accuracy: 0.9137 - val_loss: 0.2158 - val_accuracy: 0.9140\n",
      "Epoch 3/20\n",
      "688/688 [==============================] - 15s 22ms/step - loss: 0.1677 - accuracy: 0.9150 - val_loss: 0.2092 - val_accuracy: 0.9140\n",
      "Epoch 4/20\n",
      "688/688 [==============================] - 15s 22ms/step - loss: 0.1639 - accuracy: 0.9160 - val_loss: 0.1997 - val_accuracy: 0.9173\n",
      "Epoch 5/20\n",
      "688/688 [==============================] - 15s 22ms/step - loss: 0.1610 - accuracy: 0.9171 - val_loss: 0.2115 - val_accuracy: 0.9170\n",
      "Epoch 6/20\n",
      "688/688 [==============================] - 15s 22ms/step - loss: 0.1582 - accuracy: 0.9178 - val_loss: 0.1959 - val_accuracy: 0.9181\n",
      "Epoch 7/20\n",
      "688/688 [==============================] - 15s 22ms/step - loss: 0.1566 - accuracy: 0.9181 - val_loss: 0.1998 - val_accuracy: 0.9188\n",
      "Epoch 8/20\n",
      "688/688 [==============================] - 15s 21ms/step - loss: 0.1556 - accuracy: 0.9184 - val_loss: 0.1955 - val_accuracy: 0.9176\n",
      "Epoch 9/20\n",
      "688/688 [==============================] - 15s 21ms/step - loss: 0.1542 - accuracy: 0.9188 - val_loss: 0.2156 - val_accuracy: 0.9181\n",
      "Epoch 10/20\n",
      "688/688 [==============================] - 15s 21ms/step - loss: 0.1533 - accuracy: 0.9189 - val_loss: 0.1973 - val_accuracy: 0.9189\n",
      "Epoch 11/20\n",
      "688/688 [==============================] - 15s 21ms/step - loss: 0.1525 - accuracy: 0.9190 - val_loss: 0.1968 - val_accuracy: 0.9194\n",
      "Epoch 12/20\n",
      "688/688 [==============================] - 15s 22ms/step - loss: 0.1518 - accuracy: 0.9189 - val_loss: 0.2010 - val_accuracy: 0.9188\n",
      "Epoch 13/20\n",
      "688/688 [==============================] - 15s 21ms/step - loss: 0.1515 - accuracy: 0.9191 - val_loss: 0.1889 - val_accuracy: 0.9192\n",
      "Epoch 14/20\n",
      "688/688 [==============================] - 15s 21ms/step - loss: 0.1513 - accuracy: 0.9189 - val_loss: 0.1884 - val_accuracy: 0.9186\n",
      "Epoch 15/20\n",
      "688/688 [==============================] - 15s 21ms/step - loss: 0.1503 - accuracy: 0.9196 - val_loss: 0.1940 - val_accuracy: 0.9194\n",
      "Epoch 16/20\n",
      "688/688 [==============================] - 15s 21ms/step - loss: 0.1505 - accuracy: 0.9195 - val_loss: 0.2031 - val_accuracy: 0.9199\n",
      "Epoch 17/20\n",
      "688/688 [==============================] - 15s 22ms/step - loss: 0.1499 - accuracy: 0.9197 - val_loss: 0.1910 - val_accuracy: 0.9194\n",
      "Epoch 18/20\n",
      "688/688 [==============================] - 15s 22ms/step - loss: 0.1495 - accuracy: 0.9199 - val_loss: 0.1961 - val_accuracy: 0.9209\n",
      "Epoch 19/20\n",
      "688/688 [==============================] - 15s 21ms/step - loss: 0.1494 - accuracy: 0.9197 - val_loss: 0.1869 - val_accuracy: 0.9202\n",
      "Epoch 20/20\n",
      "688/688 [==============================] - 15s 21ms/step - loss: 0.1490 - accuracy: 0.9200 - val_loss: 0.1877 - val_accuracy: 0.9198\n",
      "2388/2388 [==============================] - 3s 1ms/step - loss: 0.1874 - accuracy: 0.9199\n",
      "Epoch 1/20\n",
      "688/688 [==============================] - 16s 21ms/step - loss: 0.2261 - accuracy: 0.9011 - val_loss: 0.2174 - val_accuracy: 0.9123\n",
      "Epoch 2/20\n",
      "688/688 [==============================] - 14s 21ms/step - loss: 0.1744 - accuracy: 0.9136 - val_loss: 0.2204 - val_accuracy: 0.9135\n",
      "Epoch 3/20\n",
      "688/688 [==============================] - 14s 21ms/step - loss: 0.1687 - accuracy: 0.9147 - val_loss: 0.2079 - val_accuracy: 0.9150\n",
      "Epoch 4/20\n",
      "688/688 [==============================] - 14s 21ms/step - loss: 0.1645 - accuracy: 0.9160 - val_loss: 0.2092 - val_accuracy: 0.9163\n",
      "Epoch 5/20\n",
      "688/688 [==============================] - 14s 21ms/step - loss: 0.1619 - accuracy: 0.9168 - val_loss: 0.2077 - val_accuracy: 0.9175\n",
      "Epoch 6/20\n",
      "688/688 [==============================] - 14s 21ms/step - loss: 0.1600 - accuracy: 0.9173 - val_loss: 0.2093 - val_accuracy: 0.9181\n",
      "Epoch 7/20\n",
      "688/688 [==============================] - 14s 21ms/step - loss: 0.1580 - accuracy: 0.9177 - val_loss: 0.2006 - val_accuracy: 0.9190\n",
      "Epoch 8/20\n",
      "688/688 [==============================] - 14s 21ms/step - loss: 0.1560 - accuracy: 0.9184 - val_loss: 0.2013 - val_accuracy: 0.9180\n",
      "Epoch 9/20\n",
      "688/688 [==============================] - 14s 21ms/step - loss: 0.1551 - accuracy: 0.9188 - val_loss: 0.1885 - val_accuracy: 0.9197\n",
      "Epoch 10/20\n",
      "688/688 [==============================] - 14s 21ms/step - loss: 0.1540 - accuracy: 0.9187 - val_loss: 0.1969 - val_accuracy: 0.9194\n",
      "Epoch 11/20\n",
      "688/688 [==============================] - 14s 21ms/step - loss: 0.1530 - accuracy: 0.9191 - val_loss: 0.1941 - val_accuracy: 0.9191\n",
      "Epoch 12/20\n",
      "688/688 [==============================] - 14s 21ms/step - loss: 0.1527 - accuracy: 0.9190 - val_loss: 0.1915 - val_accuracy: 0.9195\n",
      "Epoch 13/20\n",
      "688/688 [==============================] - 14s 21ms/step - loss: 0.1520 - accuracy: 0.9193 - val_loss: 0.2035 - val_accuracy: 0.9196\n",
      "Epoch 14/20\n",
      "688/688 [==============================] - 14s 21ms/step - loss: 0.1518 - accuracy: 0.9193 - val_loss: 0.1898 - val_accuracy: 0.9186\n",
      "Epoch 15/20\n",
      "688/688 [==============================] - 14s 21ms/step - loss: 0.1512 - accuracy: 0.9194 - val_loss: 0.1862 - val_accuracy: 0.9194\n",
      "Epoch 16/20\n",
      "688/688 [==============================] - 14s 21ms/step - loss: 0.1505 - accuracy: 0.9195 - val_loss: 0.1903 - val_accuracy: 0.9202\n",
      "Epoch 17/20\n",
      "688/688 [==============================] - 14s 21ms/step - loss: 0.1509 - accuracy: 0.9195 - val_loss: 0.2037 - val_accuracy: 0.9196\n",
      "Epoch 18/20\n",
      "688/688 [==============================] - 14s 21ms/step - loss: 0.1500 - accuracy: 0.9197 - val_loss: 0.2020 - val_accuracy: 0.9205\n",
      "Epoch 19/20\n",
      "688/688 [==============================] - 14s 21ms/step - loss: 0.1495 - accuracy: 0.9197 - val_loss: 0.1965 - val_accuracy: 0.9208\n",
      "Epoch 20/20\n",
      "688/688 [==============================] - 14s 21ms/step - loss: 0.1495 - accuracy: 0.9201 - val_loss: 0.1819 - val_accuracy: 0.9203\n",
      "2388/2388 [==============================] - 3s 1ms/step - loss: 0.1815 - accuracy: 0.9204\n",
      "Epoch 1/20\n",
      "688/688 [==============================] - 15s 21ms/step - loss: 0.2225 - accuracy: 0.9004 - val_loss: 0.2255 - val_accuracy: 0.9123\n",
      "Epoch 2/20\n",
      "688/688 [==============================] - 14s 20ms/step - loss: 0.1728 - accuracy: 0.9138 - val_loss: 0.2128 - val_accuracy: 0.9140\n",
      "Epoch 3/20\n",
      "688/688 [==============================] - 14s 20ms/step - loss: 0.1670 - accuracy: 0.9152 - val_loss: 0.2127 - val_accuracy: 0.9147\n",
      "Epoch 4/20\n",
      "688/688 [==============================] - 14s 20ms/step - loss: 0.1635 - accuracy: 0.9160 - val_loss: 0.2035 - val_accuracy: 0.9168\n",
      "Epoch 5/20\n",
      "688/688 [==============================] - 14s 20ms/step - loss: 0.1603 - accuracy: 0.9171 - val_loss: 0.1975 - val_accuracy: 0.9168\n"
     ]
    },
    {
     "name": "stdout",
     "output_type": "stream",
     "text": [
      "Epoch 6/20\n",
      "688/688 [==============================] - 14s 20ms/step - loss: 0.1581 - accuracy: 0.9178 - val_loss: 0.2058 - val_accuracy: 0.9170\n",
      "Epoch 7/20\n",
      "688/688 [==============================] - 14s 20ms/step - loss: 0.1574 - accuracy: 0.9180 - val_loss: 0.1961 - val_accuracy: 0.9181\n",
      "Epoch 8/20\n",
      "688/688 [==============================] - 14s 20ms/step - loss: 0.1555 - accuracy: 0.9185 - val_loss: 0.1915 - val_accuracy: 0.9179\n",
      "Epoch 9/20\n",
      "688/688 [==============================] - 14s 21ms/step - loss: 0.1546 - accuracy: 0.9184 - val_loss: 0.2054 - val_accuracy: 0.9188\n",
      "Epoch 10/20\n",
      "688/688 [==============================] - 14s 20ms/step - loss: 0.1537 - accuracy: 0.9187 - val_loss: 0.1886 - val_accuracy: 0.9190\n",
      "Epoch 11/20\n",
      "688/688 [==============================] - 14s 20ms/step - loss: 0.1524 - accuracy: 0.9191 - val_loss: 0.1908 - val_accuracy: 0.9192\n",
      "Epoch 12/20\n",
      "688/688 [==============================] - 14s 20ms/step - loss: 0.1521 - accuracy: 0.9191 - val_loss: 0.1956 - val_accuracy: 0.9163\n",
      "Epoch 13/20\n",
      "688/688 [==============================] - 14s 20ms/step - loss: 0.1518 - accuracy: 0.9192 - val_loss: 0.1913 - val_accuracy: 0.9200\n",
      "Epoch 14/20\n",
      "688/688 [==============================] - 14s 20ms/step - loss: 0.1510 - accuracy: 0.9193 - val_loss: 0.1935 - val_accuracy: 0.9174\n",
      "Epoch 15/20\n",
      "688/688 [==============================] - 14s 20ms/step - loss: 0.1510 - accuracy: 0.9193 - val_loss: 0.1860 - val_accuracy: 0.9194\n",
      "Epoch 16/20\n",
      "688/688 [==============================] - 14s 20ms/step - loss: 0.1503 - accuracy: 0.9194 - val_loss: 0.1863 - val_accuracy: 0.9196\n",
      "Epoch 17/20\n",
      "688/688 [==============================] - 14s 20ms/step - loss: 0.1502 - accuracy: 0.9194 - val_loss: 0.1873 - val_accuracy: 0.9192\n",
      "Epoch 18/20\n",
      "688/688 [==============================] - 14s 21ms/step - loss: 0.1497 - accuracy: 0.9198 - val_loss: 0.1892 - val_accuracy: 0.9202\n",
      "Epoch 19/20\n",
      "688/688 [==============================] - 14s 21ms/step - loss: 0.1495 - accuracy: 0.9197 - val_loss: 0.1896 - val_accuracy: 0.9201\n",
      "Epoch 20/20\n",
      "688/688 [==============================] - 14s 20ms/step - loss: 0.1492 - accuracy: 0.9197 - val_loss: 0.1831 - val_accuracy: 0.9191\n",
      "2388/2388 [==============================] - 3s 1ms/step - loss: 0.1837 - accuracy: 0.9190\n",
      "Epoch 1/20\n",
      "688/688 [==============================] - 15s 20ms/step - loss: 0.2256 - accuracy: 0.9017 - val_loss: 0.2300 - val_accuracy: 0.9123\n",
      "Epoch 2/20\n",
      "688/688 [==============================] - 14s 20ms/step - loss: 0.1742 - accuracy: 0.9136 - val_loss: 0.2124 - val_accuracy: 0.9145\n",
      "Epoch 3/20\n",
      "688/688 [==============================] - 14s 20ms/step - loss: 0.1670 - accuracy: 0.9151 - val_loss: 0.2047 - val_accuracy: 0.9150\n",
      "Epoch 4/20\n",
      "688/688 [==============================] - 14s 20ms/step - loss: 0.1629 - accuracy: 0.9165 - val_loss: 0.2121 - val_accuracy: 0.9169\n",
      "Epoch 5/20\n",
      "688/688 [==============================] - 14s 20ms/step - loss: 0.1599 - accuracy: 0.9174 - val_loss: 0.1964 - val_accuracy: 0.9166\n",
      "Epoch 6/20\n",
      "688/688 [==============================] - 14s 20ms/step - loss: 0.1582 - accuracy: 0.9177 - val_loss: 0.1958 - val_accuracy: 0.9179\n",
      "Epoch 7/20\n",
      "688/688 [==============================] - 14s 20ms/step - loss: 0.1565 - accuracy: 0.9182 - val_loss: 0.1976 - val_accuracy: 0.9180\n",
      "Epoch 8/20\n",
      "688/688 [==============================] - 14s 20ms/step - loss: 0.1552 - accuracy: 0.9185 - val_loss: 0.1985 - val_accuracy: 0.9186\n",
      "Epoch 9/20\n",
      "688/688 [==============================] - 14s 20ms/step - loss: 0.1538 - accuracy: 0.9188 - val_loss: 0.1969 - val_accuracy: 0.9192\n",
      "Epoch 10/20\n",
      "688/688 [==============================] - 14s 20ms/step - loss: 0.1534 - accuracy: 0.9187 - val_loss: 0.1961 - val_accuracy: 0.9185\n",
      "Epoch 11/20\n",
      "688/688 [==============================] - 14s 20ms/step - loss: 0.1523 - accuracy: 0.9190 - val_loss: 0.1959 - val_accuracy: 0.9190\n",
      "Epoch 12/20\n",
      "688/688 [==============================] - 14s 20ms/step - loss: 0.1521 - accuracy: 0.9193 - val_loss: 0.1967 - val_accuracy: 0.9186\n",
      "Epoch 13/20\n",
      "688/688 [==============================] - 14s 20ms/step - loss: 0.1517 - accuracy: 0.9191 - val_loss: 0.1916 - val_accuracy: 0.9192\n",
      "Epoch 14/20\n",
      "688/688 [==============================] - 14s 20ms/step - loss: 0.1510 - accuracy: 0.9193 - val_loss: 0.1955 - val_accuracy: 0.9189\n",
      "Epoch 15/20\n",
      "688/688 [==============================] - 14s 20ms/step - loss: 0.1508 - accuracy: 0.9195 - val_loss: 0.1936 - val_accuracy: 0.9190\n",
      "Epoch 16/20\n",
      "688/688 [==============================] - 14s 20ms/step - loss: 0.1505 - accuracy: 0.9196 - val_loss: 0.1948 - val_accuracy: 0.9195\n",
      "Epoch 17/20\n",
      "688/688 [==============================] - 14s 20ms/step - loss: 0.1505 - accuracy: 0.9198 - val_loss: 0.1980 - val_accuracy: 0.9196\n",
      "Epoch 18/20\n",
      "688/688 [==============================] - 14s 20ms/step - loss: 0.1492 - accuracy: 0.9202 - val_loss: 0.1869 - val_accuracy: 0.9205\n",
      "Epoch 19/20\n",
      "688/688 [==============================] - 14s 20ms/step - loss: 0.1498 - accuracy: 0.9202 - val_loss: 0.2102 - val_accuracy: 0.9172\n",
      "Epoch 20/20\n",
      "688/688 [==============================] - 14s 20ms/step - loss: 0.1489 - accuracy: 0.9202 - val_loss: 0.1889 - val_accuracy: 0.9203\n",
      "2388/2388 [==============================] - 3s 1ms/step - loss: 0.1889 - accuracy: 0.9202\n",
      "0.09200797617435455\n",
      "0.27602407137171014\n"
     ]
    }
   ],
   "source": [
    "from sklearn.model_selection import StratifiedKFold\n",
    "batch_size = 1000\n",
    "epochs = 20\n",
    "n_nodes = 100\n",
    "n_layers = 6\n",
    "input_shape = Xtrain.shape[1]\n",
    "acca = np.zeros(10)\n",
    "\n",
    "\n",
    "# Define 10-fold cross validation\n",
    "fold = StratifiedKFold(10)\n",
    "# Loop over cross validation folds\n",
    "i = 0\n",
    "for train_index, test_index in fold.split(X, Y):\n",
    "\n",
    "    Xtrain, Ytrain, Xtest, Ytest = X[train_index], Y[train_index], X[test_index], Y[test_index]\n",
    "    \n",
    "    # Calculate class weights for current split\n",
    "    class_weights = class_weight.compute_class_weight(\"balanced\", np.unique(Ytrain), Ytrain)\n",
    "    class_weights = {j: class_weights[j] for j in [0,1]} \n",
    "    \n",
    "    # Rebuild the DNN model, to not continue training on the previously trained model\n",
    "    modelcv = build_DNN(input_shape,n_layers,n_nodes,learning_rate=0.001 , use_bn=True, act_fun = 'relu', optimizer = 'adam', use_custom_dropout = True)\n",
    "    \n",
    "    # Fit the model with training set and class weights for this fold\n",
    "    historycv = modelcv.fit(x=Xtrain, y=Ytrain , batch_size=batch_size , validation_data = (Xtest,Ytest), epochs = epochs, class_weight=class_weights ) \n",
    "    \n",
    "    # Evaluate the model using the test set for this fold\n",
    "    score = modelcv.evaluate(Xtest,Ytest)\n",
    "    \n",
    "    # Save the test accuracy in an array\n",
    "    acca[i] = score[1]\n",
    "    \n",
    "    i=i+1\n",
    "\n",
    "# Calculate and print mean and std of accuracies\n",
    "print(np.mean(acca))\n",
    "print(np.std(acca))\n",
    "\n"
   ]
  },
  {
   "cell_type": "markdown",
   "metadata": {},
   "source": [
    "# Part 22: DNN regression\n",
    "\n",
    "A similar DNN can be used for regression, instead of classification.\n",
    "\n",
    "Question 21: How would you change the DNN in order to use it for regression instead?"
   ]
  },
  {
   "cell_type": "markdown",
   "metadata": {},
   "source": [
    "Answer:\n",
    "\n",
    "Q21: We should not use any activation function in the ouput so that the activation will be linear."
   ]
  },
  {
   "cell_type": "markdown",
   "metadata": {},
   "source": [
    "## Report\n",
    "\n",
    "Send in this jupyter notebook, with answers to all questions."
   ]
  }
 ],
 "metadata": {
  "kernelspec": {
   "display_name": "Python 3 (ipykernel)",
   "language": "python",
   "name": "python3"
  },
  "language_info": {
   "codemirror_mode": {
    "name": "ipython",
    "version": 3
   },
   "file_extension": ".py",
   "mimetype": "text/x-python",
   "name": "python",
   "nbconvert_exporter": "python",
   "pygments_lexer": "ipython3",
   "version": "3.8.13"
  }
 },
 "nbformat": 4,
 "nbformat_minor": 4
}
